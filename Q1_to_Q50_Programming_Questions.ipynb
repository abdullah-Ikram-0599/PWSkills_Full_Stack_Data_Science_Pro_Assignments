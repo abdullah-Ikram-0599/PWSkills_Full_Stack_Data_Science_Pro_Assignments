{
  "cells": [
    {
      "cell_type": "markdown",
      "id": "91a1d8cf",
      "metadata": {
        "id": "91a1d8cf"
      },
      "source": [
        "## Module Assignment"
      ]
    },
    {
      "cell_type": "markdown",
      "id": "a24462b4",
      "metadata": {
        "id": "a24462b4"
      },
      "source": [
        "### Question 1.1.: Write the answer to these questions:\n",
        "### Note: Give at least one example for each of the questions.\n"
      ]
    },
    {
      "cell_type": "markdown",
      "id": "ee137bff",
      "metadata": {
        "id": "ee137bff"
      },
      "source": [
        "#### I. What is the difference between static and dynamic variables in Python?\n",
        "\n",
        "#### Ans.\n",
        "\n",
        "##### Static Variables:\n",
        "\n",
        "    i. Declared inside a class but outside any methods.\n",
        "    \n",
        "    ii. Shared among all instances of the class."
      ]
    },
    {
      "cell_type": "code",
      "execution_count": null,
      "id": "57d46dd2",
      "metadata": {
        "colab": {
          "base_uri": "https://localhost:8080/"
        },
        "id": "57d46dd2",
        "outputId": "0eca4eba-733e-4812-8472-5090b2719d31"
      },
      "outputs": [
        {
          "output_type": "stream",
          "name": "stdout",
          "text": [
            "10\n",
            "10\n",
            "10\n"
          ]
        }
      ],
      "source": [
        "# Example of static variables\n",
        "class MyClass:\n",
        "    static_var = 10\n",
        "    def __init__(self, value):\n",
        "        self.instance_var = value\n",
        "\n",
        "obj1 = MyClass(1)\n",
        "obj2 = MyClass(2)\n",
        "\n",
        "print(MyClass.static_var)  # 10\n",
        "print(obj1.static_var)     # 10\n",
        "print(obj2.static_var)     # 10"
      ]
    },
    {
      "cell_type": "markdown",
      "id": "1146c446",
      "metadata": {
        "id": "1146c446"
      },
      "source": [
        "##### Dynamic Variables:\n",
        "\n",
        "    i. Declared inside methods.\n",
        "    \n",
        "    ii. Unique to each instance of the class.\n"
      ]
    },
    {
      "cell_type": "code",
      "execution_count": null,
      "id": "6ec9406b",
      "metadata": {
        "colab": {
          "base_uri": "https://localhost:8080/"
        },
        "id": "6ec9406b",
        "outputId": "819cff28-b0fb-43bf-f93d-84aeda65d2a4"
      },
      "outputs": [
        {
          "output_type": "stream",
          "name": "stdout",
          "text": [
            "1\n",
            "2\n"
          ]
        }
      ],
      "source": [
        "# Example of dynamic variables\n",
        "class MyClass:\n",
        "    def __init__(self, value):\n",
        "        self.instance_var = value\n",
        "\n",
        "obj1 = MyClass(1)\n",
        "obj2 = MyClass(2)\n",
        "\n",
        "print(obj1.instance_var)  # 1\n",
        "print(obj2.instance_var)  # 2"
      ]
    },
    {
      "cell_type": "markdown",
      "id": "c6bbf4bb",
      "metadata": {
        "id": "c6bbf4bb"
      },
      "source": [
        "#### II. Explain the purpose of \"pop\", \"popitem\", \"clear()\" in a dictionary with suitable examples.\n",
        "\n",
        "##### Ans.\n",
        "\n",
        "##### pop(): Removes the item with the specified key and returns its value."
      ]
    },
    {
      "cell_type": "code",
      "execution_count": null,
      "id": "fb201257",
      "metadata": {
        "colab": {
          "base_uri": "https://localhost:8080/"
        },
        "id": "fb201257",
        "outputId": "dd30094f-2bfc-42a0-b3f1-14c24a7cc923"
      },
      "outputs": [
        {
          "output_type": "stream",
          "name": "stdout",
          "text": [
            "2\n",
            "{'a': 1, 'c': 3}\n"
          ]
        }
      ],
      "source": [
        "my_dict = {'a': 1, 'b': 2, 'c': 3}\n",
        "value = my_dict.pop('b')\n",
        "print(value)       # 2\n",
        "print(my_dict)     # {'a': 1, 'c': 3}"
      ]
    },
    {
      "cell_type": "markdown",
      "id": "3c26fa9f",
      "metadata": {
        "id": "3c26fa9f"
      },
      "source": [
        "##### popitem(): Removes and returns the last inserted item (key, value)."
      ]
    },
    {
      "cell_type": "code",
      "execution_count": null,
      "id": "26d3001e",
      "metadata": {
        "colab": {
          "base_uri": "https://localhost:8080/"
        },
        "id": "26d3001e",
        "outputId": "b7333b8c-47f2-4226-90a1-8f6d439c4dd1"
      },
      "outputs": [
        {
          "output_type": "stream",
          "name": "stdout",
          "text": [
            "('c', 3)\n",
            "{'a': 1, 'b': 2}\n"
          ]
        }
      ],
      "source": [
        "my_dict = {'a': 1, 'b': 2, 'c': 3}\n",
        "item = my_dict.popitem()\n",
        "print(item)        # ('c', 3)\n",
        "print(my_dict)     # {'a': 1, 'b': 2}"
      ]
    },
    {
      "cell_type": "markdown",
      "id": "3ca9d505",
      "metadata": {
        "id": "3ca9d505"
      },
      "source": [
        "##### clear(): Removes all items from the dictionary."
      ]
    },
    {
      "cell_type": "code",
      "execution_count": null,
      "id": "75e4f24e",
      "metadata": {
        "colab": {
          "base_uri": "https://localhost:8080/"
        },
        "id": "75e4f24e",
        "outputId": "bcf455b3-1a81-4ea7-c366-6f8a29644429"
      },
      "outputs": [
        {
          "output_type": "stream",
          "name": "stdout",
          "text": [
            "{}\n"
          ]
        }
      ],
      "source": [
        "my_dict = {'a': 1, 'b': 2, 'c': 3}\n",
        "my_dict.clear()\n",
        "print(my_dict)     # {}"
      ]
    },
    {
      "cell_type": "markdown",
      "id": "177534c2",
      "metadata": {
        "id": "177534c2"
      },
      "source": [
        "#### III. What do you mean by FrozenSet? Explain it with suitable examples.\n",
        "\n",
        "##### Ans.\n",
        "\n",
        "##### FrozenSet: Immutable version of a set. It cannot be modified after creation."
      ]
    },
    {
      "cell_type": "code",
      "execution_count": null,
      "id": "93c2fac9",
      "metadata": {
        "colab": {
          "base_uri": "https://localhost:8080/"
        },
        "id": "93c2fac9",
        "outputId": "27150e79-9797-4eae-f742-577f5edaeaa3"
      },
      "outputs": [
        {
          "output_type": "stream",
          "name": "stdout",
          "text": [
            "frozenset({1, 2, 3, 4})\n"
          ]
        }
      ],
      "source": [
        "# Example of frozenset.\n",
        "my_set = frozenset([1, 2, 3, 4])\n",
        "print(my_set)     # frozenset({1, 2, 3, 4})\n",
        "# my_set.add(5)   # AttributeError: 'frozenset' object has no attribute 'add'"
      ]
    },
    {
      "cell_type": "markdown",
      "id": "0664b666",
      "metadata": {
        "id": "0664b666"
      },
      "source": [
        "#### IV. Differentiate between mutable and immutable data types in Python and give examples of mutable and immutable data types.\n",
        "\n",
        "##### Ans.\n",
        "\n",
        "##### Mutable Data Types: Can be changed after creation.\n",
        "\n",
        "#####             Examples: list, dict, set"
      ]
    },
    {
      "cell_type": "code",
      "execution_count": null,
      "id": "c68c9926",
      "metadata": {
        "colab": {
          "base_uri": "https://localhost:8080/"
        },
        "id": "c68c9926",
        "outputId": "f8d35a29-1e49-4666-de0a-51157763a9cd"
      },
      "outputs": [
        {
          "output_type": "stream",
          "name": "stdout",
          "text": [
            "[1, 2, 3, 4]\n"
          ]
        }
      ],
      "source": [
        "# Example\n",
        "my_list = [1, 2, 3]\n",
        "my_list.append(4)\n",
        "print(my_list)  # [1, 2, 3, 4]"
      ]
    },
    {
      "cell_type": "markdown",
      "id": "6d737f58",
      "metadata": {
        "id": "6d737f58"
      },
      "source": [
        "##### Immutable Data Types: Cannot be changed after creation.\n",
        "\n",
        "##### Examples: int, float, tuple, str, frozenset"
      ]
    },
    {
      "cell_type": "code",
      "execution_count": null,
      "id": "f30e3d2c",
      "metadata": {
        "colab": {
          "base_uri": "https://localhost:8080/"
        },
        "id": "f30e3d2c",
        "outputId": "89f2a86d-a488-43c3-cae7-4e66b5c4531a"
      },
      "outputs": [
        {
          "output_type": "stream",
          "name": "stdout",
          "text": [
            "(1, 2, 3)\n"
          ]
        }
      ],
      "source": [
        "# Example\n",
        "my_tuple = (1, 2, 3)\n",
        "# my_tuple[0] = 4  # TypeError: 'tuple' object does not support item assignment\n",
        "print(my_tuple)  # (1, 2, 3)"
      ]
    },
    {
      "cell_type": "markdown",
      "id": "be413d6b",
      "metadata": {
        "id": "be413d6b"
      },
      "source": [
        "#### V. What is init? Explain with an example.\n",
        "\n",
        "##### Ans.\n",
        "\n",
        "##### init: Special method in Python classes, called a constructor. It initializes the object's attributes."
      ]
    },
    {
      "cell_type": "code",
      "execution_count": null,
      "id": "caf49e4f",
      "metadata": {
        "colab": {
          "base_uri": "https://localhost:8080/"
        },
        "id": "caf49e4f",
        "outputId": "2305f8b7-860d-446b-8b52-343e5e369d84"
      },
      "outputs": [
        {
          "output_type": "stream",
          "name": "stdout",
          "text": [
            "5\n"
          ]
        }
      ],
      "source": [
        "# Example\n",
        "class MyClass:\n",
        "    def __init__(self, value):\n",
        "        self.value = value\n",
        "\n",
        "obj = MyClass(5)\n",
        "print(obj.value)  # 5"
      ]
    },
    {
      "cell_type": "markdown",
      "id": "ef6641d5",
      "metadata": {
        "id": "ef6641d5"
      },
      "source": [
        "#### VI. What is docstring in Python? Explain with an example.\n",
        "\n",
        "##### Ans.\n",
        "\n",
        "##### Docstring: String literal that occurs as the first statement in a module, function, class, or method definition. Used for documentation."
      ]
    },
    {
      "cell_type": "code",
      "execution_count": null,
      "id": "33817933",
      "metadata": {
        "colab": {
          "base_uri": "https://localhost:8080/"
        },
        "id": "33817933",
        "outputId": "b4c7a3ae-8f34-446e-d45d-83711d2d3d78"
      },
      "outputs": [
        {
          "output_type": "stream",
          "name": "stdout",
          "text": [
            "This is a docstring.\n"
          ]
        }
      ],
      "source": [
        "# Example\n",
        "def my_function():\n",
        "    \"\"\"This is a docstring.\"\"\"\n",
        "    pass\n",
        "\n",
        "print(my_function.__doc__)  # This is a docstring."
      ]
    },
    {
      "cell_type": "markdown",
      "id": "260af0fd",
      "metadata": {
        "id": "260af0fd"
      },
      "source": [
        "#### VII. What are unit tests in Python?\n",
        "\n",
        "##### Ans.\n",
        "\n",
        "##### Unit Tests: Tests that validate the behavior of small, individual parts of a program, such as functions or methods."
      ]
    },
    {
      "cell_type": "code",
      "execution_count": null,
      "id": "6863cbf3",
      "metadata": {
        "id": "6863cbf3"
      },
      "outputs": [],
      "source": [
        "# Example\n",
        "import unittest\n",
        "\n",
        "import unittest\n",
        "\n",
        "def add(a, b):\n",
        "    return a + b\n",
        "\n",
        "class TestAddFunction(unittest.TestCase):\n",
        "    def test_add(self):\n",
        "        self.assertEqual(add(2, 3), 5)\n",
        "\n",
        "# if __name__ == '__main__':\n",
        "#     unittest.main()"
      ]
    },
    {
      "cell_type": "markdown",
      "id": "8ee4d007",
      "metadata": {
        "id": "8ee4d007"
      },
      "source": [
        "#### VIII. What is break, continue, and pass in Python?\n",
        "\n",
        "##### Ans.\n",
        "\n",
        "##### break: Terminates the nearest enclosing loop."
      ]
    },
    {
      "cell_type": "code",
      "execution_count": null,
      "id": "31709fa1",
      "metadata": {
        "colab": {
          "base_uri": "https://localhost:8080/"
        },
        "id": "31709fa1",
        "outputId": "a0b595fd-ee0b-4310-ccf4-a34640ff363b"
      },
      "outputs": [
        {
          "output_type": "stream",
          "name": "stdout",
          "text": [
            "0\n",
            "1\n",
            "2\n"
          ]
        }
      ],
      "source": [
        "# Example\n",
        "for i in range(5):\n",
        "    if i == 3:\n",
        "        break\n",
        "    print(i)  # 0, 1, 2"
      ]
    },
    {
      "cell_type": "markdown",
      "id": "6d3a449d",
      "metadata": {
        "id": "6d3a449d"
      },
      "source": [
        "##### continue: Skips the current iteration and continues with the next."
      ]
    },
    {
      "cell_type": "code",
      "execution_count": null,
      "id": "050644bd",
      "metadata": {
        "colab": {
          "base_uri": "https://localhost:8080/"
        },
        "id": "050644bd",
        "outputId": "46a9e304-1079-432f-a3f4-ecae594dc22e"
      },
      "outputs": [
        {
          "output_type": "stream",
          "name": "stdout",
          "text": [
            "0\n",
            "1\n",
            "2\n",
            "4\n"
          ]
        }
      ],
      "source": [
        "for i in range(5):\n",
        "    if i == 3:\n",
        "        continue\n",
        "    print(i)  # 0, 1, 2, 4"
      ]
    },
    {
      "cell_type": "markdown",
      "id": "e364a7f8",
      "metadata": {
        "id": "e364a7f8"
      },
      "source": [
        "##### pass: Does nothing; used as a placeholder."
      ]
    },
    {
      "cell_type": "code",
      "execution_count": null,
      "id": "710fa7f6",
      "metadata": {
        "colab": {
          "base_uri": "https://localhost:8080/"
        },
        "id": "710fa7f6",
        "outputId": "61f6df41-d674-4924-bf98-73123985534a"
      },
      "outputs": [
        {
          "output_type": "stream",
          "name": "stdout",
          "text": [
            "0\n",
            "1\n",
            "2\n",
            "3\n",
            "4\n"
          ]
        }
      ],
      "source": [
        "for i in range(5):\n",
        "    if i == 3:\n",
        "        pass\n",
        "    print(i)  # 0, 1, 2, 3, 4"
      ]
    },
    {
      "cell_type": "markdown",
      "id": "c66e0f64",
      "metadata": {
        "id": "c66e0f64"
      },
      "source": [
        "#### IX. What is the use of self in Python?\n",
        "\n",
        "##### Ans.\n",
        "\n",
        "##### self: Refers to the instance of the class. Used to access variables and methods associated with the instance."
      ]
    },
    {
      "cell_type": "code",
      "execution_count": null,
      "id": "bff151ed",
      "metadata": {
        "colab": {
          "base_uri": "https://localhost:8080/"
        },
        "id": "bff151ed",
        "outputId": "d335626e-b3e2-4548-b63b-60d9d7375e4d"
      },
      "outputs": [
        {
          "output_type": "stream",
          "name": "stdout",
          "text": [
            "10\n"
          ]
        }
      ],
      "source": [
        "class MyClass:\n",
        "    def __init__(self, value):\n",
        "        self.value = value\n",
        "\n",
        "    def display(self):\n",
        "        print(self.value)\n",
        "\n",
        "obj = MyClass(10)\n",
        "obj.display()  # 10"
      ]
    },
    {
      "cell_type": "markdown",
      "id": "89f96482",
      "metadata": {
        "id": "89f96482"
      },
      "source": [
        "#### X. What are global, protected, and private attributes in Python?\n",
        "\n",
        "##### Ans.\n",
        "\n",
        "##### Global Attributes: Accessible from anywhere in the program."
      ]
    },
    {
      "cell_type": "code",
      "execution_count": null,
      "id": "33786544",
      "metadata": {
        "id": "33786544"
      },
      "outputs": [],
      "source": [
        "# Example\n",
        "global_var = 10"
      ]
    },
    {
      "cell_type": "markdown",
      "id": "679ac455",
      "metadata": {
        "id": "679ac455"
      },
      "source": [
        "##### Protected Attributes: Indicated by a single underscore (_). Intended for internal use."
      ]
    },
    {
      "cell_type": "code",
      "execution_count": null,
      "id": "8ad4d273",
      "metadata": {
        "id": "8ad4d273"
      },
      "outputs": [],
      "source": [
        "# Example\n",
        "class MyClass:\n",
        "    def __init__(self):\n",
        "        self._protected_var = 5"
      ]
    },
    {
      "cell_type": "markdown",
      "id": "b2f4ab64",
      "metadata": {
        "id": "b2f4ab64"
      },
      "source": [
        "##### Private Attributes: Indicated by double underscores (__). Name mangling is used to make them harder to access from outside the class."
      ]
    },
    {
      "cell_type": "code",
      "execution_count": null,
      "id": "7183cd48",
      "metadata": {
        "id": "7183cd48"
      },
      "outputs": [],
      "source": [
        "class MyClass:\n",
        "    def __init__(self):\n",
        "        self.__private_var = 10"
      ]
    },
    {
      "cell_type": "markdown",
      "id": "e006d107",
      "metadata": {
        "id": "e006d107"
      },
      "source": [
        "#### XI. What are modules and packages in Python?\n",
        "\n",
        "##### Ans.\n",
        "\n",
        "##### Modules: Files containing Python code. Can define functions, classes, and variables."
      ]
    },
    {
      "cell_type": "code",
      "execution_count": null,
      "id": "12d914f1",
      "metadata": {
        "id": "12d914f1"
      },
      "outputs": [],
      "source": [
        "# my_module.py\n",
        "def my_function():\n",
        "    return \"Hello, World!\""
      ]
    },
    {
      "cell_type": "markdown",
      "id": "6044f5b4",
      "metadata": {
        "id": "6044f5b4"
      },
      "source": [
        "##### Packages: Directories containing multiple modules, along with an init.py file."
      ]
    },
    {
      "cell_type": "markdown",
      "id": "2c7934fd",
      "metadata": {
        "id": "2c7934fd"
      },
      "source": [
        "my_package/\n",
        "\n",
        "    __init__.py\n",
        "    \n",
        "    module1.py\n",
        "    \n",
        "    module2.py"
      ]
    },
    {
      "cell_type": "markdown",
      "id": "2b2816a0",
      "metadata": {
        "id": "2b2816a0"
      },
      "source": [
        "#### XII. What are lists and tuples? What is the key difference between the two?\n",
        "\n",
        "##### Ans.\n",
        "\n",
        "##### Lists: Ordered, mutable collections of items."
      ]
    },
    {
      "cell_type": "code",
      "execution_count": null,
      "id": "3f486400",
      "metadata": {
        "id": "3f486400"
      },
      "outputs": [],
      "source": [
        "# Example\n",
        "my_list = [1, 2, 3]"
      ]
    },
    {
      "cell_type": "markdown",
      "id": "6ff94c1b",
      "metadata": {
        "id": "6ff94c1b"
      },
      "source": [
        "##### Tuples: Ordered, immutable collections of items."
      ]
    },
    {
      "cell_type": "code",
      "execution_count": null,
      "id": "9067f685",
      "metadata": {
        "id": "9067f685"
      },
      "outputs": [],
      "source": [
        "my_tuple = (1, 2, 3)"
      ]
    },
    {
      "cell_type": "markdown",
      "id": "ee027eef",
      "metadata": {
        "id": "ee027eef"
      },
      "source": [
        "####  XIII. What is an interpreted language and a dynamically typed language? Write 5 differences between them.\n",
        "\n",
        "##### Ans.\n",
        "\n",
        "**Interpreted Language:**\n",
        "- An interpreted language is one where the code is executed line-by-line by an interpreter.\n",
        "- Examples: Python, JavaScript, Ruby.\n",
        "\n",
        "**Dynamically Typed Language:**\n",
        "- A dynamically typed language is one where the type of a variable is checked during runtime rather than compile-time.\n",
        "- Examples: Python, Ruby, JavaScript.\n",
        "\n",
        "#### Five Differences:\n",
        "\n",
        "1. **Type Checking:**\n",
        "   - **Interpreted Language:** Refers to how the code is executed, not directly related to type checking.\n",
        "   - **Dynamically Typed Language:** Type checking is done at runtime.\n",
        "\n",
        "2. **Compilation:**\n",
        "   - **Interpreted Language:** Does not require a separate compilation step; the interpreter executes the source code directly.\n",
        "   - **Dynamically Typed Language:** Can be either interpreted or compiled; the key aspect is that variable types are determined at runtime.\n",
        "\n",
        "3. **Performance:**\n",
        "   - **Interpreted Language:** Generally slower execution compared to compiled languages because of the line-by-line execution.\n",
        "   - **Dynamically Typed Language:** The performance can vary; dynamic type checking at runtime may introduce overhead compared to statically typed languages.\n",
        "\n",
        "4. **Flexibility:**\n",
        "   - **Interpreted Language:** Easier to debug and test since you can execute code snippets interactively.\n",
        "   - **Dynamically Typed Language:** More flexible in terms of variable usage; variables can change type as needed during execution.\n",
        "\n",
        "5. **Error Detection:**\n",
        "   - **Interpreted Language:** Errors are caught at runtime; no compilation errors.\n",
        "   - **Dynamically Typed Language:** Type-related errors are detected at runtime, which can lead to more runtime errors if not handled properly."
      ]
    },
    {
      "cell_type": "code",
      "execution_count": null,
      "id": "e79feff9",
      "metadata": {
        "colab": {
          "base_uri": "https://localhost:8080/"
        },
        "id": "e79feff9",
        "outputId": "2fd28bd4-57e4-4dfc-e6ad-f00d5ff12457"
      },
      "outputs": [
        {
          "output_type": "stream",
          "name": "stdout",
          "text": [
            "Hello, Alice!\n",
            "hello\n"
          ]
        }
      ],
      "source": [
        "# Interpreted Language Example\n",
        "def greet(name):\n",
        "      print(f\"Hello, {name}!\")\n",
        "\n",
        "greet(\"Alice\")\n",
        "\n",
        "# Dynamically Typed Language Example\n",
        "x = 10       # x is an integer\n",
        "x = \"hello\"  # Now x is a string\n",
        "print(x)     # Outputs: hello"
      ]
    },
    {
      "cell_type": "markdown",
      "id": "12f253f2",
      "metadata": {
        "id": "12f253f2"
      },
      "source": [
        "#### XV. What are dict and list comprehensions?\n",
        "\n",
        "**List Comprehensions** and **Dict Comprehensions** are concise ways to create lists and dictionaries in Python using a single line of code.\n",
        "\n",
        "##### List Comprehensions\n",
        "\n",
        "List comprehensions provide a compact way to generate lists. The syntax is `[expression for item in iterable if condition]`, where the `if condition` is optional."
      ]
    },
    {
      "cell_type": "code",
      "execution_count": null,
      "id": "7599b48c",
      "metadata": {
        "colab": {
          "base_uri": "https://localhost:8080/"
        },
        "id": "7599b48c",
        "outputId": "271e3b40-c85b-4284-89aa-30072ed38f10"
      },
      "outputs": [
        {
          "output_type": "stream",
          "name": "stdout",
          "text": [
            "[0, 1, 4, 9, 16, 25, 36, 49, 64, 81]\n",
            "[0, 2, 4, 6, 8]\n"
          ]
        }
      ],
      "source": [
        "# Example 1: Creating a List of Squares\n",
        "\n",
        "squares = [x**2 for x in range(10)]\n",
        "print(squares)  # Output: [0, 1, 4, 9, 16, 25, 36, 49, 64, 81]\n",
        "\n",
        "# Example 2: Filtering Even Numbers\n",
        "\n",
        "even_numbers = [x for x in range(10) if x % 2 == 0]\n",
        "print(even_numbers)  # Output: [0, 2, 4, 6, 8]"
      ]
    },
    {
      "cell_type": "markdown",
      "id": "efe9843f",
      "metadata": {
        "id": "efe9843f"
      },
      "source": [
        "##### Dict Comprehensions\n",
        "\n",
        "Dict comprehensions provide a compact way to generate dictionaries. The syntax is `{key: value for item in iterable if condition}`, where the `if condition` is optional."
      ]
    },
    {
      "cell_type": "code",
      "execution_count": null,
      "id": "3be67047",
      "metadata": {
        "colab": {
          "base_uri": "https://localhost:8080/"
        },
        "id": "3be67047",
        "outputId": "6265ba82-d6bb-436c-92c9-58f8626a68e0"
      },
      "outputs": [
        {
          "output_type": "stream",
          "name": "stdout",
          "text": [
            "{0: 0, 1: 1, 2: 4, 3: 9, 4: 16, 5: 25, 6: 36, 7: 49, 8: 64, 9: 81}\n",
            "{0: 0, 2: 4, 4: 16, 6: 36, 8: 64}\n"
          ]
        }
      ],
      "source": [
        "# Example 1: Creating a Dictionary of Squares\n",
        "\n",
        "squares_dict = {x: x**2 for x in range(10)}\n",
        "print(squares_dict)  # Output: {0: 0, 1: 1, 2: 4, 3: 9, 4: 16, 5: 25, 6: 36, 7: 49, 8: 64, 9: 81}\n",
        "\n",
        "# Example 2: Filtering Even Numbers\n",
        "\n",
        "even_squares_dict = {x: x**2 for x in range(10) if x % 2 == 0}\n",
        "print(even_squares_dict)  # Output: {0: 0, 2: 4, 4: 16, 6: 36, 8: 64}"
      ]
    },
    {
      "cell_type": "markdown",
      "id": "3771521f",
      "metadata": {
        "id": "3771521f"
      },
      "source": [
        "#### XVI. What are decorators in Python ? Explain it with an example. Write down its use cases.\n",
        "\n",
        "##### Ans.\n",
        "\n",
        "i. **What is a Python Decorator?**\n",
        "   - A decorator is a function that takes another function as an argument and returns a modified version of that function.\n",
        "   - The modified function can do something before and after calling the original function."
      ]
    },
    {
      "cell_type": "code",
      "execution_count": null,
      "id": "9bc96018",
      "metadata": {
        "colab": {
          "base_uri": "https://localhost:8080/"
        },
        "id": "9bc96018",
        "outputId": "d4e1f75e-204a-47d7-cf1b-cf6c42ea166b"
      },
      "outputs": [
        {
          "output_type": "stream",
          "name": "stdout",
          "text": [
            "Something before the function call\n",
            "Hello, world!\n",
            "Something after the function call\n"
          ]
        }
      ],
      "source": [
        "def my_decorator(original_function):\n",
        "    def wrapper():\n",
        "        print(\"Something before the function call\")\n",
        "        original_function()\n",
        "        print(\"Something after the function call\")\n",
        "    return wrapper\n",
        "\n",
        "@my_decorator\n",
        "def greet():\n",
        "\n",
        "    print(\"Hello, world!\")\n",
        "\n",
        "greet()"
      ]
    },
    {
      "cell_type": "markdown",
      "id": "87bc187b",
      "metadata": {
        "id": "87bc187b"
      },
      "source": [
        "ii. **Use Cases for Decorators:**\n",
        "   - **Timing function execution**: Measure how long a function takes to run.\n",
        "   - **Caching results (memoization)**: Store and reuse expensive function results.\n",
        "   - **Authorization and authentication**: Control access to certain functions.\n",
        "   - **Logging and error handling**: Add logging or handle exceptions.\n",
        "   - **Input validation**: Validate function arguments before execution."
      ]
    },
    {
      "cell_type": "markdown",
      "id": "a3a68536",
      "metadata": {
        "id": "a3a68536"
      },
      "source": [
        "#### XVII. How is memory managed in Python ?\n",
        "\n",
        "In Python, memory management is handled by a private heap space. The **heap** is a region of memory where objects are stored and managed. Here's how it works:\n",
        "\n",
        "i. **Allocation and Deallocation**:\n",
        "   - Python's memory manager automatically allocates memory for new objects and frees memory for objects that are no longer in use.\n",
        "   - When you create an object (e.g., a variable, list, or class instance), Python allocates memory for it on the heap.\n",
        "   - When an object is no longer needed (e.g., when it goes out of scope or is explicitly deleted), Python deallocates its memory.\n",
        "\n",
        "ii. **Garbage Collection**:\n",
        "   - Python uses **garbage collection** to reclaim memory from objects that are no longer referenced.\n",
        "   - The garbage collector periodically scans the heap, identifying and freeing memory occupied by unreferenced objects.\n",
        "   - This process ensures efficient memory usage and prevents memory leaks.\n",
        "\n",
        "iii. **Reference Counting**:\n",
        "   - Python also employs **reference counting** to track the number of references to an object.\n",
        "   - When an object's reference count drops to zero (i.e., no variables or data structures refer to it), Python deallocates its memory.\n",
        "   - Circular references (where objects reference each other) are handled by the garbage collector."
      ]
    },
    {
      "cell_type": "markdown",
      "id": "a255171b",
      "metadata": {
        "id": "a255171b"
      },
      "source": [
        "#### XVIII. What is lambda in Python ? How is it used ?\n",
        "\n",
        "##### Ans.\n",
        "\n",
        "In Python, a **lambda function** (also known as an **anonymous function**) is a concise way to create small, throwaway functions.\n",
        "\n",
        "- **Syntax**:\n",
        "   - A lambda function is defined using the `lambda` keyword, followed by a list of arguments, a colon (`:`), and an expression.\n",
        "   - The expression is evaluated and returned when the lambda function is called.    \n",
        "\n",
        "- **Use Cases**:\n",
        "   - **Sorting**: Lambdas are commonly used as the `key` argument in sorting functions like `sorted()`.\n",
        "   - **Filtering**: They can be used with functions like `filter()` or `map()` to process elements in a list.\n",
        "   - **Simple Operations**: Lambdas are handy for quick calculations or transformations."
      ]
    },
    {
      "cell_type": "code",
      "execution_count": null,
      "id": "bcca76ea",
      "metadata": {
        "colab": {
          "base_uri": "https://localhost:8080/"
        },
        "id": "bcca76ea",
        "outputId": "ec2b6992-bf9e-444c-f387-28641c2e2c15"
      },
      "outputs": [
        {
          "output_type": "stream",
          "name": "stdout",
          "text": [
            "8\n"
          ]
        }
      ],
      "source": [
        "# lambda function that adds two numbers\n",
        "sum = lambda x, y: x + y\n",
        "print(sum(3, 5))  # Output: 8"
      ]
    },
    {
      "cell_type": "markdown",
      "id": "f700bce7",
      "metadata": {
        "id": "f700bce7"
      },
      "source": [
        "#### XIX. Explain split() and join() functions in Python ?\n",
        "\n",
        "##### Ans.\n",
        "\n",
        "i. **`split()` Function**:\n",
        "   - The `split()` method is used to split a string into substrings based on a specified separator.\n",
        "   - Syntax: `<string>.split(sep, maxsplit)`\n",
        "     - `<string>`: Any valid Python string.\n",
        "     - `sep`: The separator you want to split on (e.g., a comma, space, or custom character).\n",
        "     - `maxsplit`: Optional argument indicating the maximum number of splits (default is -1, which splits on all occurrences of `sep`)."
      ]
    },
    {
      "cell_type": "code",
      "execution_count": null,
      "id": "660d62bd",
      "metadata": {
        "colab": {
          "base_uri": "https://localhost:8080/"
        },
        "id": "660d62bd",
        "outputId": "d9014ba5-3516-4214-bc2b-02353bc4e9e1"
      },
      "outputs": [
        {
          "output_type": "stream",
          "name": "stdout",
          "text": [
            "['Apples', 'Oranges', 'Pears', 'Bananas', 'Berries']\n"
          ]
        }
      ],
      "source": [
        "# Example for split() function\n",
        "\n",
        "my_string = \"Apples,Oranges,Pears,Bananas,Berries\"\n",
        "fruits = my_string.split(\",\")  # Splits on commas\n",
        "print(fruits)"
      ]
    },
    {
      "cell_type": "markdown",
      "id": "3a2016c3",
      "metadata": {
        "id": "3a2016c3"
      },
      "source": [
        "ii. **`join()` Function**:\n",
        "   - The `join()` method combines a list of strings into a single string using a specified delimiter.\n",
        "   - Syntax: `delimiter.join(iterable)`\n",
        "     - `delimiter`: The string used to join the elements (e.g., `\",\"`, `\"::\"`)."
      ]
    },
    {
      "cell_type": "code",
      "execution_count": null,
      "id": "9d8d8649",
      "metadata": {
        "colab": {
          "base_uri": "https://localhost:8080/"
        },
        "id": "9d8d8649",
        "outputId": "27a38d9f-28fd-4d39-d907-85a0bab0e69f"
      },
      "outputs": [
        {
          "output_type": "stream",
          "name": "stdout",
          "text": [
            "Apples,Oranges,Pears,Bananas,Berries\n"
          ]
        }
      ],
      "source": [
        "# Example for join() function\n",
        "fruit_list = ['Apples', 'Oranges', 'Pears', 'Bananas', 'Berries']\n",
        "joined_fruits = \",\".join(fruit_list)  # Joins with commas\n",
        "print(joined_fruits)"
      ]
    },
    {
      "cell_type": "markdown",
      "id": "12cb92f1",
      "metadata": {
        "id": "12cb92f1"
      },
      "source": [
        "#### XX. What are iterators, iterable, and generators in Python ?\n",
        "\n",
        "##### Ans.\n",
        "\n",
        "i. **Iterables**:\n",
        "   - An **iterable** is any Python object that can be iterated over (i.e., you can loop through its elements one by one).\n",
        "   - Examples of iterables include lists, tuples, strings, dictionaries, sets, and more.\n",
        "   - To make an object iterable, it needs to implement the `__iter__()` method, which returns an **iterator**.\n",
        "\n",
        "ii. **Iterators**:\n",
        "   - An **iterator** is an object that produces a sequence of values one at a time.\n",
        "   - It must have the `__next__()` method (or `next()` in Python 2) to retrieve the next value.\n",
        "   - Iterators maintain state and remember their position in the sequence.\n",
        "   - You can create an iterator using the `iter()` function on an iterable."
      ]
    },
    {
      "cell_type": "code",
      "execution_count": null,
      "id": "d7c5fefe",
      "metadata": {
        "colab": {
          "base_uri": "https://localhost:8080/"
        },
        "id": "d7c5fefe",
        "outputId": "7d1852e8-abbc-412c-df5c-7fd44d4528dc"
      },
      "outputs": [
        {
          "output_type": "stream",
          "name": "stdout",
          "text": [
            "1\n",
            "2\n"
          ]
        }
      ],
      "source": [
        "# Example of iterators\n",
        "nums = [1, 2, 3, 4]\n",
        "my_iterator = iter(nums)\n",
        "print(next(my_iterator))  # Output: 1\n",
        "print(next(my_iterator))  # Output: 2"
      ]
    },
    {
      "cell_type": "markdown",
      "id": "5b1002d2",
      "metadata": {
        "id": "5b1002d2"
      },
      "source": [
        "iii. **Generators**:\n",
        "   - A **generator** is a special type of iterator created using the `yield` keyword.\n",
        "   - Unlike regular functions, generators don't compute all values upfront; they yield values lazily.\n",
        "   - Generators save local variable states when paused by `yield`."
      ]
    },
    {
      "cell_type": "code",
      "execution_count": null,
      "id": "22a95c93",
      "metadata": {
        "colab": {
          "base_uri": "https://localhost:8080/"
        },
        "id": "22a95c93",
        "outputId": "386b7242-9203-4e68-a28c-9655bed23a29"
      },
      "outputs": [
        {
          "output_type": "stream",
          "name": "stdout",
          "text": [
            "1\n",
            "2\n"
          ]
        }
      ],
      "source": [
        "def count_up_to(n):\n",
        "    i = 1\n",
        "    while i <= n:\n",
        "        yield i\n",
        "        i += 1\n",
        "\n",
        "my_gen = count_up_to(5)\n",
        "print(next(my_gen))  # Output: 1\n",
        "print(next(my_gen))  # Output: 2"
      ]
    },
    {
      "cell_type": "markdown",
      "id": "4799c994",
      "metadata": {
        "id": "4799c994"
      },
      "source": [
        "iv. **Comparison**:\n",
        "   - Iterators are created using classes, while generators are created using functions.\n",
        "   - Generators are easier to create (just use `yield`), whereas iterators require more boilerplate.\n",
        "   - Generators use local variables, while iterators don't.\n",
        "   - All generators are iterators, but not all iterators are generators."
      ]
    },
    {
      "cell_type": "markdown",
      "id": "25e8fcd8",
      "metadata": {
        "id": "25e8fcd8"
      },
      "source": [
        "#### XXI. What is the difference between xrange and range in Python ?\n",
        "\n",
        "##### Ans.\n",
        "\n",
        "i. **`range()` Function**:\n",
        "   - Available in both Python 2.x and 3.x.\n",
        "   - Returns a **list** of numbers within a specified range.\n",
        "   - Eagerly computes all values upfront.\n",
        "   - Supports list slicing and other list operations.\n",
        "   - Consumes more memory due to the list.\n",
        "\n",
        "ii. **`xrange()` Function**:\n",
        "   - Only available in Python 2.x.\n",
        "   - Returns an **xrange object**, which generates numbers on the fly (lazy evaluation).\n",
        "   - Consumes less memory as it doesn't precompute the entire sequence.\n",
        "   - Doesn't support list slicing or other list operations."
      ]
    },
    {
      "cell_type": "code",
      "execution_count": null,
      "id": "37c9d41f",
      "metadata": {
        "colab": {
          "base_uri": "https://localhost:8080/"
        },
        "id": "37c9d41f",
        "outputId": "18075d66-5072-4d8c-a17a-54e358bac508"
      },
      "outputs": [
        {
          "output_type": "stream",
          "name": "stdout",
          "text": [
            "The return type of range() is: <class 'range'>\n"
          ]
        }
      ],
      "source": [
        "# Example of range() function\n",
        "a = range(1, 10000)\n",
        "print(\"The return type of range() is:\", type(a))\n",
        "\n",
        "# Example of xrange() function\n",
        "# x = xrange(1, 10000) # NameError: name 'xrange' is not defined\n",
        "# print(\"The return type of xrange() is:\", type(x))"
      ]
    },
    {
      "cell_type": "markdown",
      "id": "213aea75",
      "metadata": {
        "id": "213aea75"
      },
      "source": [
        "#### XXII. Pillars of OOPs ?\n",
        "\n",
        "##### Ans.\n",
        "\n",
        "i. **Encapsulation**:\n",
        "   - Encapsulation refers to bundling data (attributes) and methods (functions) that operate on that data into a single unit (i.e., a class). It helps protect data from external access."
      ]
    },
    {
      "cell_type": "code",
      "execution_count": null,
      "id": "f3192901",
      "metadata": {
        "colab": {
          "base_uri": "https://localhost:8080/"
        },
        "id": "f3192901",
        "outputId": "9b179628-31df-45d5-c12a-faa2f3e49657"
      },
      "outputs": [
        {
          "output_type": "stream",
          "name": "stdout",
          "text": [
            "Insufficient funds!\n"
          ]
        }
      ],
      "source": [
        "# Example on Encapsulation\n",
        "class BankAccount:\n",
        "    def __init__(self, account_number, balance):\n",
        "        self.account_number = account_number\n",
        "        self.balance = balance\n",
        "\n",
        "    def deposit(self, amount):\n",
        "        self.balance += amount\n",
        "\n",
        "    def withdraw(self, amount):\n",
        "        if amount <= self.balance:\n",
        "            self.balance -= amount\n",
        "        else:\n",
        "            print(\"Insufficient funds!\")\n",
        "\n",
        "# Usage\n",
        "account = BankAccount(\"123456\", 1000)\n",
        "account.deposit(500)\n",
        "account.withdraw(1600)"
      ]
    },
    {
      "cell_type": "markdown",
      "id": "d96af621",
      "metadata": {
        "id": "d96af621"
      },
      "source": [
        "ii. **Inheritance**:\n",
        "   - Inheritance allows a new class (the child or derived class) to inherit properties and behaviors from an existing class (the parent or base class)."
      ]
    },
    {
      "cell_type": "code",
      "execution_count": null,
      "id": "997d478d",
      "metadata": {
        "colab": {
          "base_uri": "https://localhost:8080/"
        },
        "id": "997d478d",
        "outputId": "f4f56e67-4f6e-469e-d060-28a78cc62cfc"
      },
      "outputs": [
        {
          "output_type": "stream",
          "name": "stdout",
          "text": [
            "Dog barks\n"
          ]
        }
      ],
      "source": [
        "class Animal:\n",
        "    def speak(self):\n",
        "        print(\"Animal speaks\")\n",
        "\n",
        "class Dog(Animal):\n",
        "    def speak(self):\n",
        "        print(\"Dog barks\")\n",
        "\n",
        "# Usage\n",
        "dog = Dog()\n",
        "dog.speak()"
      ]
    },
    {
      "cell_type": "markdown",
      "id": "70924a28",
      "metadata": {
        "id": "70924a28"
      },
      "source": [
        "iii. **Polymorphism**:\n",
        "   - Polymorphism enables objects of different classes to be treated uniformly based on a common interface. It allows method overriding and method overloading."
      ]
    },
    {
      "cell_type": "code",
      "execution_count": null,
      "id": "8f3d6bc0",
      "metadata": {
        "colab": {
          "base_uri": "https://localhost:8080/"
        },
        "id": "8f3d6bc0",
        "outputId": "7b64209f-8a9f-46bc-9669-8007c3d9c721"
      },
      "outputs": [
        {
          "output_type": "stream",
          "name": "stdout",
          "text": [
            "78.5\n",
            "24\n"
          ]
        }
      ],
      "source": [
        "class Shape:\n",
        "    def area(self):\n",
        "        pass\n",
        "\n",
        "class Circle(Shape):\n",
        "    def __init__(self, radius):\n",
        "        self.radius = radius\n",
        "\n",
        "    def area(self):\n",
        "        return 3.14 * self.radius ** 2\n",
        "\n",
        "class Rectangle(Shape):\n",
        "    def __init__(self, length, width):\n",
        "        self.length = length\n",
        "        self.width = width\n",
        "\n",
        "    def area(self):\n",
        "        return self.length * self.width\n",
        "\n",
        "# Usage\n",
        "circle = Circle(5)\n",
        "rectangle = Rectangle(4, 6)\n",
        "print(circle.area())  # Output: 78.5\n",
        "print(rectangle.area())  # Output: 24\n"
      ]
    },
    {
      "cell_type": "markdown",
      "id": "484d6642",
      "metadata": {
        "id": "484d6642"
      },
      "source": [
        "iv. **Abstraction**:\n",
        "   - Abstraction hides complex implementation details and exposes only essential features to the user."
      ]
    },
    {
      "cell_type": "code",
      "execution_count": null,
      "id": "00c5453f",
      "metadata": {
        "colab": {
          "base_uri": "https://localhost:8080/"
        },
        "id": "00c5453f",
        "outputId": "d1023c70-e76c-4502-f4cf-7136e771f7b5"
      },
      "outputs": [
        {
          "output_type": "stream",
          "name": "stdout",
          "text": [
            "78.5\n"
          ]
        }
      ],
      "source": [
        "from abc import ABC, abstractmethod\n",
        "\n",
        "class Shape(ABC):\n",
        "    @abstractmethod\n",
        "    def area(self):\n",
        "        pass\n",
        "\n",
        "class Circle(Shape):\n",
        "    def __init__(self, radius):\n",
        "        self.radius = radius\n",
        "\n",
        "    def area(self):\n",
        "        return 3.14 * self.radius ** 2\n",
        "\n",
        "# Usage\n",
        "circle = Circle(5)\n",
        "print(circle.area())"
      ]
    },
    {
      "cell_type": "markdown",
      "id": "dcd7840c",
      "metadata": {
        "id": "dcd7840c"
      },
      "source": [
        "#### XXIII. How will you check if a class is a child of another class ?\n",
        "\n",
        "##### Ans.\n",
        "\n",
        "In Python, we can check if a class is a subclass (child class) of another class using the `issubclass()` function. This built-in function returns `True` if the given class is a subclass of the specified class, or `False` otherwise."
      ]
    },
    {
      "cell_type": "code",
      "execution_count": null,
      "id": "490de785",
      "metadata": {
        "colab": {
          "base_uri": "https://localhost:8080/"
        },
        "id": "490de785",
        "outputId": "0adec32f-880e-481f-bf67-0a1317cbacad"
      },
      "outputs": [
        {
          "output_type": "stream",
          "name": "stdout",
          "text": [
            "True\n"
          ]
        }
      ],
      "source": [
        "# Example\n",
        "\n",
        "class Parent:\n",
        "    pass\n",
        "\n",
        "class Child(Parent):\n",
        "    pass\n",
        "\n",
        "print(issubclass(Child, Parent))"
      ]
    },
    {
      "cell_type": "markdown",
      "id": "f3b5b5e2",
      "metadata": {
        "id": "f3b5b5e2"
      },
      "source": [
        "#### XXIV. How does inheritance work in Python ? Explain all types of inheritance with an example.\n",
        "\n",
        "##### Ans.\n",
        "\n",
        "Certainly! Inheritance is a fundamental concept in object-oriented programming (OOP) that allows a class to inherit properties and behaviors from another class. In Python, there are several types of inheritance, each serving different purposes. Let's explore them with examples:\n",
        "\n",
        "i. **Single Inheritance**:\n",
        "   - In single inheritance, a derived class inherits properties from a single parent class. This promotes code reusability and allows adding new features to existing code."
      ]
    },
    {
      "cell_type": "code",
      "execution_count": null,
      "id": "8d148461",
      "metadata": {
        "colab": {
          "base_uri": "https://localhost:8080/"
        },
        "id": "8d148461",
        "outputId": "42e60f25-cebf-4a60-c0f0-5ee0a3f013f5"
      },
      "outputs": [
        {
          "output_type": "stream",
          "name": "stdout",
          "text": [
            "This function is in the parent class.\n",
            "This function is in the child class.\n"
          ]
        }
      ],
      "source": [
        "# Example\n",
        "class Parent:\n",
        "    def func1(self):\n",
        "        print(\"This function is in the parent class.\")\n",
        "\n",
        "class Child(Parent):\n",
        "    def func2(self):\n",
        "        print(\"This function is in the child class.\")\n",
        "\n",
        "obj = Child()\n",
        "obj.func1()\n",
        "obj.func2()"
      ]
    },
    {
      "cell_type": "markdown",
      "id": "80d99e79",
      "metadata": {
        "id": "80d99e79"
      },
      "source": [
        "ii. **Multiple Inheritance**:\n",
        "   - Multiple inheritance occurs when a class inherits from more than one base class. All features of the base classes are inherited into the derived class."
      ]
    },
    {
      "cell_type": "code",
      "execution_count": null,
      "id": "6cd20f31",
      "metadata": {
        "colab": {
          "base_uri": "https://localhost:8080/"
        },
        "id": "6cd20f31",
        "outputId": "eed33aee-89a5-46df-e3f8-201c1a6c8dca"
      },
      "outputs": [
        {
          "output_type": "stream",
          "name": "stdout",
          "text": [
            "Father: Tom\n",
            "Mother: Cat\n",
            "Father: Leo\n",
            "Mother: Lily\n"
          ]
        }
      ],
      "source": [
        "# Example\n",
        "class Mother:\n",
        "    def mother(self):\n",
        "        print(\"Mother's name: Tom\")\n",
        "\n",
        "class Father:\n",
        "    def father(self):\n",
        "        print(\"Father's name: Cat\")\n",
        "\n",
        "class Son(Mother, Father):  # Inherits from both Mother and Father\n",
        "\n",
        "    def __init__(self, fathername, mothername):\n",
        "\n",
        "        self.fathername = fathername\n",
        "        self.mothername = mothername\n",
        "\n",
        "    def parents(self):\n",
        "        print(\"Father:\", self.fathername)\n",
        "        print(\"Mother:\", self.mothername)\n",
        "\n",
        "class Daughter(Mother, Father):  # Inherits from both Mother and Father\n",
        "\n",
        "    def __init__(self, fathername, mothername):\n",
        "\n",
        "        self.fathername = fathername\n",
        "        self.mothername = mothername\n",
        "\n",
        "    def parents(self):\n",
        "        print(\"Father:\", self.fathername)\n",
        "        print(\"Mother:\", self.mothername)\n",
        "\n",
        "s1 = Son(\"Tom\", \"Cat\")\n",
        "s1.parents()\n",
        "\n",
        "d1 = Daughter(\"Leo\", \"Lily\")\n",
        "d1.parents()"
      ]
    },
    {
      "cell_type": "markdown",
      "id": "7673abf6",
      "metadata": {
        "id": "7673abf6"
      },
      "source": [
        "iii. **Multilevel Inheritance**:\n",
        "   - In multilevel inheritance, features of the base class and the derived class are further inherited into a new derived class. It represents a relationship like a child and a grandfather."
      ]
    },
    {
      "cell_type": "code",
      "execution_count": null,
      "id": "ba412640",
      "metadata": {
        "colab": {
          "base_uri": "https://localhost:8080/"
        },
        "id": "ba412640",
        "outputId": "2b6e0849-6940-4e6c-9061-f76b8192199f"
      },
      "outputs": [
        {
          "output_type": "stream",
          "name": "stdout",
          "text": [
            "Jerry\n",
            "Grandfather name: Jerry\n",
            "Father name: Sam\n",
            "Son name: Prince\n"
          ]
        }
      ],
      "source": [
        "# Example\n",
        "class Grandfather:\n",
        "    def __init__(self, grandfathername):\n",
        "        self.grandfathername = grandfathername\n",
        "\n",
        "class Father(Grandfather):\n",
        "    def __init__(self, fathername, grandfathername):\n",
        "        self.fathername = fathername\n",
        "        super().__init__(grandfathername)\n",
        "\n",
        "class Son(Father):\n",
        "    def __init__(self, sonname, fathername, grandfathername):\n",
        "        self.sonname = sonname\n",
        "        super().__init__(fathername, grandfathername)\n",
        "\n",
        "    def print_name(self):\n",
        "        print(\"Grandfather name:\", self.grandfathername)\n",
        "        print(\"Father name:\", self.fathername)\n",
        "        print(\"Son name:\", self.sonname)\n",
        "\n",
        "s1 = Son(\"Prince\", \"Sam\", \"Jerry\")\n",
        "print(s1.grandfathername)\n",
        "s1.print_name()"
      ]
    },
    {
      "cell_type": "markdown",
      "id": "a616b313",
      "metadata": {
        "id": "a616b313"
      },
      "source": [
        "iv. **Hierarchical Inheritance**:\n",
        "   - Hierarchical inheritance involves creating more than one derived class from a single base class. Each child class shares the same parent class."
      ]
    },
    {
      "cell_type": "code",
      "execution_count": null,
      "id": "97cc104d",
      "metadata": {
        "colab": {
          "base_uri": "https://localhost:8080/"
        },
        "id": "97cc104d",
        "outputId": "603712da-7ded-4fc4-8124-1fdabfb98971"
      },
      "outputs": [
        {
          "output_type": "stream",
          "name": "stdout",
          "text": [
            "This function is in the parent class.\n",
            "This function is in child 1.\n",
            "This function is in the parent class.\n",
            "This function is in child 2.\n"
          ]
        }
      ],
      "source": [
        "# Example\n",
        "class Parent:\n",
        "    def func1(self):\n",
        "        print(\"This function is in the parent class.\")\n",
        "\n",
        "class Child1(Parent):\n",
        "    def func2(self):\n",
        "        print(\"This function is in child 1.\")\n",
        "\n",
        "class Child2(Parent):\n",
        "    def func3(self):\n",
        "        print(\"This function is in child 2.\")\n",
        "\n",
        "obj1 = Child1()\n",
        "obj2 = Child2()\n",
        "obj1.func1()\n",
        "obj1.func2()\n",
        "obj2.func1()\n",
        "obj2.func3()"
      ]
    },
    {
      "cell_type": "markdown",
      "id": "53570662",
      "metadata": {
        "id": "53570662"
      },
      "source": [
        "v. **Hybrid Inheritance**:\n",
        "   - Hybrid inheritance combines multiple types of inheritance (e.g., single, multiple, multilevel, or hierarchical) within a single program.\n",
        "   - It's essential to manage the complexities carefully to avoid ambiguity."
      ]
    },
    {
      "cell_type": "markdown",
      "id": "7058e049",
      "metadata": {
        "id": "7058e049"
      },
      "source": [
        "#### XXV. What is encapsulation ? Explain it with an example.\n",
        "\n",
        "##### Ans.\n",
        "\n",
        "**Encapsulation** is a fundamental concept in object-oriented programming (OOP) that involves wrapping data and the methods that operate on that data within a single unit. The goal is to restrict direct access to variables and methods, preventing accidental modification of data."
      ]
    },
    {
      "cell_type": "code",
      "execution_count": null,
      "id": "13fc21f4",
      "metadata": {
        "id": "13fc21f4"
      },
      "outputs": [],
      "source": [
        "# Class example\n",
        "\"\"\"Here, the brand and os attributes are encapsulated within the Smartphone class. They can only be accessed or modified through well-defined methods within the class.\"\"\"\n",
        "class Smartphone:\n",
        "    def __init__(self, brand, os):\n",
        "        self.brand = brand\n",
        "        self.os = os\n",
        "\n",
        "iphone = Smartphone(\"Apple\", \"iOS 17\")"
      ]
    },
    {
      "cell_type": "markdown",
      "id": "f6013706",
      "metadata": {
        "id": "f6013706"
      },
      "source": [
        "In Python, we can achieve **protected members** (similar to protected variables in C++ and Java) by prefixing the member name with a single underscore (`_`)."
      ]
    },
    {
      "cell_type": "code",
      "execution_count": null,
      "id": "e7e9cf21",
      "metadata": {
        "colab": {
          "base_uri": "https://localhost:8080/"
        },
        "id": "e7e9cf21",
        "outputId": "d7a52c76-725c-42bb-eac7-599c3c6a3102"
      },
      "outputs": [
        {
          "output_type": "stream",
          "name": "stdout",
          "text": [
            "Calling protected member of base class: 2\n",
            "Calling modified protected member outside class: 3\n",
            "Accessing protected member of obj1: 3\n",
            "Accessing protected member of obj2: 2\n"
          ]
        }
      ],
      "source": [
        "# Protected Members Example:\n",
        "class Base:\n",
        "    def __init__(self):\n",
        "        # Protected member\n",
        "        self._a = 2\n",
        "\n",
        "class Derived(Base):\n",
        "    def __init__(self):\n",
        "        Base.__init__(self)\n",
        "        print(\"Calling protected member of base class:\", self._a)\n",
        "        # Modify the protected variable:\n",
        "        self._a = 3\n",
        "        print(\"Calling modified protected member outside class:\", self._a)\n",
        "\n",
        "obj1 = Derived()\n",
        "obj2 = Base()\n",
        "\n",
        "# Accessing protected member\n",
        "print(\"Accessing protected member of obj1:\", obj1._a)\n",
        "print(\"Accessing protected member of obj2:\", obj2._a)"
      ]
    },
    {
      "cell_type": "markdown",
      "id": "a7ed0f9e",
      "metadata": {
        "id": "a7ed0f9e"
      },
      "source": [
        "#### XXVI. What is polymorphism ? Explain it with an example.\n",
        "\n",
        "##### Ans.\n",
        "\n",
        "Certainly! Polymorphism in Python refers to the ability of a single type entity (such as a method, operator, or object) to represent different types in different scenarios. Let's explore a few examples to illustrate this concept:\n",
        "\n",
        "i. **Operator Polymorphism**:\n",
        "   - The `+` operator is used extensively in Python programs, but it doesn't have a single usage.\n",
        "   - For integer data types, `+` performs arithmetic addition: `num1 = 1`, `num2 = 2`, and `print(num1 + num2)` outputs `3`.\n",
        "   - For string data types, `+` performs concatenation: `str1 = \"Python\"`, `str2 = \"Programming\"`, and `print(str1 + \" \" + str2)` outputs `\"Python Programming\"`¹.\n",
        "\n",
        "ii. **Function Polymorphism**:\n",
        "   - The `len()` function can work with various data types:\n",
        "     - `print(len(\"Programiz\"))` outputs `9`.\n",
        "     - `print(len([\"Python\", \"Java\", \"C\"]))` outputs `3`.\n",
        "     - `print(len({\"Name\": \"John\", \"Address\": \"Nepal\"}))` outputs `2`¹.\n",
        "\n",
        "iii. **Class Polymorphism**:\n",
        "   - In object-oriented programming, we can create class methods with the same name in different classes."
      ]
    },
    {
      "cell_type": "code",
      "execution_count": null,
      "id": "f71a00b5",
      "metadata": {
        "colab": {
          "base_uri": "https://localhost:8080/"
        },
        "id": "f71a00b5",
        "outputId": "70b84119-ac11-4b40-dec1-f52e54572a4e"
      },
      "outputs": [
        {
          "output_type": "stream",
          "name": "stdout",
          "text": [
            "Meow\n",
            "I am a cat. My name is Kitty. I am 2.5 years old.\n",
            "Bark\n",
            "I am a dog. My name is Fluffy. I am 4 years old.\n"
          ]
        }
      ],
      "source": [
        "# Class Polymorphism\n",
        "class Cat:\n",
        "\n",
        "    def __init__(self, name, age):\n",
        "        self.name = name\n",
        "        self.age = age\n",
        "\n",
        "    def make_sound(self):\n",
        "        print(\"Meow\")\n",
        "    def info(self):\n",
        "        print(f\"I am a cat. My name is {self.name}. I am {self.age} years old.\")\n",
        "\n",
        "class Dog:\n",
        "    def __init__(self, name, age):\n",
        "        self.name = name\n",
        "        self.age = age\n",
        "\n",
        "    def make_sound(self):\n",
        "        print(\"Bark\")\n",
        "    def info(self):\n",
        "        print(f\"I am a dog. My name is {self.name}. I am {self.age} years old.\")\n",
        "\n",
        "cat1 = Cat(\"Kitty\", 2.5)\n",
        "dog1 = Dog(\"Fluffy\", 4)\n",
        "\n",
        "for animal in (cat1, dog1):\n",
        "    animal.make_sound()\n",
        "    animal.info()"
      ]
    },
    {
      "cell_type": "markdown",
      "id": "2c22e6e6",
      "metadata": {
        "id": "2c22e6e6"
      },
      "source": [
        "#### Question 1.2. Which of the following identifier names are invalid and why ?\n",
        "\n",
        " a)Serial_no.:  Valid - It starts with a letter and contains an underscore, which is allowed.\n",
        "\n",
        "b) 1st_Room: Valid - It starts with an underscore and contains letters, which is allowed.\n",
        "\n",
        "c) Hundred$: Invalid - It contains a dollar sign, which is not typically allowed in identifiers.\n",
        "\n",
        "d) Total_Marks: Valid - It consists only of letters and an underscore.\n",
        "\n",
        "e) total-Marks: Invalid - It contains a hyphen, which is not allowed in identifiers.\n",
        "\n",
        "f) total Marks: Invalid - It contains a space, which is not allowed in identifiers.\n",
        "\n",
        "g) True: Valid - Typically valid unless it’s a reserved keyword in the programming language.\n",
        "\n",
        "h) _Percentag: Invalid - It starts with a period, which is not allowed at the beginning of an identifier."
      ]
    },
    {
      "cell_type": "markdown",
      "id": "d5b9b19a",
      "metadata": {
        "id": "d5b9b19a"
      },
      "source": [
        "#### Question 1.3. name = ['Mohan', 'dash', 'karam', 'chandra', 'gandhi', 'Bapu'] do the following operations in this list:"
      ]
    },
    {
      "cell_type": "code",
      "execution_count": null,
      "id": "6eb7b805",
      "metadata": {
        "colab": {
          "base_uri": "https://localhost:8080/"
        },
        "id": "6eb7b805",
        "outputId": "70df738a-5809-4951-85bd-303706d20c91"
      },
      "outputs": [
        {
          "output_type": "execute_result",
          "data": {
            "text/plain": [
              "['freedom_fighter', 'Mohan', 'dash', 'karam', 'chandra', 'gandhi', 'Bapu']"
            ]
          },
          "metadata": {},
          "execution_count": 44
        }
      ],
      "source": [
        "#  a) add an element ‘freedom_fighter’ in this list at the 0th index.\n",
        "name =  ['Mohan', 'dash', 'karam', 'chandra', 'gandhi', 'Bapu']\n",
        "name.insert(0, 'freedom_fighter')\n",
        "name"
      ]
    },
    {
      "cell_type": "code",
      "execution_count": null,
      "id": "0502e04b",
      "metadata": {
        "colab": {
          "base_uri": "https://localhost:8080/"
        },
        "id": "0502e04b",
        "outputId": "1be408ae-a2b9-4153-8297-87f13a60ade8"
      },
      "outputs": [
        {
          "output_type": "stream",
          "name": "stdout",
          "text": [
            "6\n"
          ]
        }
      ],
      "source": [
        "# b) find the output of the following, and explain how ?\n",
        "\n",
        "name = [\"freedomFighter\", \"Bapuji\", \"MOhan\" \"dash\", \"karam\",\n",
        "         \"chandra\", \"gandhi\"]\n",
        "length1=len((name[-len(name)+1 :- 1:2]))\n",
        "length2=len((name[-len(name)+1 :- 1]))\n",
        "print(length1+length2)"
      ]
    },
    {
      "cell_type": "code",
      "execution_count": null,
      "id": "ea75e1a3",
      "metadata": {
        "colab": {
          "base_uri": "https://localhost:8080/"
        },
        "id": "ea75e1a3",
        "outputId": "b88fb598-8291-4485-de18-be066a451342"
      },
      "outputs": [
        {
          "output_type": "execute_result",
          "data": {
            "text/plain": [
              "['freedomFighter',\n",
              " 'Bapuji',\n",
              " 'MOhandash',\n",
              " 'karam',\n",
              " 'chandra',\n",
              " 'gandhi',\n",
              " 'Netaji',\n",
              " 'Bose']"
            ]
          },
          "metadata": {},
          "execution_count": 46
        }
      ],
      "source": [
        "# c) Add to more elements in the name [\"Netaji, \"Bose\"] at the end of the list.\n",
        "name.extend([\"Netaji\", \"Bose\"])\n",
        "name"
      ]
    },
    {
      "cell_type": "code",
      "execution_count": null,
      "id": "f256dd0f",
      "metadata": {
        "colab": {
          "base_uri": "https://localhost:8080/"
        },
        "id": "f256dd0f",
        "outputId": "a84cfa5b-99d8-4b4d-ae93-9c7ec17c7e32"
      },
      "outputs": [
        {
          "output_type": "stream",
          "name": "stdout",
          "text": [
            "['Mohan', 'dash', 'karam', 'Chandra', 'gandhi', 'Bapuji']\n",
            "temp:  Mohan\n"
          ]
        }
      ],
      "source": [
        "# d) what will be the value of temp:\n",
        "name = ['Bapuji', 'dash', 'karam', 'Chandra', 'gandhi','Mohan']\n",
        "temp=name[-1]\n",
        "name[-1]=name[0]\n",
        "name[0]=temp\n",
        "print(name)\n",
        "print(\"temp: \", temp)"
      ]
    },
    {
      "cell_type": "markdown",
      "id": "21af2355",
      "metadata": {
        "id": "21af2355"
      },
      "source": [
        "#### Question 1.4. Find the output of the following:"
      ]
    },
    {
      "cell_type": "code",
      "execution_count": null,
      "id": "95413ec9",
      "metadata": {
        "colab": {
          "base_uri": "https://localhost:8080/"
        },
        "id": "95413ec9",
        "outputId": "477cdd87-b602-4e9b-db2b-6e33b0fb3f58"
      },
      "outputs": [
        {
          "output_type": "stream",
          "name": "stdout",
          "text": [
            "2\n",
            "4\n",
            "7\n"
          ]
        }
      ],
      "source": [
        "animal = ['Human', 'cat', 'mammal', 'cat', 'rat', 'Human', 'Lion']\n",
        "print(animal.count('Human'))\n",
        "print(animal.index('rat'))\n",
        "print(len(animal))"
      ]
    },
    {
      "cell_type": "markdown",
      "id": "d23ca0ab",
      "metadata": {
        "id": "d23ca0ab"
      },
      "source": [
        "#### Question 1.5."
      ]
    },
    {
      "cell_type": "code",
      "execution_count": null,
      "id": "716df35c",
      "metadata": {
        "colab": {
          "base_uri": "https://localhost:8080/"
        },
        "id": "716df35c",
        "outputId": "c4ebb90d-5bc9-46b1-928d-7e3f4475e5da"
      },
      "outputs": [
        {
          "output_type": "stream",
          "name": "stdout",
          "text": [
            "8\n",
            "Navneet\n",
            "1\n",
            "ji\n",
            "22\n"
          ]
        }
      ],
      "source": [
        "tuple1=(10,20,\"Apple\",3.4,'a',[\"master\",\"ji\"],(\"sita\",\"geeta\",22),[{\"roll_no\":1},{\"name\":\"Navneet\"}])\n",
        "\n",
        "# a) print(len(tuple1))\n",
        "print(len(tuple1))\n",
        "\n",
        "# b) print(tuple1[-1][\"name\"])\n",
        "print(tuple1[-1][1][\"name\"])\n",
        "\n",
        "# c) fetch the value of roll_no from this tuple.\n",
        "print(tuple1[-1][0][\"roll_no\"])\n",
        "\n",
        "# d) print(tuple1[-3][1])\n",
        "print(tuple1[-3][1])\n",
        "\n",
        "# e) fetch the element \"22\" from this tuple.\n",
        "print(tuple1[6][2])"
      ]
    },
    {
      "cell_type": "markdown",
      "id": "2320009c",
      "metadata": {
        "id": "2320009c"
      },
      "source": [
        "#### Question 1.6. Write a program to display the appropriate message as per the color of signal (Red-Stop/ Yellow-Stay/ Green-Go) at the road crossing."
      ]
    },
    {
      "cell_type": "code",
      "execution_count": null,
      "id": "65755bcf",
      "metadata": {
        "colab": {
          "base_uri": "https://localhost:8080/"
        },
        "id": "65755bcf",
        "outputId": "73aaca63-edff-405c-d1fa-fd58d70c2c7a"
      },
      "outputs": [
        {
          "output_type": "stream",
          "name": "stdout",
          "text": [
            "Enter the color of the traffic signal: Yellow\n",
            "Stay alert. Prepare to stop or proceed with caution.\n"
          ]
        }
      ],
      "source": [
        "def traffic_signal(color):\n",
        "    if color.lower() == \"red\":\n",
        "        return \"Stop! Do not proceed.\"\n",
        "    elif color.lower() == \"yellow\":\n",
        "        return \"Stay alert. Prepare to stop or proceed with caution.\"\n",
        "    elif color.lower() == \"green\":\n",
        "        return \"Go ahead. The road is clear.\"\n",
        "    else:\n",
        "        return \"Invalid color. Please enter 'red', 'yellow', or 'green'.\"\n",
        "\n",
        "# Driver code\n",
        "user_color = input(\"Enter the color of the traffic signal: \")\n",
        "print(traffic_signal(user_color))"
      ]
    },
    {
      "cell_type": "markdown",
      "id": "26141767",
      "metadata": {
        "id": "26141767"
      },
      "source": [
        "#### Question 1.7. Write a program to create a simple calculator performing only four basic operations (+, -, /, *)."
      ]
    },
    {
      "cell_type": "code",
      "execution_count": null,
      "id": "62f40341",
      "metadata": {
        "colab": {
          "base_uri": "https://localhost:8080/"
        },
        "id": "62f40341",
        "outputId": "4fb38c55-dfd4-4b46-8e66-322270ecc944"
      },
      "outputs": [
        {
          "output_type": "stream",
          "name": "stdout",
          "text": [
            "Enter operation (+, -, *, /): -\n",
            "Enter first number: 98\n",
            "Enter second number: 98\n",
            "Result: 0.0\n"
          ]
        }
      ],
      "source": [
        "def add(x, y):\n",
        "    return x + y\n",
        "\n",
        "def subtract(x, y):\n",
        "    return x - y\n",
        "\n",
        "def multiply(x, y):\n",
        "    return x * y\n",
        "\n",
        "def divide(x, y):\n",
        "    if y != 0:\n",
        "        return x / y\n",
        "    else:\n",
        "        return \"Error: Cannot divide by zero\"\n",
        "\n",
        "# Driver code\n",
        "operation = input(\"Enter operation (+, -, *, /): \")\n",
        "num1 = float(input(\"Enter first number: \"))\n",
        "num2 = float(input(\"Enter second number: \"))\n",
        "\n",
        "if operation == \"+\":\n",
        "    result = add(num1, num2)\n",
        "elif operation == \"-\":\n",
        "    result = subtract(num1, num2)\n",
        "elif operation == \"*\":\n",
        "    result = multiply(num1, num2)\n",
        "elif operation == \"/\":\n",
        "    result = divide(num1, num2)\n",
        "else:\n",
        "    result = \"Invalid operation\"\n",
        "\n",
        "print(f\"Result: {result}\")"
      ]
    },
    {
      "cell_type": "markdown",
      "id": "e4938cec",
      "metadata": {
        "id": "e4938cec"
      },
      "source": [
        "#### Question 1.8. Write a program to find the larger of three pre-specfied numbers using ternary operators."
      ]
    },
    {
      "cell_type": "code",
      "execution_count": null,
      "id": "f9667295",
      "metadata": {
        "colab": {
          "base_uri": "https://localhost:8080/"
        },
        "id": "f9667295",
        "outputId": "0340ef8e-3ab6-4120-a851-2d6c685784a1"
      },
      "outputs": [
        {
          "output_type": "stream",
          "name": "stdout",
          "text": [
            "The largest number is: 20\n"
          ]
        }
      ],
      "source": [
        "def find_largest(a, b, c):\n",
        "    largest = a if a > b else b\n",
        "    largest = largest if largest > c else c\n",
        "    return largest\n",
        "\n",
        "# Driver code\n",
        "num1 = 10\n",
        "num2 = 20\n",
        "num3 = 15\n",
        "result = find_largest(num1, num2, num3)\n",
        "print(f\"The largest number is: {result}\")"
      ]
    },
    {
      "cell_type": "markdown",
      "id": "c06973e6",
      "metadata": {
        "id": "c06973e6"
      },
      "source": [
        "#### Question 1.9. Write a program to find the factors of a whole number using a while loop."
      ]
    },
    {
      "cell_type": "code",
      "execution_count": null,
      "id": "43cc8492",
      "metadata": {
        "colab": {
          "base_uri": "https://localhost:8080/"
        },
        "id": "43cc8492",
        "outputId": "16a8766e-4ab3-4f35-bb2c-9f454a544b51"
      },
      "outputs": [
        {
          "output_type": "stream",
          "name": "stdout",
          "text": [
            "Enter a whole number: 5\n",
            "The factors of 5 are: [1, 5]\n"
          ]
        }
      ],
      "source": [
        "def find_factors(number):\n",
        "    factors = []\n",
        "    divisor = 1\n",
        "\n",
        "    while divisor <= number:\n",
        "        if number % divisor == 0:\n",
        "            factors.append(divisor)\n",
        "        divisor += 1\n",
        "\n",
        "    return factors\n",
        "\n",
        "# Driver code\n",
        "user_number = int(input(\"Enter a whole number: \"))\n",
        "result = find_factors(user_number)\n",
        "print(f\"The factors of {user_number} are: {result}\")"
      ]
    },
    {
      "cell_type": "markdown",
      "id": "cf473c32",
      "metadata": {
        "id": "cf473c32"
      },
      "source": [
        "#### Question 1.10. Write a program to find the sum of all the positive numbers entered by the user. As soon as the user enters a negative number, stop taking any further input from the user and display the sum."
      ]
    },
    {
      "cell_type": "code",
      "execution_count": null,
      "id": "300cbee2",
      "metadata": {
        "colab": {
          "base_uri": "https://localhost:8080/"
        },
        "id": "300cbee2",
        "outputId": "1cc5c3e1-0866-4f75-e7c4-d2a1c8c69cf6"
      },
      "outputs": [
        {
          "output_type": "stream",
          "name": "stdout",
          "text": [
            "Enter a number (negative to stop): -\n",
            "Invalid input. Please enter a valid number.\n",
            "Enter a number (negative to stop): 23\n",
            "Enter a number (negative to stop): -4\n",
            "Sum of positive numbers: 23.00\n"
          ]
        }
      ],
      "source": [
        "def sum_positive_numbers():\n",
        "    total_sum = 0\n",
        "    while True:\n",
        "        try:\n",
        "            num = float(input(\"Enter a number (negative to stop): \"))\n",
        "            if num < 0:\n",
        "                break\n",
        "            total_sum += num\n",
        "        except ValueError:\n",
        "            print(\"Invalid input. Please enter a valid number.\")\n",
        "    print(f\"Sum of positive numbers: {total_sum:.2f}\")\n",
        "\n",
        "# Example usage:\n",
        "sum_positive_numbers()"
      ]
    },
    {
      "cell_type": "markdown",
      "id": "fa082947",
      "metadata": {
        "id": "fa082947"
      },
      "source": [
        "#### Question 1.11. Write a program to find prime numbers between 2 to 100 using nested for loops."
      ]
    },
    {
      "cell_type": "code",
      "execution_count": null,
      "id": "d8a63f73",
      "metadata": {
        "colab": {
          "base_uri": "https://localhost:8080/"
        },
        "id": "d8a63f73",
        "outputId": "de8e1b1f-db99-4c36-cedd-75c7c24503c5"
      },
      "outputs": [
        {
          "output_type": "stream",
          "name": "stdout",
          "text": [
            "2 3 5 7 11 13 17 19 23 29 31 37 41 43 47 53 59 61 67 71 73 79 83 89 97 "
          ]
        }
      ],
      "source": [
        "def is_prime(number):\n",
        "    if number < 2:\n",
        "        return False\n",
        "    for i in range(2, int(number**0.5) + 1):\n",
        "        if number % i == 0:\n",
        "            return False\n",
        "    return True\n",
        "\n",
        "# Finding prime numbers between 2 and 100\n",
        "for num in range(2, 101):\n",
        "    if is_prime(num):\n",
        "        print(num, end=\" \")\n"
      ]
    },
    {
      "cell_type": "markdown",
      "id": "12da944e",
      "metadata": {
        "id": "12da944e"
      },
      "source": [
        "#### Question 1.12. Write the programs for the following:"
      ]
    },
    {
      "cell_type": "code",
      "execution_count": null,
      "id": "938ecece",
      "metadata": {
        "colab": {
          "base_uri": "https://localhost:8080/"
        },
        "id": "938ecece",
        "outputId": "99489f01-5678-4bb1-eadd-0145b0952c3b"
      },
      "outputs": [
        {
          "output_type": "stream",
          "name": "stdout",
          "text": [
            "Enter marks for subject 1: 56\n",
            "Enter marks for subject 2: 78\n",
            "Enter marks for subject 3: 56\n",
            "Enter marks for subject 4: 89\n",
            "Enter marks for subject 5: 99\n",
            "Total Marks: 378.0\n",
            "Percentage: 75.6%\n",
            "Grade: B\n"
          ]
        }
      ],
      "source": [
        "# Function to calculate grade based on percentage\n",
        "def calculate_grade(percentage):\n",
        "    if percentage > 85:\n",
        "        return 'A'\n",
        "    elif 75 <= percentage <= 85:\n",
        "        return 'B'\n",
        "    elif 50 <= percentage < 75:\n",
        "        return 'C'\n",
        "    elif 30 <= percentage < 50:\n",
        "        return 'D'\n",
        "    else:\n",
        "        return 'Reappear'\n",
        "\n",
        "# Accept marks for five subjects\n",
        "marks = []\n",
        "total_marks = 0\n",
        "for i in range(5):\n",
        "    mark = float(input(f\"Enter marks for subject {i+1}: \"))\n",
        "\n",
        "    total_marks += mark\n",
        "\n",
        "percentage = total_marks / 5\n",
        "\n",
        "# Determine grade\n",
        "grade = calculate_grade(percentage)\n",
        "\n",
        "# Display results\n",
        "print(f\"Total Marks: {total_marks}\")\n",
        "print(f\"Percentage: {percentage}%\")\n",
        "print(f\"Grade: {grade}\")"
      ]
    },
    {
      "cell_type": "markdown",
      "id": "f446cfc9",
      "metadata": {
        "id": "f446cfc9"
      },
      "source": [
        "#### Question 1.13. Write a program for VIBGYOR spectrum based on their wavelength using Wavelength range."
      ]
    },
    {
      "cell_type": "code",
      "execution_count": null,
      "id": "5855c415",
      "metadata": {
        "colab": {
          "base_uri": "https://localhost:8080/"
        },
        "id": "5855c415",
        "outputId": "d1d8b580-bd16-4cfc-d2ef-86e552e34ff2"
      },
      "outputs": [
        {
          "output_type": "stream",
          "name": "stdout",
          "text": [
            "Enter the wavelength in nanometers: 555\n",
            "The color is Green.\n"
          ]
        }
      ],
      "source": [
        "# Take wavelength as input from user\n",
        "wavelength = float(input(\"Enter the wavelength in nanometers: \"))\n",
        "\n",
        "# Determine the color based on wavelength using if else statements\n",
        "if 400 <= wavelength <= 440:\n",
        "    print(\"The color is Violet.\")\n",
        "elif 440 < wavelength <= 460:\n",
        "    print(\"The color is Indigo.\")\n",
        "elif 460 < wavelength <= 500:\n",
        "    print(\"The color is Blue.\")\n",
        "elif 500 < wavelength <= 570:\n",
        "    print(\"The color is Green.\")\n",
        "elif 570 < wavelength <= 590:\n",
        "    print(\"The color is Yellow.\")\n",
        "elif 590 < wavelength <= 620:\n",
        "    print(\"The color is Orange.\")\n",
        "elif 620 < wavelength <= 720:\n",
        "    print(\"The color is Red.\")\n",
        "else:\n",
        "    print(\"Wavelength out of visible spectrum range.\")"
      ]
    },
    {
      "cell_type": "markdown",
      "id": "f3e7a783",
      "metadata": {
        "id": "f3e7a783"
      },
      "source": [
        "#### Question 1.14. Consider the gravitational interactions between the Earth, Moon, and Sun in our solar system. Given."
      ]
    },
    {
      "cell_type": "code",
      "execution_count": null,
      "id": "3db796b1",
      "metadata": {
        "colab": {
          "base_uri": "https://localhost:8080/"
        },
        "id": "3db796b1",
        "outputId": "9ec51fe9-6e6b-402e-ae6f-e97fc91a7267"
      },
      "outputs": [
        {
          "output_type": "stream",
          "name": "stdout",
          "text": [
            "Gravitational force between Earth and Sun: 3.54e+22 N\n",
            "Gravitational force between Moon and Earth: 1.98e+20 N\n",
            "Stronger gravitational force: Earth-Sun\n",
            "The Earth is more attracted to the Sun than the Moon is to the Earth.\n"
          ]
        }
      ],
      "source": [
        "# Constants\n",
        "G = 6.67430e-11  # Gravitational constant in m^3 kg^-1 s^-2\n",
        "mass_earth = 5.972e24  # Mass of Earth in kilograms\n",
        "mass_moon = 7.34767309e22  # Mass of Moon in kilograms\n",
        "mass_sun = 1.989e30  # Mass of Sun in kilograms\n",
        "distance_earth_sun = 1.496e11  # Average distance between Earth and Sun in meters\n",
        "distance_moon_earth = 3.844e8  # Average distance between Moon and Earth in meters\n",
        "\n",
        "# Task 1: Calculate the gravitational force between the Earth and the Sun\n",
        "force_earth_sun = G * (mass_earth * mass_sun) / (distance_earth_sun ** 2)\n",
        "\n",
        "# Task 2: Calculate the gravitational force between the Moon and the Earth\n",
        "force_moon_earth = G * (mass_moon * mass_earth) / (distance_moon_earth ** 2)\n",
        "\n",
        "# Task 3: Compare the calculated forces to determine which gravitational force is stronger\n",
        "stronger_force = \"Earth-Sun\" if force_earth_sun > force_moon_earth else \"Moon-Earth\"\n",
        "\n",
        "# Task 4: Explain which celestial body (Earth or Moon) is more attracted to the other based on the comparison\n",
        "attraction_explanation = (\n",
        "    \"The Earth is more attracted to the Sun than the Moon is to the Earth.\"\n",
        "    if stronger_force == \"Earth-Sun\"\n",
        "    else \"The Moon is more attracted to the Earth than the Earth is to the Sun.\"\n",
        ")\n",
        "\n",
        "# Output results\n",
        "print(f\"Gravitational force between Earth and Sun: {force_earth_sun:.2e} N\")\n",
        "print(f\"Gravitational force between Moon and Earth: {force_moon_earth:.2e} N\")\n",
        "print(f\"Stronger gravitational force: {stronger_force}\")\n",
        "print(attraction_explanation)"
      ]
    },
    {
      "cell_type": "markdown",
      "id": "493146cb",
      "metadata": {
        "id": "493146cb"
      },
      "source": [
        "#### Question 2. Design and implement a Python program for managing student information using object-oriented principles."
      ]
    },
    {
      "cell_type": "code",
      "execution_count": null,
      "id": "7b2646bb",
      "metadata": {
        "colab": {
          "base_uri": "https://localhost:8080/"
        },
        "id": "7b2646bb",
        "outputId": "e73bf7cd-8963-4b06-a880-4538a593b017"
      },
      "outputs": [
        {
          "output_type": "stream",
          "name": "stdout",
          "text": [
            "Name: Alice, Age: 20, Roll Number: S123\n",
            "Name: Bob, Age: 22, Roll Number: S124\n",
            "Name: Alicia, Age: 21, Roll Number: S123\n"
          ]
        }
      ],
      "source": [
        "# Task 1 --> Define the Student class with encapsulated attributes:\n",
        "\n",
        "class Student:\n",
        "    def __init__(self, name, age, roll_number):\n",
        "        self.__name = name\n",
        "        self.__age = age\n",
        "        self.__roll_number = roll_number\n",
        "\n",
        "# Task 2 --> Implement getter and setter methods for the attributes/\n",
        "\n",
        "    # Getter methods\n",
        "    def get_name(self):\n",
        "        return self.__name\n",
        "\n",
        "    def get_age(self):\n",
        "        return self.__age\n",
        "\n",
        "    def get_roll_number(self):\n",
        "        return self.__roll_number\n",
        "\n",
        "    # Setter methods\n",
        "    def set_name(self, name):\n",
        "        self.__name = name\n",
        "\n",
        "    def set_age(self, age):\n",
        "        self.__age = age\n",
        "\n",
        "    def set_roll_number(self, roll_number):\n",
        "        self.__roll_number = roll_number\n",
        "\n",
        "# Task 3 --> Write method to display student information\n",
        "    def display_info(self):\n",
        "        print(f\"Name: {self.__name}, Age: {self.__age}, Roll Number: {self.__roll_number}\")\n",
        "\n",
        "# Task 3 --> Write method to update student details\n",
        "    def update_details(self, name=None, age=None, roll_number=None):\n",
        "        if name:\n",
        "            self.__name = name\n",
        "        if age:\n",
        "            self.__age = age\n",
        "        if roll_number:\n",
        "            self.__roll_number = roll_number\n",
        "\n",
        "# Task 4 --> create instances of the 'Student' class and test the implemented functionality.\n",
        "\n",
        "# Creating instances\n",
        "student1 = Student(\"Alice\", 20, \"S123\")\n",
        "student2 = Student(\"Bob\", 22, \"S124\")\n",
        "\n",
        "# Displaying information\n",
        "student1.display_info()\n",
        "student2.display_info()\n",
        "\n",
        "# Updating details\n",
        "student1.update_details(name=\"Alicia\", age=21)\n",
        "student1.display_info()"
      ]
    },
    {
      "cell_type": "markdown",
      "id": "7b2f37ba",
      "metadata": {
        "id": "7b2f37ba"
      },
      "source": [
        "#### Question 3. Develop a Python program for managing library resources efficiently."
      ]
    },
    {
      "cell_type": "code",
      "execution_count": null,
      "id": "f94b8e3d",
      "metadata": {
        "colab": {
          "base_uri": "https://localhost:8080/"
        },
        "id": "f94b8e3d",
        "outputId": "ad51ee5b-41eb-45d8-9913-736c2647195c"
      },
      "outputs": [
        {
          "output_type": "stream",
          "name": "stdout",
          "text": [
            "Name: 1984, Author: George Orwell, Status: available\n",
            "Borrowed successfully\n",
            "Name: 1984, Author: George Orwell, Status: borrowed\n",
            "Returned successfully\n",
            "Name: 1984, Author: George Orwell, Status: available\n"
          ]
        }
      ],
      "source": [
        "class LibraryBook:\n",
        "    def __init__(self, name, author):\n",
        "        self.__name = name\n",
        "        self.__author = author\n",
        "        self.__status = 'available'\n",
        "\n",
        "\n",
        "    def borrow_book(self):\n",
        "        if self.__status == 'available':\n",
        "            self.__status = 'borrowed'\n",
        "            return True\n",
        "        else:\n",
        "            return False\n",
        "\n",
        "    def return_book(self):\n",
        "        if self.__status == 'borrowed':\n",
        "            self.__status = 'available'\n",
        "            return True\n",
        "        else:\n",
        "            return False\n",
        "\n",
        "    def get_book_details(self):\n",
        "        return f\"Name: {self.__name}, Author: {self.__author}, Status: {self.__status}\"\n",
        "\n",
        "# Driver code\n",
        "book1 = LibraryBook('1984', 'George Orwell')\n",
        "print(book1.get_book_details())\n",
        "\n",
        "if book1.borrow_book():\n",
        "    print(\"Borrowed successfully\")\n",
        "else:\n",
        "    print(\"Borrow failed\")\n",
        "\n",
        "print(book1.get_book_details())\n",
        "\n",
        "if book1.return_book():\n",
        "    print(\"Returned successfully\")\n",
        "else:\n",
        "    print(\"Return failed\")\n",
        "\n",
        "print(book1.get_book_details())"
      ]
    },
    {
      "cell_type": "markdown",
      "id": "3c24dd1a",
      "metadata": {
        "id": "3c24dd1a"
      },
      "source": [
        "#### Question 4: Create a simple banking system using object oriented concepts in Python."
      ]
    },
    {
      "cell_type": "code",
      "execution_count": null,
      "id": "aa75f3c0",
      "metadata": {
        "colab": {
          "base_uri": "https://localhost:8080/"
        },
        "id": "aa75f3c0",
        "outputId": "ed58d594-0718-42c6-a4ba-b35babaff934"
      },
      "outputs": [
        {
          "output_type": "stream",
          "name": "stdout",
          "text": [
            "1200\n",
            "400\n",
            "1200\n",
            "400\n"
          ]
        }
      ],
      "source": [
        "# Base class\n",
        "class BankAccount:\n",
        "    def __init__(self, owner, balance=0):\n",
        "        self.owner = owner\n",
        "        self.balance = balance\n",
        "\n",
        "    def deposit(self, amount):\n",
        "        self.balance += amount\n",
        "        return self.balance\n",
        "\n",
        "    def withdraw(self, amount):\n",
        "        if amount > self.balance:\n",
        "            raise ValueError(\"Insufficient funds\")\n",
        "        self.balance -= amount\n",
        "        return self.balance\n",
        "\n",
        "    def get_balance(self):\n",
        "        return self.balance\n",
        "\n",
        "# Subclasses\n",
        "class SavingsAccount(BankAccount):\n",
        "    pass  # Additional savings-specific methods can be added here\n",
        "\n",
        "class CheckingAccount(BankAccount):\n",
        "    pass  # Additional checking-specific methods can be added here\n",
        "\n",
        "# Testing the system\n",
        "savings = SavingsAccount(\"Alice\", 1000)\n",
        "checking = CheckingAccount(\"Bob\", 500)\n",
        "\n",
        "print(savings.deposit(200))   # Deposits $200 into Alice's savings account\n",
        "print(checking.withdraw(100)) # Withdraws $100 from Bob's checking account\n",
        "print(savings.get_balance())  # Prints current balance of Alice's savings account\n",
        "print(checking.get_balance()) # Prints current balance of Bob's checking account"
      ]
    },
    {
      "cell_type": "markdown",
      "id": "b024fa1d",
      "metadata": {
        "id": "b024fa1d"
      },
      "source": [
        "#### Question 5: Write a Python program that models different animals and their sounds."
      ]
    },
    {
      "cell_type": "code",
      "execution_count": null,
      "id": "6366e0d7",
      "metadata": {
        "colab": {
          "base_uri": "https://localhost:8080/"
        },
        "id": "6366e0d7",
        "outputId": "67110539-d79e-4a74-f972-ec74b3b449fc"
      },
      "outputs": [
        {
          "output_type": "stream",
          "name": "stdout",
          "text": [
            "Woof!\n",
            "Meow!\n"
          ]
        }
      ],
      "source": [
        "# Define the Animal class with a make_sound() method\n",
        "class Animal:\n",
        "    def make_sound(self):\n",
        "        pass\n",
        "\n",
        "# Create subclasses Dog and Cat that override the make_sound() method\n",
        "class Dog(Animal):\n",
        "    def make_sound(self):\n",
        "        print(\"Woof!\")\n",
        "\n",
        "class Cat(Animal):\n",
        "    def make_sound(self):\n",
        "        print(\"Meow!\")\n",
        "\n",
        "# Test the program by creating instances of Dog and Cat and calling the make_sound() method\n",
        "dog = Dog()\n",
        "dog.make_sound()\n",
        "\n",
        "cat = Cat()\n",
        "cat.make_sound()"
      ]
    },
    {
      "cell_type": "markdown",
      "id": "6fa01747",
      "metadata": {
        "id": "6fa01747"
      },
      "source": [
        "#### Question 6: Write a code for Restaurant Management System using OOPs."
      ]
    },
    {
      "cell_type": "code",
      "execution_count": null,
      "id": "4fd56aff",
      "metadata": {
        "id": "4fd56aff"
      },
      "outputs": [],
      "source": [
        "class MenuItem:\n",
        "    def __init__(self, name, description, price, category):\n",
        "        self.__id = id(self)\n",
        "        self.name = name\n",
        "        self.description = description\n",
        "        self.price = price\n",
        "        self.category = category\n",
        "\n",
        "    def update_item(self, name=None, description=None, price=None, category=None):\n",
        "        if name:\n",
        "            self.name = name\n",
        "        if description:\n",
        "            self.description = description\n",
        "        if price:\n",
        "            self.price = price\n",
        "        if category:\n",
        "            self.category = category\n",
        "\n",
        "    def get_id(self):\n",
        "        return self.__id\n",
        "\n",
        "class FoodItem(MenuItem):\n",
        "    def __init__(self, name, description, price, category, cuisine_type):\n",
        "        super().__init__(name, description, price, category)\n",
        "        self.cuisine_type = cuisine_type\n",
        "\n",
        "class BeverageItem(MenuItem):\n",
        "    def __init__(self, name, description, price, category, is_alcoholic):\n",
        "        super().__init__(name, description, price, category)\n",
        "        self.is_alcoholic = is_alcoholic\n",
        "\n",
        "class Menu:\n",
        "    def __init__(self):\n",
        "        self.items = []\n",
        "\n",
        "    def add_item(self, item):\n",
        "        self.items.append(item)\n",
        "\n",
        "    def remove_item(self, item_id):\n",
        "        self.items = [item for item in self.items if item.get_id() != item_id]\n",
        "\n",
        "    def update_item(self, item_id, **kwargs):\n",
        "        for item in self.items:\n",
        "            if item.get_id() == item_id:\n",
        "                item.update_item(**kwargs)\n",
        "\n",
        "# Driver code\n",
        "menu = Menu()\n",
        "food = FoodItem(\"Burger\", \"Delicious beef burger\", 5.99, \"Food\", \"American\")\n",
        "beverage = BeverageItem(\"Coke\", \"Refreshing soda\", 1.99, \"Beverage\", False)\n",
        "\n",
        "menu.add_item(food)\n",
        "menu.add_item(beverage)\n",
        "\n",
        "# Update item\n",
        "menu.update_item(food.get_id(), price=6.99)\n",
        "\n",
        "# Remove item\n",
        "menu.remove_item(beverage.get_id())"
      ]
    },
    {
      "cell_type": "markdown",
      "id": "2e1f9ba2",
      "metadata": {
        "id": "2e1f9ba2"
      },
      "source": [
        "#### Question 7: Write a code for Hotel Management System suing OOPs."
      ]
    },
    {
      "cell_type": "code",
      "execution_count": null,
      "id": "12f95e96",
      "metadata": {
        "colab": {
          "base_uri": "https://localhost:8080/"
        },
        "id": "12f95e96",
        "outputId": "ffc10c17-32b8-4199-e790-eb771500e18f"
      },
      "outputs": [
        {
          "output_type": "stream",
          "name": "stdout",
          "text": [
            "Room 101 booked successfully.\n",
            "Guest checked into room 101.\n",
            "Guest checked out of room 101.\n",
            "Room 102 booked successfully.\n"
          ]
        }
      ],
      "source": [
        "class Room:\n",
        "    def __init__(self, room_number, room_type, rate):\n",
        "        self.__room_number = room_number\n",
        "        self.room_type = room_type\n",
        "        self.rate = rate\n",
        "        self.__availability = True\n",
        "\n",
        "    def book_room(self):\n",
        "        if self.__availability:\n",
        "            self.__availability = False\n",
        "            return f\"Room {self.__room_number} booked successfully.\"\n",
        "        else:\n",
        "            return f\"Room {self.__room_number} is already booked.\"\n",
        "\n",
        "    def check_in(self):\n",
        "        if not self.__availability:\n",
        "            return f\"Guest checked into room {self.__room_number}.\"\n",
        "        else:\n",
        "            return f\"Room {self.__room_number} is not booked yet.\"\n",
        "\n",
        "    def check_out(self):\n",
        "        if not self.__availability:\n",
        "            self.__availability = True\n",
        "            return f\"Guest checked out of room {self.__room_number}.\"\n",
        "        else:\n",
        "            return f\"Room {self.__room_number} is already available.\"\n",
        "\n",
        "class SuiteRoom(Room):\n",
        "    def __init__(self, room_number, rate, extra_services):\n",
        "        super().__init__(room_number, \"Suite\", rate)\n",
        "        self.extra_services = extra_services\n",
        "\n",
        "class StandardRoom(Room):\n",
        "    def __init__(self, room_number, rate):\n",
        "        super().__init__(room_number, \"Standard\", rate)\n",
        "\n",
        "# Driver code\n",
        "suite = SuiteRoom(101, 200, [\"Breakfast\", \"Spa\"])\n",
        "standard = StandardRoom(102, 100)\n",
        "\n",
        "print(suite.book_room())\n",
        "print(suite.check_in())\n",
        "print(suite.check_out())\n",
        "print(standard.book_room())"
      ]
    },
    {
      "cell_type": "markdown",
      "id": "e7102ccf",
      "metadata": {
        "id": "e7102ccf"
      },
      "source": [
        "#### Question 8: Write a code for Fitness Club Management System using OOPs."
      ]
    },
    {
      "cell_type": "code",
      "execution_count": null,
      "id": "f261c45e",
      "metadata": {
        "colab": {
          "base_uri": "https://localhost:8080/"
        },
        "id": "f261c45e",
        "outputId": "98c3d1a2-2d95-4827-cb77-00853c7cea04"
      },
      "outputs": [
        {
          "output_type": "stream",
          "name": "stdout",
          "text": [
            "Member John Doe registered successfully.\n",
            "Family Member: John Doe, Family Size: 4\n",
            "Member Jane Smith registered successfully.\n",
            "Individual Member: Jane Smith, Personal Trainer: Yes\n"
          ]
        }
      ],
      "source": [
        "class Member:\n",
        "    def __init__(self, name, age, membership_type):\n",
        "        self.name = name\n",
        "        self.age = age\n",
        "        self.membership_type = membership_type\n",
        "        self.__membership_status = \"Active\"\n",
        "        self.__unique_id = self.generate_unique_id()\n",
        "\n",
        "    def generate_unique_id(self):\n",
        "        import uuid\n",
        "        return uuid.uuid4()\n",
        "\n",
        "    def register_member(self):\n",
        "        print(f\"Member {self.name} registered successfully.\")\n",
        "\n",
        "    def renew_membership(self):\n",
        "        self.__membership_status = \"Active\"\n",
        "        print(f\"Membership for {self.name} renewed successfully.\")\n",
        "\n",
        "    def cancel_membership(self):\n",
        "        self.__membership_status = \"Cancelled\"\n",
        "        print(f\"Membership for {self.name} cancelled successfully.\")\n",
        "\n",
        "    def get_membership_status(self):\n",
        "        return self.__membership_status\n",
        "\n",
        "class FamilyMember(Member):\n",
        "    def __init__(self, name, age, membership_type, family_size):\n",
        "        super().__init__(name, age, membership_type)\n",
        "        self.family_size = family_size\n",
        "\n",
        "    def display_family_info(self):\n",
        "        print(f\"Family Member: {self.name}, Family Size: {self.family_size}\")\n",
        "\n",
        "class IndividualMember(Member):\n",
        "    def __init__(self, name, age, membership_type, personal_trainer):\n",
        "        super().__init__(name, age, membership_type)\n",
        "        self.personal_trainer = personal_trainer\n",
        "\n",
        "    def display_individual_info(self):\n",
        "        print(f\"Individual Member: {self.name}, Personal Trainer: {self.personal_trainer}\")\n",
        "\n",
        "# Driver code\n",
        "member1 = FamilyMember(\"John Doe\", 35, \"Family\", 4)\n",
        "member1.register_member()\n",
        "member1.display_family_info()\n",
        "\n",
        "member2 = IndividualMember(\"Jane Smith\", 28, \"Individual\", \"Yes\")\n",
        "member2.register_member()\n",
        "member2.display_individual_info()"
      ]
    },
    {
      "cell_type": "markdown",
      "id": "32da7c66",
      "metadata": {
        "id": "32da7c66"
      },
      "source": [
        "#### Question 9: Write a code for Event Management System using OOPs."
      ]
    },
    {
      "cell_type": "code",
      "execution_count": null,
      "id": "96909c1f",
      "metadata": {
        "colab": {
          "base_uri": "https://localhost:8080/"
        },
        "id": "96909c1f",
        "outputId": "928c4216-0ad9-4a52-925d-daa4511256b6"
      },
      "outputs": [
        {
          "output_type": "stream",
          "name": "stdout",
          "text": [
            "Private Event hosted by Alice on 2024-07-20 at New Delhi\n",
            "Total Attendees: 2\n",
            "Public Event organized by XYZ Productions on 2024-08-15 at Mumbai\n",
            "Total Attendees: 1\n"
          ]
        }
      ],
      "source": [
        "class Event:\n",
        "    def __init__(self, name, date, time, location):\n",
        "        self.__event_id = id(self)\n",
        "        self.name = name\n",
        "        self.date = date\n",
        "        self.time = time\n",
        "        self.location = location\n",
        "        self.__attendees = []\n",
        "\n",
        "    def add_attendee(self, attendee):\n",
        "        self.__attendees.append(attendee)\n",
        "\n",
        "    def remove_attendee(self, attendee):\n",
        "        if attendee in self.__attendees:\n",
        "            self.__attendees.remove(attendee)\n",
        "\n",
        "    def get_total_attendees(self):\n",
        "        return len(self.__attendees)\n",
        "\n",
        "    def get_event_id(self):\n",
        "        return self.__event_id\n",
        "\n",
        "class PrivateEvent(Event):\n",
        "    def __init__(self, name, date, time, location, host):\n",
        "        super().__init__(name, date, time, location)\n",
        "        self.host = host\n",
        "\n",
        "    def get_event_details(self):\n",
        "        return f\"Private Event hosted by {self.host} on {self.date} at {self.location}\"\n",
        "\n",
        "class PublicEvent(Event):\n",
        "    def __init__(self, name, date, time, location, organizer):\n",
        "        super().__init__(name, date, time, location)\n",
        "        self.organizer = organizer\n",
        "\n",
        "    def get_event_details(self):\n",
        "        return f\"Public Event organized by {self.organizer} on {self.date} at {self.location}\"\n",
        "\n",
        "# Example usage\n",
        "event1 = PrivateEvent(\"Birthday Party\", \"2024-07-20\", \"18:00\", \"New Delhi\", \"Alice\")\n",
        "event1.add_attendee(\"Bob\")\n",
        "event1.add_attendee(\"Charlie\")\n",
        "print(event1.get_event_details())\n",
        "print(\"Total Attendees:\", event1.get_total_attendees())\n",
        "\n",
        "event2 = PublicEvent(\"Concert\", \"2024-08-15\", \"20:00\", \"Mumbai\", \"XYZ Productions\")\n",
        "event2.add_attendee(\"Dave\")\n",
        "print(event2.get_event_details())\n",
        "print(\"Total Attendees:\", event2.get_total_attendees())"
      ]
    },
    {
      "cell_type": "markdown",
      "id": "965f8faa",
      "metadata": {
        "id": "965f8faa"
      },
      "source": [
        "#### Question 10: Write a code for Airline Reservation System using OOPs."
      ]
    },
    {
      "cell_type": "code",
      "execution_count": null,
      "id": "77318fdb",
      "metadata": {
        "colab": {
          "base_uri": "https://localhost:8080/"
        },
        "id": "77318fdb",
        "outputId": "a26d1fc3-fe57-493e-aa58-9d05a315a132"
      },
      "outputs": [
        {
          "output_type": "stream",
          "name": "stdout",
          "text": [
            "Seat booked successfully.\n",
            "99\n",
            "Reservation cancelled.\n",
            "100\n"
          ]
        }
      ],
      "source": [
        "class Flight:\n",
        "    def __init__(self, flight_number, departure_airport, arrival_airport, departure_time, arrival_time, available_seats):\n",
        "        self.__flight_number = flight_number\n",
        "        self.departure_airport = departure_airport\n",
        "        self.arrival_airport = arrival_airport\n",
        "        self.departure_time = departure_time\n",
        "        self.arrival_time = arrival_time\n",
        "        self.__available_seats = available_seats\n",
        "\n",
        "    def book_seat(self):\n",
        "        if self.__available_seats > 0:\n",
        "            self.__available_seats -= 1\n",
        "            return \"Seat booked successfully.\"\n",
        "        else:\n",
        "            return \"No available seats.\"\n",
        "\n",
        "    def cancel_reservation(self):\n",
        "        self.__available_seats += 1\n",
        "        return \"Reservation cancelled.\"\n",
        "\n",
        "    def get_available_seats(self):\n",
        "        return self.__available_seats\n",
        "\n",
        "class DomesticFlight(Flight):\n",
        "    def __init__(self, flight_number, departure_airport, arrival_airport, departure_time, arrival_time, available_seats, domestic_code):\n",
        "        super().__init__(flight_number, departure_airport, arrival_airport, departure_time, arrival_time, available_seats)\n",
        "        self.domestic_code = domestic_code\n",
        "\n",
        "class InternationalFlight(Flight):\n",
        "    def __init__(self, flight_number, departure_airport, arrival_airport, departure_time, arrival_time, available_seats, international_code):\n",
        "        super().__init__(flight_number, departure_airport, arrival_airport, departure_time, arrival_time, available_seats)\n",
        "        self.international_code = international_code\n",
        "\n",
        "# Example usage:\n",
        "flight1 = DomesticFlight(\"AI101\", \"DEL\", \"BOM\", \"10:00\", \"12:00\", 100, \"D123\")\n",
        "print(flight1.book_seat())\n",
        "print(flight1.get_available_seats())\n",
        "print(flight1.cancel_reservation())\n",
        "print(flight1.get_available_seats())"
      ]
    },
    {
      "cell_type": "markdown",
      "id": "9ff351e9",
      "metadata": {
        "id": "9ff351e9"
      },
      "source": [
        "#### Question 11: Define a Python module names constants.py containing constants like pi and the speed of light."
      ]
    },
    {
      "cell_type": "code",
      "execution_count": null,
      "id": "f438a3b7",
      "metadata": {
        "colab": {
          "base_uri": "https://localhost:8080/"
        },
        "id": "f438a3b7",
        "outputId": "f602b353-1f45-4233-ed2b-f500a121bece"
      },
      "outputs": [
        {
          "output_type": "stream",
          "name": "stdout",
          "text": [
            "3.141592653589793\n"
          ]
        }
      ],
      "source": [
        "# constants.py\n",
        "\n",
        "PI = 3.14159\n",
        "SPEED_OF_LIGHT = 299792458  # meters per second\n",
        "\n",
        "import math\n",
        "print(math.pi)"
      ]
    },
    {
      "cell_type": "markdown",
      "id": "065f93ce",
      "metadata": {
        "id": "065f93ce"
      },
      "source": [
        "#### Question 12: Write a Python module named calculator.py containing functions for addition, subtraction, multiplication, and division."
      ]
    },
    {
      "cell_type": "code",
      "execution_count": null,
      "id": "a8f7a73b",
      "metadata": {
        "colab": {
          "base_uri": "https://localhost:8080/"
        },
        "id": "a8f7a73b",
        "outputId": "15f9a6a3-4b02-4a63-dafd-8680acd14f35"
      },
      "outputs": [
        {
          "output_type": "stream",
          "name": "stdout",
          "text": [
            "8\n",
            "6\n",
            "12\n",
            "5.0\n",
            "Error: Division by zero is not allowed.\n"
          ]
        }
      ],
      "source": [
        "# calculator.py\n",
        "\n",
        "def add(a, b):\n",
        "    \"\"\"Returns the sum of two numbers.\"\"\"\n",
        "    return a + b\n",
        "\n",
        "def subtract(a, b):\n",
        "    \"\"\"Returns the difference between two numbers.\"\"\"\n",
        "    return a - b\n",
        "\n",
        "def multiply(a, b):\n",
        "    \"\"\"Returns the product of two numbers.\"\"\"\n",
        "    return a * b\n",
        "\n",
        "def divide(a, b):\n",
        "    \"\"\"\n",
        "    Returns the result of dividing the first number by the second.\n",
        "    Note: Handles division by zero gracefully.\n",
        "    \"\"\"\n",
        "    try:\n",
        "        return a / b\n",
        "    except ZeroDivisionError:\n",
        "        return \"Error: Division by zero is not allowed.\"\n",
        "\n",
        "if __name__ == \"__main__\":\n",
        "    # Example usage:\n",
        "    print(add(5, 3))\n",
        "    print(subtract(10, 4))\n",
        "    print(multiply(2, 6))\n",
        "    print(divide(10, 2))\n",
        "    print(divide(10, 0))"
      ]
    },
    {
      "cell_type": "markdown",
      "id": "64ec1598",
      "metadata": {
        "id": "64ec1598"
      },
      "source": [
        "#### Q13. Implement a Python package structure for a project named ecommerce, containing modules for product management and order processing."
      ]
    },
    {
      "cell_type": "markdown",
      "id": "04905e76",
      "metadata": {
        "id": "04905e76"
      },
      "source": [
        "Certainly! To create a Python package structure for your \"ecommerce\" project, follow these steps:\n",
        "\n",
        "1. **Create the Project Directory:**\n",
        "   Start by creating a directory for your project. You can name it \"ecommerce\" or any other suitable name. Open your terminal and navigate to the desired location. Then run:\n",
        "   ```bash\n",
        "   mkdir ecommerce\n",
        "   cd ecommerce\n",
        "   ```\n",
        "\n",
        "2. **Initialize Git Repository:**\n",
        "   If you haven't already, initialize a Git repository for version control:\n",
        "   ```bash\n",
        "   git init\n",
        "   ```\n",
        "\n",
        "3. **Create Package Subdirectories:**\n",
        "   Inside the \"ecommerce\" directory, create subdirectories for your package modules. For your use case, you mentioned \"product management\" and \"order processing.\" Let's create those:\n",
        "   ```bash\n",
        "   mkdir product_management\n",
        "   mkdir order_processing\n",
        "   ```\n",
        "\n",
        "4. **Create Python Files (Modules):**\n",
        "   Inside each subdirectory, create Python files (modules) that correspond to the functionality you want. For example:\n",
        "   - In the \"product_management\" directory, create a file named `products.py`.\n",
        "   - In the \"order_processing\" directory, create a file named `orders.py`.\n",
        "\n",
        "5. **Add an `__init__.py` File:**\n",
        "   To make your subdirectories Python packages, add an empty `__init__.py` file in each subdirectory:\n",
        "   ```bash\n",
        "   touch product_management/__init__.py\n",
        "   touch order_processing/__init__.py\n",
        "   ```\n",
        "\n",
        "6. **Define Your Module Functions and Classes:**\n",
        "   In each module (e.g., `products.py` and `orders.py`), define the necessary functions, classes, and logic related to product management and order processing.\n",
        "\n",
        "7. **Package Structure:**\n",
        "   Your package structure will look like this:\n",
        "   ```\n",
        "   ecommerce/\n",
        "   ├── product_management/\n",
        "   │   ├── __init__.py\n",
        "   │   └── products.py\n",
        "   ├── order_processing/\n",
        "   │   ├── __init__.py\n",
        "   │   └── orders.py\n",
        "   └── README.md (optional)\n",
        "   ```\n",
        "\n",
        "8. **Activate a Conda Environment in VS Code:**\n",
        "   If you're using Conda, open VS Code, navigate to your project folder, and create a `conda` environment (if not already done):\n",
        "   ```bash\n",
        "   conda create --name ecommerce-env python=3.8\n",
        "   conda activate ecommerce-env\n",
        "   ```\n",
        "\n",
        "9. **Start Coding!**\n",
        "   Now you can start writing your code within the module files. Remember to import necessary modules and organize your code logically.\n",
        "\n",
        "10. **Commit Your Changes:**\n",
        "    If you initialized a Git repository, commit your changes:\n",
        "    ```bash\n",
        "    git add .\n",
        "    git commit -m \"Initial commit: Created package structure\"\n",
        "    ```"
      ]
    },
    {
      "cell_type": "markdown",
      "id": "9334069c",
      "metadata": {
        "id": "9334069c"
      },
      "source": [
        "#### Question 14: Implement a Python module named string_utils.py containing functions for string manipulation, such as string manipulation, such as reversing and capitalizing strings."
      ]
    },
    {
      "cell_type": "code",
      "execution_count": null,
      "id": "c6212164",
      "metadata": {
        "colab": {
          "base_uri": "https://localhost:8080/"
        },
        "id": "c6212164",
        "outputId": "1f4fbc67-58e1-4731-f7b8-2bf800a61e5d"
      },
      "outputs": [
        {
          "output_type": "stream",
          "name": "stdout",
          "text": [
            "Original string: hello world\n",
            "Reversed string: dlrow olleh\n",
            "Capitalized string: Hello World\n"
          ]
        }
      ],
      "source": [
        "# string_utils.py\n",
        "\n",
        "def reverse_string(input_string):\n",
        "    \"\"\"\n",
        "    Reverses the input string.\n",
        "    Args:\n",
        "        input_string (str): The string to reverse.\n",
        "    Returns:\n",
        "        str: The reversed string.\n",
        "    \"\"\"\n",
        "    return input_string[::-1]\n",
        "\n",
        "def capitalize_string(input_string):\n",
        "    \"\"\"\n",
        "    Capitalizes the first letter of each word in the input string.\n",
        "    Args:\n",
        "        input_string (str): The string to capitalize.\n",
        "    Returns:\n",
        "        str: The capitalized string.\n",
        "    \"\"\"\n",
        "    return ' '.join(word.capitalize() for word in input_string.split())\n",
        "\n",
        "# Driver code\n",
        "\n",
        "if __name__ == \"__main__\":\n",
        "    original_string = \"hello world\"\n",
        "    reversed_string = reverse_string(original_string)\n",
        "    capitalized_string = capitalize_string(original_string)\n",
        "\n",
        "    print(f\"Original string: {original_string}\")\n",
        "    print(f\"Reversed string: {reversed_string}\")\n",
        "    print(f\"Capitalized string: {capitalized_string}\")"
      ]
    },
    {
      "cell_type": "markdown",
      "id": "3974caf9",
      "metadata": {
        "id": "3974caf9"
      },
      "source": [
        "#### Question 15: Write a Python module named file_operations.py with functions for reading, writing, and appending data to a file."
      ]
    },
    {
      "cell_type": "code",
      "execution_count": null,
      "id": "792e7b10",
      "metadata": {
        "id": "792e7b10"
      },
      "outputs": [],
      "source": [
        "# file_operations.py\n",
        "\n",
        "def read_file(file_path):\n",
        "    \"\"\"\n",
        "    Reads and returns the content of a file.\n",
        "\n",
        "    Args:\n",
        "        file_path (str): Path to the file.\n",
        "\n",
        "    Returns:\n",
        "        str: Content of the file.\n",
        "    \"\"\"\n",
        "    try:\n",
        "        with open(file_path, 'r') as file:\n",
        "            content = file.read()\n",
        "            return content\n",
        "    except FileNotFoundError:\n",
        "        return \"File not found.\"\n",
        "\n",
        "def write_file(file_path, data):\n",
        "    \"\"\"\n",
        "    Writes data to a file.\n",
        "\n",
        "    Args:\n",
        "        file_path (str): Path to the file.\n",
        "        data (str): Data to write.\n",
        "\n",
        "    Returns:\n",
        "        str: Success message or error.\n",
        "    \"\"\"\n",
        "    try:\n",
        "        with open(file_path, 'w') as file:\n",
        "            file.write(data)\n",
        "        return \"Data written successfully.\"\n",
        "    except Exception as e:\n",
        "        return f\"Error writing data: {str(e)}\"\n",
        "\n",
        "def append_to_file(file_path, data):\n",
        "    \"\"\"\n",
        "    Appends data to an existing file.\n",
        "\n",
        "    Args:\n",
        "        file_path (str): Path to the file.\n",
        "        data (str): Data to append.\n",
        "\n",
        "    Returns:\n",
        "        str: Success message or error.\n",
        "    \"\"\"\n",
        "    try:\n",
        "        with open(file_path, 'a') as file:\n",
        "            file.write(data)\n",
        "        return \"Data appended successfully.\"\n",
        "    except Exception as e:\n",
        "        return f\"Error appending data: {str(e)}\""
      ]
    },
    {
      "cell_type": "markdown",
      "id": "892300f0",
      "metadata": {
        "id": "892300f0"
      },
      "source": [
        "#### Question 16: Write a Python program to create a text file named \"employees.txt\" and write the details of employees, including their name, age , and salary, into the file."
      ]
    },
    {
      "cell_type": "code",
      "execution_count": null,
      "id": "8eccf979",
      "metadata": {
        "colab": {
          "base_uri": "https://localhost:8080/"
        },
        "id": "8eccf979",
        "outputId": "f1562c32-5f11-427b-e9bd-2c159235a5f5"
      },
      "outputs": [
        {
          "output_type": "stream",
          "name": "stdout",
          "text": [
            "Employee details written to employees.txt\n"
          ]
        }
      ],
      "source": [
        "# Employee details\n",
        "employees = [\n",
        "    {\"name\": \"John Doe\", \"age\": 30, \"salary\": 60000},\n",
        "    {\"name\": \"Jane Smith\", \"age\": 28, \"salary\": 55000},\n",
        "    {\"name\": \"Michael Johnson\", \"age\": 35, \"salary\": 70000}\n",
        "]\n",
        "\n",
        "# Write employee details to the file\n",
        "with open(\"employees.txt\", \"w\") as file:\n",
        "    for emp in employees:\n",
        "        file.write(f\"Name: {emp['name']}, Age: {emp['age']}, Salary: ${emp['salary']}\\n\")\n",
        "\n",
        "print(\"Employee details written to employees.txt\")"
      ]
    },
    {
      "cell_type": "markdown",
      "id": "2b16b11d",
      "metadata": {
        "id": "2b16b11d"
      },
      "source": [
        "#### Question 17: Develop a Python script that opens an existing file named \"inventory.txt\" in read mode and displays the contents of the file line by line."
      ]
    },
    {
      "cell_type": "code",
      "execution_count": null,
      "id": "79cbf905",
      "metadata": {
        "colab": {
          "base_uri": "https://localhost:8080/"
        },
        "id": "79cbf905",
        "outputId": "4a164f56-ae9e-4374-ecb8-ba3def627b7e"
      },
      "outputs": [
        {
          "output_type": "stream",
          "name": "stdout",
          "text": [
            "File 'inventory.txt' not found.\n"
          ]
        }
      ],
      "source": [
        "# Open the file in read mode\n",
        "file_path = \"inventory.txt\"\n",
        "try:\n",
        "    with open(file_path, \"r\") as file:\n",
        "        for line in file:\n",
        "            print(line.strip())  # Remove trailing newline characters\n",
        "except FileNotFoundError:\n",
        "    print(f\"File '{file_path}' not found.\")"
      ]
    },
    {
      "cell_type": "markdown",
      "id": "3b8919eb",
      "metadata": {
        "id": "3b8919eb"
      },
      "source": [
        "#### Question 18: Create a Python script that reads a text file named \"expenses.txt\" and calculates the total amount spent on various expenses listed in the file."
      ]
    },
    {
      "cell_type": "code",
      "execution_count": null,
      "id": "1e884091",
      "metadata": {
        "colab": {
          "base_uri": "https://localhost:8080/"
        },
        "id": "1e884091",
        "outputId": "47ad12ee-fa96-4ab2-8156-2113f318bd7c"
      },
      "outputs": [
        {
          "output_type": "stream",
          "name": "stdout",
          "text": [
            "File 'expenses.txt' not found.\n"
          ]
        }
      ],
      "source": [
        "def calculate_total_expenses(filename):\n",
        "    total_amount = 0\n",
        "    try:\n",
        "        with open(filename, 'r') as file:\n",
        "            for line in file:\n",
        "                expense = float(line.strip())\n",
        "                total_amount += expense\n",
        "            return total_amount\n",
        "    except FileNotFoundError:\n",
        "        print(f\"File '{filename}' not found.\")\n",
        "        return None\n",
        "\n",
        "if __name__ == \"__main__\":\n",
        "    expenses_file = \"expenses.txt\"\n",
        "    total_spent = calculate_total_expenses(expenses_file)\n",
        "    if total_spent is not None:\n",
        "        print(f\"Total amount spent: ${total_spent:.2f}\")\n"
      ]
    },
    {
      "cell_type": "markdown",
      "id": "0f9a8c58",
      "metadata": {
        "id": "0f9a8c58"
      },
      "source": [
        "#### Question 19: Create a Python program that reads a text file named \"paragraph.txt\" and counts the occurences of each word in the paragraph, displaying the results in alphabetical order."
      ]
    },
    {
      "cell_type": "code",
      "execution_count": null,
      "id": "17a2c7fa",
      "metadata": {
        "colab": {
          "base_uri": "https://localhost:8080/"
        },
        "id": "17a2c7fa",
        "outputId": "05ab2b7b-b3ce-4638-bb8f-06305d3be08d"
      },
      "outputs": [
        {
          "output_type": "stream",
          "name": "stdout",
          "text": [
            "File 'paragraph.txt' not found.\n"
          ]
        }
      ],
      "source": [
        "def count_word_occurrences(file_path):\n",
        "    word_counts = {}\n",
        "    try:\n",
        "        with open(file_path, 'r') as file:\n",
        "            for line in file:\n",
        "                words = line.strip().split()\n",
        "                for word in words:\n",
        "                    word = word.lower()  # Convert to lowercase for case-insensitive counting\n",
        "                    word_counts[word] = word_counts.get(word, 0) + 1\n",
        "\n",
        "        # Display word counts in alphabetical order\n",
        "        for word, count in sorted(word_counts.items()):\n",
        "            print(f\"{word}: {count}\")\n",
        "\n",
        "    except FileNotFoundError:\n",
        "        print(f\"File '{file_path}' not found.\")\n",
        "\n",
        "# Example usage\n",
        "if __name__ == \"__main__\":\n",
        "    file_path = \"paragraph.txt\"  # Update with the actual file path\n",
        "    count_word_occurrences(file_path)\n"
      ]
    },
    {
      "cell_type": "markdown",
      "id": "a2cefc29",
      "metadata": {
        "id": "a2cefc29"
      },
      "source": [
        "#### Question 20. What do you mean by \"Measure of central tendency\" and \"Measure of dispersion\". How can it be calculated ?"
      ]
    },
    {
      "cell_type": "markdown",
      "id": "fee10580",
      "metadata": {
        "id": "fee10580"
      },
      "source": [
        "Measure of Central Tendency:\n",
        "\n",
        "Central tendency refers to the value around which data tends to cluster. It represents the “typical” or “central” value in a dataset.\n",
        "Common measures of central tendency include:\n",
        "\n",
        "Mean (Average): Calculated by summing up all data points and dividing by the total number of data points. The formula for the mean is:\n",
        "\n",
        "$$ \\text{Mean} = \\frac{\\sum_{i=1}^{n} X_i}{n} $$\n",
        "\n",
        "\n",
        "Median: The middle value when data points are arranged in ascending or descending order. If there’s an even number of data points, the median is the average of the two middle values.\n",
        "Mode: The most frequently occurring value in the dataset.\n",
        "\n",
        "\n",
        "\n",
        "\n",
        "\n",
        "Measure of Dispersion:\n",
        "\n",
        "Dispersion describes how spread out the data points are from the central value.\n",
        "Common measures of dispersion include:\n",
        "\n",
        "Range: The difference between the maximum and minimum values in the dataset.\n",
        "\n",
        "Variance: Measures the average squared deviation of each data point from the mean. The formula for variance is:\n",
        "\n",
        "$$ \\text{Variance} = \\frac{\\sum_{i=1}^{n} (X_i - \\text{Mean})^2}{n} $$\n",
        "\n",
        "Standard Deviation: The square root of the variance. It provides a more interpretable measure of dispersion.\n",
        "\n",
        "$$ \\text{Standard Deviation} = \\sqrt{\\text{Variance}} $$\n",
        "\n",
        "Interquartile Range (IQR): The difference between the third quartile (Q3) and the first quartile (Q1)."
      ]
    },
    {
      "cell_type": "markdown",
      "id": "a09dce7d",
      "metadata": {
        "id": "a09dce7d"
      },
      "source": [
        "#### Question 21. What do you mean by skewness ? Explain its types. Use graph to show."
      ]
    },
    {
      "cell_type": "markdown",
      "id": "700df15b",
      "metadata": {
        "id": "700df15b"
      },
      "source": [
        "**Skewness** is a statistical measure that describes the asymmetry of a probability distribution.\n",
        "\n",
        "**Positive Skewness:** A distribution is positively skewed when its tail extends more to the right (higher values) than to the left. In other words, the majority of data points are concentrated on the left side, and there are a few extreme values on the right. An example of positively skewed data might be income distribution, where most people earn average salaries, but a few earn significantly higher incomes.\n",
        "\n",
        "**Negative Skewness:** A distribution is negatively skewed when its tail extends more to the left (lower values) than to the right. Most data points are concentrated on the right side, and there are a few extreme values on the left. An example of negatively skewed data could be the age at retirement, where most people retire around a certain age, but a few retire earlier."
      ]
    },
    {
      "cell_type": "code",
      "execution_count": null,
      "id": "4afcd0ca",
      "metadata": {
        "colab": {
          "base_uri": "https://localhost:8080/",
          "height": 906
        },
        "id": "4afcd0ca",
        "outputId": "33089ede-90ed-44eb-d378-283fadd29f54"
      },
      "outputs": [
        {
          "output_type": "stream",
          "name": "stderr",
          "text": [
            "<ipython-input-76-ba1affb61193>:12: UserWarning: \n",
            "\n",
            "`distplot` is a deprecated function and will be removed in seaborn v0.14.0.\n",
            "\n",
            "Please adapt your code to use either `displot` (a figure-level function with\n",
            "similar flexibility) or `histplot` (an axes-level function for histograms).\n",
            "\n",
            "For a guide to updating your code to use the new functions, please see\n",
            "https://gist.github.com/mwaskom/de44147ed2974457ad6372750bbe5751\n",
            "\n",
            "  sns.distplot(data, ax=ax[0])\n",
            "<ipython-input-76-ba1affb61193>:16: UserWarning: \n",
            "\n",
            "`distplot` is a deprecated function and will be removed in seaborn v0.14.0.\n",
            "\n",
            "Please adapt your code to use either `displot` (a figure-level function with\n",
            "similar flexibility) or `histplot` (an axes-level function for histograms).\n",
            "\n",
            "For a guide to updating your code to use the new functions, please see\n",
            "https://gist.github.com/mwaskom/de44147ed2974457ad6372750bbe5751\n",
            "\n",
            "  sns.distplot(np.log(data), ax=ax[1])\n",
            "<ipython-input-76-ba1affb61193>:20: UserWarning: FixedFormatter should only be used together with FixedLocator\n",
            "  ax[1].set_xticklabels([round(d, 1) for d in np.exp(ax[1].get_xticks())])\n"
          ]
        },
        {
          "output_type": "display_data",
          "data": {
            "text/plain": [
              "<Figure size 1000x500 with 2 Axes>"
            ],
            "image/png": "[encoded data removed]"
          },
          "metadata": {}
        }
      ],
      "source": [
        "import seaborn as sns\n",
        "import numpy as np\n",
        "import matplotlib.pyplot as plt\n",
        "\n",
        "# Generate skewed data\n",
        "data = np.random.lognormal(mean=0, sigma=1, size=1000)\n",
        "\n",
        "# Create a distribution plot\n",
        "fig, ax = plt.subplots(1, 2, figsize=(10, 5))\n",
        "\n",
        "# Original data\n",
        "sns.distplot(data, ax=ax[0])\n",
        "ax[0].set_title(\"Original Data\")\n",
        "\n",
        "# Log-transformed data\n",
        "sns.distplot(np.log(data), ax=ax[1])\n",
        "ax[1].set_title(\"Log-Transformed Data\")\n",
        "\n",
        "# Set x-axis labels for log-transformed data\n",
        "ax[1].set_xticklabels([round(d, 1) for d in np.exp(ax[1].get_xticks())])\n",
        "\n",
        "plt.show()"
      ]
    },
    {
      "cell_type": "markdown",
      "id": "13d91255",
      "metadata": {
        "id": "13d91255"
      },
      "source": [
        "In the plot:\n",
        "\n",
        "The left subplot shows the original positively skewed data.\n",
        "The right subplot shows the same data after applying a logarithmic transformation to reduce skewness. Notice how the log transformation compresses the right tail, making the distribution more symmetric."
      ]
    },
    {
      "cell_type": "markdown",
      "id": "d195bf82",
      "metadata": {
        "id": "d195bf82"
      },
      "source": [
        "#### Question 22. Explain Probability Mass Function (PMF) and Probability Density Function (PDF), and what is the difference between them."
      ]
    },
    {
      "cell_type": "markdown",
      "id": "e8e1c94f",
      "metadata": {
        "id": "e8e1c94f"
      },
      "source": [
        "**Probability Mass Function (PMF):**\n",
        "\n",
        "The **PMF** is associated with **discrete random variables**. These variables take on specific, distinct values (such as integers or categories).\n",
        "\n",
        "The PMF assigns a probability to each possible value in the sample space.\n",
        "Mathematically, for a discrete random variable X, the PMF is denoted as P(X=x)\n",
        ", where x represents a specific value.\n",
        "\n",
        "The sum of all PMF values over the entire sample space is always equal to 1.\n",
        "\n",
        "Example: Rolling a fair six-sided die, where each face has equal probability (PMF) of 61.\n",
        "\n",
        "\n",
        "\n",
        "**Probability Density Function (PDF):**\n",
        "\n",
        "The PDF is associated with **continuous random variables.** These variables can take any value within a range (e.g., real numbers).\n",
        "Unlike the PMF, which assigns probabilities to specific points, the PDF describes the density of probabilities across an interval.\n",
        "\n",
        "Mathematically, for a continuous random variable X, the PDF is denoted as f(x), where f(x)≥0, for all x and the integral of f(x) over an interval gives the probability of X falling within that interval.\n",
        "\n",
        "The area under the PDF curve over a specific interval represents the probability of observing a value in that interval.\n",
        "\n",
        "Example: The standard normal distribution with its bell-shaped curve has a PDF.\n",
        "\n",
        "**Difference between PMF and PDF:**\n",
        "\n",
        "**Nature:** PMF deals with discrete outcomes (specific points), while PDF deals with continuous outcomes (intervals).\n",
        "\n",
        "**Units:** PMF has units of probability (e.g., P(X=2)), whereas PDF has units of probability per unit length (e.g., f(x)dx).\n",
        "\n",
        "**Integration:** To find probabilities using the PDF, we integrate it over an interval, whereas for PMF, we sum probabilities at specific points"
      ]
    },
    {
      "cell_type": "markdown",
      "id": "50e14c92",
      "metadata": {
        "id": "50e14c92"
      },
      "source": [
        "#### Question 23: What is correlation ? Explain its types in detail. What are the methods of determining correlation ?"
      ]
    },
    {
      "cell_type": "markdown",
      "id": "e4ccb5cd",
      "metadata": {
        "id": "e4ccb5cd"
      },
      "source": [
        "**Correlation analysis** is a statistical method used to evaluate the strength and direction of the relationship between two or more variables.\n",
        "\n",
        "**Pearson Correlation:**\n",
        "\n",
        "- Measures the linear relationship between two continuous variables.\n",
        "- Ranges from -1 (perfect negative correlation) to 1 (perfect positive correlation).\n",
        "- Assumes normally distributed variables with equal variances.\n",
        "- Computed using the formula:\n",
        "\n",
        "$$  r = \\frac{\\sum{(x_i - \\bar{x})(y_i - \\bar{y})}}{\\sqrt{\\sum{(x_i - \\bar{x})^2} \\sum{(y_i - \\bar{y})^2}}} $$\n",
        "\n",
        "\n",
        "\n",
        "**Spearman Rank Correlation:**\n",
        "\n",
        "- Measures the linear relationship between the ranks of two sets of numeric data.\n",
        "- Useful for ordinal data or when assumptions for Pearson correlation are not met.\n",
        "- Computed based on the ranks of data points.\n",
        "- No assumption of normal distribution.\n",
        "- Useful when dealing with non-linear relationships.\n",
        "\n",
        "$$ \\rho = 1 - \\frac{6\\sum{d_i2}}{n(n2 - 1)} $$\n",
        "\n",
        "where $$(d_i)$$ represents the difference in ranks for each pair of data points.\n",
        "\n",
        "\n",
        "**Correlation Ratio:**\n",
        "\n",
        "- Measures the correlation between a categorical column and a numeric column.\n",
        "- Useful for understanding how a categorical variable influences a continuous one.\n",
        "- Not limited to linear relationships.\n",
        "- Often used in feature selection.\n",
        "\n",
        "\n",
        "**Cramer's V:**\n",
        "\n",
        "- Specifically used for categorical data.\n",
        "- Measures the association between two categorical variables.\n",
        "- Similar to Pearson correlation but adapted for categorical data."
      ]
    },
    {
      "cell_type": "markdown",
      "id": "616daf45",
      "metadata": {
        "id": "616daf45"
      },
      "source": [
        "#### Question 24: Calculate coefficient of correlation between the marks obtained by 10 students in Accountancy and statistics ? Use Karl Pearson's Coefficient of Correlation Method to find it."
      ]
    },
    {
      "cell_type": "code",
      "execution_count": null,
      "id": "ee44f461",
      "metadata": {
        "colab": {
          "base_uri": "https://localhost:8080/"
        },
        "id": "ee44f461",
        "outputId": "e717691c-53e2-4496-8b34-b7636367011d"
      },
      "outputs": [
        {
          "output_type": "stream",
          "name": "stdout",
          "text": [
            "The coefficient of correlation is: 0.85\n"
          ]
        }
      ],
      "source": [
        "import numpy as np\n",
        "\n",
        "# Marks obtained by students\n",
        "accountancy = [45, 70, 65, 30, 90, 40, 50, 75, 85, 60]\n",
        "statistics = [35, 90, 70, 40, 95, 60, 40, 80, 80, 50]\n",
        "\n",
        "# Calculate the correlation coefficient\n",
        "correlation_coefficient = np.corrcoef(accountancy, statistics)[0, 1]\n",
        "\n",
        "print(f\"The coefficient of correlation is: {correlation_coefficient:.2f}\")"
      ]
    },
    {
      "cell_type": "markdown",
      "id": "13e58946",
      "metadata": {
        "id": "13e58946"
      },
      "source": [
        "#### Question 25: Discuss the 4 differences between correlation and regression."
      ]
    },
    {
      "cell_type": "markdown",
      "id": "c4dee13a",
      "metadata": {
        "id": "c4dee13a"
      },
      "source": [
        "**i. Purpose:**\n",
        "\n",
        "- **Correlation:** Measures the linear association between two variables (e.g., hours studied and exam scores). It indicates whether the variables move together (positive correlation) or in opposite directions (negative correlation).\n",
        "\n",
        "- **Regression:** Predicts how changes in one variable (predictor) affect another variable (response). It aims to establish a cause-and-effect relationship.\n",
        "\n",
        "**ii. Equation:**\n",
        "\n",
        "\n",
        "- **Correlation:** No equation; it’s a single value between -1 and 1.\n",
        "- **Regression:** Uses an equation to predict the response variable based on the predictor variable. For linear regression, the equation is:\n",
        "\n",
        "$$ \\hat{y} = b_0 + b_1x $$\n",
        "\n",
        "**iii. Interpretation:**\n",
        "\n",
        "- **Correlation:** Describes the strength and direction of the relationship (e.g., “strong positive correlation”).\n",
        "- **Regression**: Provides specific insights (e.g., “for each additional hour studied, exam scores increase by 2.58 points”).\n",
        "\n",
        "**iv. Causality:**\n",
        "\n",
        "- **Correlation:** Does not imply causation; it only shows association.\n",
        "- **Regression:** Can infer causal relationships (though not always definitive)."
      ]
    },
    {
      "cell_type": "markdown",
      "id": "7427dd07",
      "metadata": {
        "id": "7427dd07"
      },
      "source": [
        "#### Question 26: Find the most likely price at Delhi corresponding to the price of Rs. 70 at Agra from the following data. Coefficient of correlation between the prices of the two places is +0.8"
      ]
    },
    {
      "cell_type": "code",
      "execution_count": null,
      "id": "b55075ad",
      "metadata": {
        "colab": {
          "base_uri": "https://localhost:8080/"
        },
        "id": "b55075ad",
        "outputId": "73ca4519-94dc-40f9-9e41-0c8a98b45524"
      },
      "outputs": [
        {
          "output_type": "stream",
          "name": "stdout",
          "text": [
            "The most likely price in Delhi corresponding to Rs 70 in Agra is Rs 74.00\n"
          ]
        }
      ],
      "source": [
        "# Given data\n",
        "price_agra = 70\n",
        "mean_agra = 65\n",
        "std_dev_agra = 2.5\n",
        "\n",
        "mean_delhi = 67\n",
        "std_dev_delhi = 3.5\n",
        "\n",
        "# Calculate the z-score for Agra\n",
        "z_score = (price_agra - mean_agra) / std_dev_agra\n",
        "\n",
        "# Calculate the corresponding price in Delhi\n",
        "price_delhi = mean_delhi + (z_score * std_dev_delhi)\n",
        "\n",
        "print(f\"The most likely price in Delhi corresponding to Rs 70 in Agra is Rs {price_delhi:.2f}\")"
      ]
    },
    {
      "cell_type": "markdown",
      "id": "d3ac8312",
      "metadata": {
        "id": "d3ac8312"
      },
      "source": [
        "#### Question 27: In a partially destroyed laboratory record of an analysis of correlation data, the following results only are legible: Variance of x = 9; Regression equations are: ( 8x - 10y = -66 ); ( 40x - 18y = 214). What are (a) the mean values of x and y, (b) the coefficient of correlation between x and y?"
      ]
    },
    {
      "cell_type": "code",
      "execution_count": null,
      "id": "1a3ded83",
      "metadata": {
        "colab": {
          "base_uri": "https://localhost:8080/"
        },
        "id": "1a3ded83",
        "outputId": "d72d3d6c-568e-440a-8f00-cdc3a64a160b"
      },
      "outputs": [
        {
          "output_type": "stream",
          "name": "stdout",
          "text": [
            "Mean of x (X̄): 48.4\n",
            "Mean of y (Ȳ): 26.4\n",
            "Coefficient of correlation: 0.5454545454545454\n"
          ]
        }
      ],
      "source": [
        "import numpy as np\n",
        "\n",
        "# Given values\n",
        "sum_xy = 264\n",
        "sum_x_squared = 484\n",
        "\n",
        "# Calculate mean values (assuming we have n data points)\n",
        "n = 10  # Example number of data points\n",
        "X_bar = sum_x_squared / n\n",
        "Y_bar = sum_xy / n\n",
        "\n",
        "# Calculate the coefficient of correlation\n",
        "correlation_coefficient = sum_xy / np.sqrt(sum_x_squared * sum_x_squared)\n",
        "\n",
        "print(f\"Mean of x (X̄): {X_bar}\")\n",
        "print(f\"Mean of y (Ȳ): {Y_bar}\")\n",
        "print(f\"Coefficient of correlation: {correlation_coefficient}\")"
      ]
    },
    {
      "cell_type": "markdown",
      "id": "52d5bfcd",
      "metadata": {
        "id": "52d5bfcd"
      },
      "source": [
        "#### Question 28. What is Normal distribution ? What are the four Assumptions of Normal distribution ? Explain in detail."
      ]
    },
    {
      "cell_type": "markdown",
      "id": "8f3194e1",
      "metadata": {
        "id": "8f3194e1"
      },
      "source": [
        "The **normal distribution**, also known as the **Gaussian distribution,** is a continuous probability distribution that exhibits several key characteristics:\n",
        "\n",
        "- **Symmetry:** The normal distribution is symmetric around its mean. This means that the mean, median, and mode are all equal.\n",
        "\n",
        "- **Bell-shaped curve:** Most observations cluster around the central peak, and the probabilities for values further away from the mean taper off equally in both directions.\n",
        "\n",
        "- **Denseness:** Normal distributions are denser in the center and less dense in the tails.\n",
        "\n",
        "- **Parameters:** They are defined by two parameters: the mean (μ) and the standard deviation (σ).\n",
        "\n",
        "When analyzing data, many statistical techniques assume that the data follows a normal distribution. These assumptions are crucial for accurate results in tests like the one-sample t-test, two-sample t-test, ANOVA, and linear regression."
      ]
    },
    {
      "cell_type": "markdown",
      "id": "e85a53f7",
      "metadata": {
        "id": "e85a53f7"
      },
      "source": [
        "#### Question 29. Write all the characteristics or Properties of the Normal Distribution curve."
      ]
    },
    {
      "cell_type": "markdown",
      "id": "0054a69d",
      "metadata": {
        "id": "0054a69d"
      },
      "source": [
        "The **normal distribution,** also known as the **Gaussian distribution** or **bell curve,** exhibits several key properties:\n",
        "\n",
        "- **Symmetry:** The normal distribution is symmetric around its center (mean). This means that the left side of the peak mirrors the right side.\n",
        "\n",
        "- **Unimodal:** It has a single peak (mode), making it unimodal.\n",
        "\n",
        "- **Equal Mean, Median, and Mode:** The mean, median, and mode are all equal in a normal distribution.\n",
        "\n",
        "- **Standard Deviation:** The distribution can be described by two parameters: the mean (location parameter) and the standard deviation (scale parameter). The mean determines the center of the curve, while the standard deviation controls its width. A smaller standard deviation results in a narrower curve, and a larger standard deviation leads to a wider curve.\n",
        "\n",
        "- **Empirical Rule:** This rule provides insights into where most values lie in a - normal distribution:\n",
        "    - Around 68% of values fall within 1 standard deviation from the mean.\n",
        "    - Approximately 95% of values lie within 2 standard deviations from the mean.\n",
        "    - Nearly 99.7% of values are within 3 standard deviations from the mean."
      ]
    },
    {
      "cell_type": "markdown",
      "id": "f49f8613",
      "metadata": {
        "id": "f49f8613"
      },
      "source": [
        "#### Question 30. Which of the following options are correct about Normal Distribution Curve."
      ]
    },
    {
      "cell_type": "markdown",
      "id": "27fe7372",
      "metadata": {
        "id": "27fe7372"
      },
      "source": [
        "- **Option (a):** Incorrect. Within one standard deviation (sigma ) approximately 68% of observations lie, not 50%.\n",
        "\n",
        "- **Option (b):** Correct. Within one standard deviation from the mean , approximately 68.268% of observations lie.\n",
        "\n",
        "- **Option (c)**: Correct. Within two standard deviations from the mean , approximately 95.45% of observations lie.\n",
        "\n",
        "- **Option (d):** Correct. Within three standard deviations from the mean (, approximately 99.73% of observations lie.\n",
        "\n",
        "- **Option (e)**: Correct. Only 0.27% of observations lie outside the range\n",
        "\n",
        "**So, the correct options are (b), (c), (d), and (e).**"
      ]
    },
    {
      "cell_type": "markdown",
      "id": "3b02af0f",
      "metadata": {
        "id": "3b02af0f"
      },
      "source": [
        "#### Question 31. The mean of a distribution is 60 with a standard deviation of 10. Assuming that the distribution is normal, what percentage of items be (i) between 60 and 72, (ii) between 50 and 60, (iii) beyond 72, and (iv) between 70 and 80 ?"
      ]
    },
    {
      "cell_type": "code",
      "execution_count": null,
      "id": "00aa2449",
      "metadata": {
        "colab": {
          "base_uri": "https://localhost:8080/"
        },
        "id": "00aa2449",
        "outputId": "51fd8568-00cd-4727-be08-72ff23bcb198"
      },
      "outputs": [
        {
          "output_type": "stream",
          "name": "stdout",
          "text": [
            "Percentage of items between 60 and 72: 38.49%\n",
            "Percentage of items between 50 and 60: 34.13%\n",
            "Percentage of items beyond 72: 11.51%\n",
            "Percentage of items between 70 and 80: 13.59%\n"
          ]
        }
      ],
      "source": [
        "import scipy.stats as stats\n",
        "\n",
        "# Given values\n",
        "mean = 60\n",
        "std_dev = 10\n",
        "\n",
        "# (i) Percentage of items between 60 and 72\n",
        "p1 = stats.norm.cdf(72, mean, std_dev) - stats.norm.cdf(60, mean, std_dev)\n",
        "\n",
        "# (ii) Percentage of items between 50 and 60\n",
        "p2 = stats.norm.cdf(60, mean, std_dev) - stats.norm.cdf(50, mean, std_dev)\n",
        "\n",
        "# (iii) Percentage of items beyond 72\n",
        "p3 = 1 - stats.norm.cdf(72, mean, std_dev)\n",
        "\n",
        "# (iv) Percentage of items between 70 and 80\n",
        "p4 = stats.norm.cdf(80, mean, std_dev) - stats.norm.cdf(70, mean, std_dev)\n",
        "\n",
        "# Convert to percentages\n",
        "p1_percent = p1 * 100\n",
        "p2_percent = p2 * 100\n",
        "p3_percent = p3 * 100\n",
        "p4_percent = p4 * 100\n",
        "\n",
        "print(f\"Percentage of items between 60 and 72: {p1_percent:.2f}%\")\n",
        "print(f\"Percentage of items between 50 and 60: {p2_percent:.2f}%\")\n",
        "print(f\"Percentage of items beyond 72: {p3_percent:.2f}%\")\n",
        "print(f\"Percentage of items between 70 and 80: {p4_percent:.2f}%\")"
      ]
    },
    {
      "cell_type": "markdown",
      "id": "93f2fa68",
      "metadata": {
        "id": "93f2fa68"
      },
      "source": [
        "#### Question 32. 15000 students sat for an examination. The mean marks was 49 and the distribution of marks had a standard deviation of 6. Assuming that the marks were normally distributed, what proportion of students scored (a) more than 55 marks, (b) more than 70 marks ?"
      ]
    },
    {
      "cell_type": "code",
      "execution_count": null,
      "id": "adc177e1",
      "metadata": {
        "colab": {
          "base_uri": "https://localhost:8080/"
        },
        "id": "adc177e1",
        "outputId": "fb7c3e1c-3c50-405f-84ca-90d085c2cd52"
      },
      "outputs": [
        {
          "output_type": "stream",
          "name": "stdout",
          "text": [
            "Proportion of students who scored more than 55 marks: 0.15865525393145707\n",
            "Proportion of students who scored more than 70 marks: 0.0002326290790355401\n"
          ]
        }
      ],
      "source": [
        "from scipy.stats import norm\n",
        "\n",
        "# Given values\n",
        "mean = 49\n",
        "std_dev = 6\n",
        "\n",
        "# Proportion of students scoring more than 55 marks\n",
        "prop_more_than_55 = 1 - norm.cdf(55, mean, std_dev)\n",
        "\n",
        "# Proportion of students scoring more than 70 marks\n",
        "prop_more_than_70 = 1 - norm.cdf(70, mean, std_dev)\n",
        "\n",
        "print(f\"Proportion of students who scored more than 55 marks: {prop_more_than_55}\")\n",
        "print(f\"Proportion of students who scored more than 70 marks: {prop_more_than_70}\")"
      ]
    },
    {
      "cell_type": "markdown",
      "id": "ffac5b0a",
      "metadata": {
        "id": "ffac5b0a"
      },
      "source": [
        "#### Question 33. If the height of 500 students are normally distributed with mean 65 inches and standard deviation 5 inches. How many students have height: a) greater than 70 inch, b) between 60 and 70 inches."
      ]
    },
    {
      "cell_type": "code",
      "execution_count": null,
      "id": "54a217d0",
      "metadata": {
        "colab": {
          "base_uri": "https://localhost:8080/"
        },
        "id": "54a217d0",
        "outputId": "7c1d3233-0f6b-454b-efea-acb81680d37e"
      },
      "outputs": [
        {
          "output_type": "stream",
          "name": "stdout",
          "text": [
            " Number of students with height greater than 70 inches:  79\n",
            " Number of students with height between 60 and 70 inches:  341\n"
          ]
        }
      ],
      "source": [
        "import scipy.stats as stats\n",
        "\n",
        "mean_height = 65\n",
        "std_dev = 5\n",
        "\n",
        "# greater than 70 inch\n",
        "height_greater_than_70 = 1 - stats.norm.cdf(70, loc=mean_height, scale=std_dev)\n",
        "students_greater_than_70 = int(height_greater_than_70 * 500)\n",
        "\n",
        "print(\" Number of students with height greater than 70 inches: \",students_greater_than_70)\n",
        "\n",
        "# between 60 and 70 inches.\n",
        "height_between_60_and_70 = stats.norm.cdf(70, loc=mean_height, scale=std_dev) - stats.norm.cdf(60, loc=mean_height, scale=std_dev)\n",
        "students_between_60_and_70 = int(height_between_60_and_70 * 500)\n",
        "\n",
        "print(\" Number of students with height between 60 and 70 inches: \",students_between_60_and_70)"
      ]
    },
    {
      "cell_type": "markdown",
      "id": "2a92b98c",
      "metadata": {
        "id": "2a92b98c"
      },
      "source": [
        "#### Question 34. What is the statistical hypothesis ? (a) Explain the errors in hypothesis testing. (b) Explain the sample. (c) What are Large Samples and Small Samples ?"
      ]
    },
    {
      "cell_type": "markdown",
      "id": "80d4ef8e",
      "metadata": {
        "id": "80d4ef8e"
      },
      "source": [
        "**(a)Statistical Hypothesis:**\n",
        "\n",
        "- In hypothesis testing, we assess two mutually exclusive theories about a population. These theories are:\n",
        "    - **Null hypothesis (H₀):** There is no effect or difference.\n",
        "    - **Alternative hypothesis (H₁):** There is an effect or difference.\n",
        "- The goal is to use sample data to determine whether there’s enough evidence to reject the null hypothesis in favor of the alternative hypothesis. Ideally, we want to make correct conclusions about the population.\n",
        "- The four possible outcomes of a hypothesis test are:\n",
        "    - Correctly rejecting the null hypothesis (no effect exists).\n",
        "    - Incorrectly rejecting the null hypothesis (Type I error, a false positive).\n",
        "    - Correctly failing to reject the null hypothesis (effect exists).\n",
        "    - Incorrectly failing to reject the null hypothesis (Type II error, a false negative).\n",
        "    \n",
        "**(b) Errors in Hypothesis Testing:**\n",
        "- **Type I Error (False Positive):** Occurs when we reject the null hypothesis when it’s actually true. It’s like a fire alarm going off when there’s no fire.\n",
        "- **Type II Error (False Negative):** Happens when we fail to reject the null hypothesis when it’s false. It’s like the fire alarm not ringing during an actual fire.\n",
        "- Managing these errors involves choosing an appropriate significance level (alpha) and understanding the trade-offs.\n",
        "\n",
        "**(c) Sample:**\n",
        "A sample is a subset of data collected from a larger population.\n",
        "We use samples because it’s often impossible to measure the entire population directly.\n",
        "Ideally, a sample should be representative and randomly selected.\n",
        "\n",
        "- **Sample size matters:**\n",
        "\n",
        "    - **Large Samples:** When the sample size is large, statistical tests tend to be more reliable. They provide better estimates of population parameters.\n",
        "    \n",
        "    - **Small Samples:** Smaller samples may lead to less precise estimates and more variability due to random sampling error."
      ]
    },
    {
      "cell_type": "markdown",
      "id": "4e24502f",
      "metadata": {
        "id": "4e24502f"
      },
      "source": [
        "#### Question 35. A random sample of size 25 from a population gives the sample standard deviation to be 9.0. Test the hypothesis that the population standard deviation is 10.5. Hint (use chi-square distribution)"
      ]
    },
    {
      "cell_type": "code",
      "execution_count": null,
      "id": "eb8950af",
      "metadata": {
        "colab": {
          "base_uri": "https://localhost:8080/"
        },
        "id": "eb8950af",
        "outputId": "6f77ae03-20a2-4da9-be34-9a067cda1897"
      },
      "outputs": [
        {
          "output_type": "stream",
          "name": "stdout",
          "text": [
            "Chi-square statistic: 20.91\n",
            "P-value: 0.6442\n",
            "Fail to reject the null hypothesis: The population standard deviation is 10.5.\n"
          ]
        }
      ],
      "source": [
        "import scipy.stats as stats\n",
        "\n",
        "# Given data\n",
        "sample_size = 25\n",
        "sample_std_dev = 9.8\n",
        "population_std_dev = 10.5\n",
        "\n",
        "# Calculate the chi-square statistic\n",
        "chi_square_stat = (sample_size - 1) * (sample_std_dev ** 2) / (population_std_dev ** 2)\n",
        "\n",
        "# Calculate the p-value\n",
        "p_value = 1 - stats.chi2.cdf(chi_square_stat, df=sample_size - 1)\n",
        "\n",
        "# Print the results\n",
        "print(f\"Chi-square statistic: {chi_square_stat:.2f}\")\n",
        "print(f\"P-value: {p_value:.4f}\")\n",
        "\n",
        "# Determine if we reject the null hypothesis\n",
        "alpha = 0.05\n",
        "if p_value < alpha:\n",
        "    print(\"Reject the null hypothesis: The population standard deviation is not 10.5.\")\n",
        "else:\n",
        "    print(\"Fail to reject the null hypothesis: The population standard deviation is 10.5.\")"
      ]
    },
    {
      "cell_type": "markdown",
      "id": "3dd48c6d",
      "metadata": {
        "id": "3dd48c6d"
      },
      "source": [
        "#### Question 37. 100 students of a PW IOI obtained the following grades in Data Science paper:\n",
        "\n",
        "#### Grade: [A, B, C, D, E].\n",
        "\n",
        "#### Total Frequency: [15, 17, 30, 22, 16, 100]\n",
        "\n",
        "#### Using the chi-square test, examine the hypothesis that the distribution of grades is uniform"
      ]
    },
    {
      "cell_type": "code",
      "execution_count": null,
      "id": "8b70b17a",
      "metadata": {
        "colab": {
          "base_uri": "https://localhost:8080/",
          "height": 527
        },
        "id": "8b70b17a",
        "outputId": "9b8f4303-776c-443f-d633-2cbb9c85b6ec"
      },
      "outputs": [
        {
          "output_type": "stream",
          "name": "stdout",
          "text": [
            "Chi-squared test result:\n",
            "Chi-squared value: 7.7000\n",
            "P-value: 0.1032\n"
          ]
        },
        {
          "output_type": "display_data",
          "data": {
            "text/plain": [
              "<Figure size 640x480 with 1 Axes>"
            ],
            "image/png": "[encoded data removed]"
          },
          "metadata": {}
        }
      ],
      "source": [
        "import numpy as np\n",
        "import matplotlib.pyplot as plt\n",
        "from scipy.stats import chisquare\n",
        "\n",
        "# Given data\n",
        "grades = ['A', 'B', 'C', 'D', 'E']\n",
        "observed_frequencies = np.array([15, 17, 30, 22, 16])\n",
        "total_students = 100\n",
        "\n",
        "# Calculate expected frequencies for a uniform distribution\n",
        "expected_frequency = total_students / len(grades)\n",
        "\n",
        "# Perform chi-square test\n",
        "chisquare_val, p_value = chisquare(observed_frequencies, f_exp=expected_frequency)\n",
        "\n",
        "print(\"Chi-squared test result:\")\n",
        "print(f\"Chi-squared value: {chisquare_val:.4f}\")\n",
        "print(f\"P-value: {p_value:.4f}\")\n",
        "\n",
        "# Plot the histogram\n",
        "plt.figure()\n",
        "plt.hist(grades, bins=len(grades), weights=observed_frequencies, edgecolor='black')\n",
        "plt.xlabel('Grades')\n",
        "plt.ylabel('Frequency')\n",
        "plt.title('Distribution of Grades')\n",
        "plt.show()\n"
      ]
    },
    {
      "cell_type": "markdown",
      "id": "32464cef",
      "metadata": {
        "id": "32464cef"
      },
      "source": [
        "#### Question 38. To study the performance of 3 detergants and three different water temperatures the following whiteness readings were obtained with specially designed equipment."
      ]
    },
    {
      "cell_type": "code",
      "execution_count": null,
      "id": "c0427af1",
      "metadata": {
        "colab": {
          "base_uri": "https://localhost:8080/"
        },
        "id": "c0427af1",
        "outputId": "aa92d85e-3f51-4fe1-d8f8-5e2585fe192a"
      },
      "outputs": [
        {
          "output_type": "stream",
          "name": "stdout",
          "text": [
            "F-statistic: 0.6029143897996357, P-value: 0.5773005027709032\n",
            "\n",
            "Fail to reject null hypothesis - No significant difference between groups.\n"
          ]
        }
      ],
      "source": [
        "import pandas as pd\n",
        "from scipy.stats import f_oneway\n",
        "\n",
        "# Data from the image\n",
        "cold_water = [57, 55, 67]\n",
        "warm_water = [49, 52, 68]\n",
        "hot_water = [54, 46, 58]\n",
        "\n",
        "# Perform one-way ANOVA test\n",
        "f_statistic, p_value = f_oneway(cold_water, warm_water, hot_water)\n",
        "print(f\"F-statistic: {f_statistic}, P-value: {p_value}\")\n",
        "\n",
        "# Interpretation of results based on p-value\n",
        "if p_value < 0.05:\n",
        "    print(\"\\nReject null hypothesis - Significant differences exist between groups.\")\n",
        "else:\n",
        "    print(\"\\nFail to reject null hypothesis - No significant difference between groups.\")"
      ]
    },
    {
      "cell_type": "markdown",
      "id": "d813f473",
      "metadata": {
        "id": "d813f473"
      },
      "source": [
        "#### Question 39. How would you create a basic Flask route that displays \"Hello World!\" on the homepage ?"
      ]
    },
    {
      "cell_type": "code",
      "execution_count": null,
      "id": "0b73a849",
      "metadata": {
        "id": "0b73a849"
      },
      "outputs": [],
      "source": [
        "from flask import Flask\n",
        "app = Flask(__name__)\n",
        "\n",
        "@app.route('/')\n",
        "def index():\n",
        "    return 'Hello, World!'\n",
        "\n",
        "# if __name__ == '__main__':\n",
        "#     app.run(debug=True)"
      ]
    },
    {
      "cell_type": "markdown",
      "id": "c6e5986a",
      "metadata": {
        "id": "c6e5986a"
      },
      "source": [
        "#### Question 40. Explain how to set up a Flask application to handle form submissions using POST requests."
      ]
    },
    {
      "cell_type": "code",
      "execution_count": null,
      "id": "9453f8f8",
      "metadata": {
        "colab": {
          "base_uri": "https://localhost:8080/",
          "height": 54
        },
        "id": "9453f8f8",
        "outputId": "ac05f2da-be75-4b90-9ec3-c09a99976c8f"
      },
      "outputs": [
        {
          "output_type": "execute_result",
          "data": {
            "text/plain": [
              "'\\nStep 6: \\n\\nRun Your Application:\\n\\n- In your terminal, navigate to your project directory.\\n- Run export FLASK_APP=app.py (or set FLASK_APP=app.py on Windows).\\n- Run flask run to start your development server.\\n- Visit http://127.0.0.1:5000/ in your browser to access your form.\\n'"
            ],
            "application/vnd.google.colaboratory.intrinsic+json": {
              "type": "string"
            }
          },
          "metadata": {},
          "execution_count": 87
        }
      ],
      "source": [
        "\"\"\"\n",
        "Step 1: Create a Flask Application:\n",
        "\n",
        "- Make sure you have a local Python 3 environment set up.\n",
        "- Create a new directory for your Flask project (let’s call it flask_app).\n",
        "- Install Flask using pip install flask.\n",
        "- Create a Python file (e.g., app.py) in your project directory.\n",
        "\n",
        "\"\"\"\n",
        "\n",
        "\"\"\"'\n",
        "Step 2: Define route:\n",
        "\n",
        "In app.py, define routes for your application.\n",
        "\n",
        "'\"\"\"\n",
        "# from flask import Flask, request\n",
        "\n",
        "# app = Flask(__name__)\n",
        "\n",
        "# @app.route('/')\n",
        "# def index():\n",
        "#     # Display your form here\n",
        "#     return \"Welcome to the form!\"\n",
        "\n",
        "# @app.route('/create', methods=['POST'])\n",
        "# def create_message():\n",
        "#     # Handle the form submission\n",
        "#     if request.method == 'POST':\n",
        "#         user_data = request.form.get('user_input')  # Get data from the form\n",
        "#         # Process the data (e.g., store it in a list or database)\n",
        "#         return f\"Received: {user_data}\"\n",
        "\n",
        "\"\"\"\n",
        "Step 3: Create an HTML Form:\n",
        "\n",
        "- In your templates folder (create it if it doesn’t exist), create an HTML file (e.g., form.html).\n",
        "- Design your form with input fields (e.g., text fields, checkboxes) and a submit button.\n",
        "- Set the form’s action attribute to /create and method to POST.\n",
        "\n",
        "\"\"\"\n",
        "\n",
        "\"\"\"\n",
        "Step 4: Render the Form:\n",
        "\n",
        "In your index route, render the HTML form:\n",
        "\n",
        "\"\"\"\n",
        "\n",
        "# from flask import render_template\n",
        "\n",
        "# @app.route('/')\n",
        "# def index():\n",
        "#     return render_template('form.html')\n",
        "\n",
        "\"\"\"\n",
        "Step 5: Handle Form Submission:\n",
        "\n",
        "- In your create_message route, retrieve the form data using request.form.get('input_name').\n",
        "- Validate the data (e.g., check for empty fields).\n",
        "- Process the data (e.g., store it in a list or database).\n",
        "\"\"\"\n",
        "\n",
        "\"\"\"\n",
        "Step 6:\n",
        "\n",
        "Run Your Application:\n",
        "\n",
        "- In your terminal, navigate to your project directory.\n",
        "- Run export FLASK_APP=app.py (or set FLASK_APP=app.py on Windows).\n",
        "- Run flask run to start your development server.\n",
        "- Visit http://127.0.0.1:5000/ in your browser to access your form.\n",
        "\"\"\""
      ]
    },
    {
      "cell_type": "markdown",
      "id": "fb156580",
      "metadata": {
        "id": "fb156580"
      },
      "source": [
        "#### Question 41: Write a Flask route that accepts a parameter in the URL displays it on the page."
      ]
    },
    {
      "cell_type": "code",
      "execution_count": null,
      "id": "7700a383",
      "metadata": {
        "id": "7700a383"
      },
      "outputs": [],
      "source": [
        "# # In app.py\n",
        "# from flask import Flask\n",
        "\n",
        "# app = Flask(__name__)\n",
        "\n",
        "# @app.route('/greet/<string:name>')\n",
        "# def greet(name):\n",
        "#     return f\"Hello, {name}!\"\n",
        "\n",
        "# if __name__ == '__main__':\n",
        "#     app.run(debug=True)"
      ]
    },
    {
      "cell_type": "markdown",
      "id": "54dd9699",
      "metadata": {
        "id": "54dd9699"
      },
      "source": [
        "#### Question 42: How can you implement user authentication in a Flask application ?"
      ]
    },
    {
      "cell_type": "markdown",
      "id": "531f4fec",
      "metadata": {
        "id": "531f4fec"
      },
      "source": [
        "\n",
        "**Step 1:Create a Virtual Environment:**\n",
        "- Start by creating a project directory and navigating to it.\n",
        "- Use Python’s built-in venv library to create a virtual environment:\n",
        "\n",
        "    - mkdir flask-basic-auth\n",
        "    - cd flask-basic-auth\n",
        "    - python -m venv env\n",
        "    - source env/Scripts/activate\n",
        "\n",
        "- Install necessary libraries (Flask, Flask-Login, Flask-Bcrypt, Flask-WTF, Flask-Migrate, Flask-SQLAlchemy, and Flask-Testing).\n",
        "\n",
        "**Step 2: Flask-Login for Session Management:**\n",
        "\n",
        "- Use Flask-Login to handle user session management (login, logout, and session persistence).\n",
        "- Create a User model (using Flask-SQLAlchemy) to store user data (username, password hash, etc.).'\n",
        "\n",
        "**Step 3: Hash Passwords with Flask-Bcrypt:**\n",
        "\n",
        "- Use Flask-Bcrypt to securely hash and verify user passwords.\n",
        "- When a user registers or logs in, hash their password and store it in the database.'\n",
        "\n",
        "**Step 4: Create Login and Registration Forms with Flask-WTF:**\n",
        "\n",
        "- Use Flask-WTF to create forms for user registration and login.\n",
        "- Validate form inputs (e.g., check if username exists, validate password complexity).\n",
        "\n",
        "**Step 5: Protect Routes for Authenticated Users:**\n",
        "Use Flask-Login’s @login_required decorator to protect specific routes.\n",
        "For example:"
      ]
    },
    {
      "cell_type": "code",
      "execution_count": null,
      "id": "37c1eb2b",
      "metadata": {
        "id": "37c1eb2b"
      },
      "outputs": [],
      "source": [
        "# @app.route('/dashboard')\n",
        "# @login_required\n",
        "# def dashboard():\n",
        "#     # Your protected route logic here\n",
        "#     pass"
      ]
    },
    {
      "cell_type": "markdown",
      "id": "d5d52cd0",
      "metadata": {
        "id": "d5d52cd0"
      },
      "source": [
        "**Step 6: Database Migrations with Flask-Migrate:**\n",
        "\n",
        "- Use Flask-Migrate (with Alembic) to handle database schema changes.\n",
        "- Create a migration script for your User model.\n",
        "\n",
        "**Step 7: Integration with Flask-SQLAlchemy:**\n",
        "\n",
        "- Set up your database connection using Flask-SQLAlchemy.\n",
        "- Define your User model and any other necessary models.\n",
        "\n",
        "**Step 8: Unit Testing with Flask-Testing:**\n",
        "- Write unit tests for your authentication-related routes and functionality.\n",
        "- Use Flask-Testing to facilitate testing."
      ]
    },
    {
      "cell_type": "markdown",
      "id": "c4cf265e",
      "metadata": {
        "id": "c4cf265e"
      },
      "source": [
        "#### Question 43: Describe the process of connecting a Flask app to a SQLite database to SQLAlchemy."
      ]
    },
    {
      "cell_type": "code",
      "execution_count": null,
      "id": "80df1a21",
      "metadata": {
        "colab": {
          "base_uri": "https://localhost:8080/",
          "height": 36
        },
        "id": "80df1a21",
        "outputId": "d61515d4-6a94-4f64-b589-c9fb612d39dd"
      },
      "outputs": [
        {
          "output_type": "execute_result",
          "data": {
            "text/plain": [
              "'\\nStep 8: Run Your Flask App: Finally, run your Flask app to test the database functionality:\\n\\n'"
            ],
            "application/vnd.google.colaboratory.intrinsic+json": {
              "type": "string"
            }
          },
          "metadata": {},
          "execution_count": 90
        }
      ],
      "source": [
        "\"\"\"\n",
        "\n",
        "Step 1: Install Flask and Flask-SQLAlchemy:\n",
        "\n",
        "pip install flask flask-sqlalchemy\n",
        "\n",
        "Step 2: Create a Flask Application: Create a Flask application by importing Flask and initializing it:\n",
        "\n",
        "\"\"\"\n",
        "\n",
        "# from flask import Flask\n",
        "# app = Flask(__name__)\n",
        "\n",
        "\"\"\"\n",
        "Step 3: Configure the Database URI: Set the SQLALCHEMY_DATABASE_URI configuration option to specify the location of your SQLite database.\n",
        "\n",
        "\"\"\"\n",
        "# app.config['SQLALCHEMY_DATABASE_URI'] = 'sqlite:///mydatabase.db'\n",
        "\n",
        "\"\"\"\n",
        "Step 4: Initialize SQLAlchemy: Create an SQLAlchemy instance and bind it to your Flask app:\n",
        "\n",
        "\"\"\"\n",
        "# from flask_sqlalchemy import SQLAlchemy\n",
        "# db = SQLAlchemy(app)\n",
        "\n",
        "\"\"\"\n",
        "Step 5: Define Database Models: Define your database models (tables) using SQLAlchemy.\n",
        "\n",
        "\"\"\"\n",
        "# class User(db.Model):\n",
        "#     id = db.Column(db.Integer, primary_key=True)\n",
        "#     username = db.Column(db.String(80), unique=True, nullable=False)\n",
        "#     email = db.Column(db.String(120), unique=True, nullable=False)\n",
        "\n",
        "\"\"\"\n",
        "Step 6: Create the Database Tables: To create the database tables, run the following command in your Python shell:\n",
        "\n",
        "\"\"\"\n",
        "# db.create_all()\n",
        "\n",
        "\"\"\"\n",
        "Step 7: Perform Database Operations: You can now perform various database operations, such as adding data, querying, updating, and deleting records.\n",
        "\n",
        "\"\"\"\n",
        "\n",
        "# Add a new user\n",
        "# new_user = User(username='john_doe', email='john@example.com')\n",
        "# db.session.add(new_user)\n",
        "# db.session.commit()\n",
        "\n",
        "# Query users\n",
        "# users = User.query.all()\n",
        "\n",
        "# Update user data\n",
        "# user = User.query.filter_by(username='john_doe').first()\n",
        "# user.email = 'new_email@example.com'\n",
        "# db.session.commit()\n",
        "\n",
        "# Delete a user\n",
        "# user_to_delete = User.query.filter_by(username='john_doe').first()\n",
        "# db.session.delete(user_to_delete)\n",
        "# db.session.commit()\n",
        "\n",
        "\n",
        "\"\"\"\n",
        "Step 8: Run Your Flask App: Finally, run your Flask app to test the database functionality:\n",
        "\n",
        "\"\"\"\n",
        "\n",
        "# if __name__ == '__main__':\n",
        "#     app.run(debug=True)"
      ]
    },
    {
      "cell_type": "markdown",
      "id": "b32f7fdb",
      "metadata": {
        "id": "b32f7fdb"
      },
      "source": [
        "#### Question 44: How would you create a Restful API endpoint in Flask that returns JSON data ?"
      ]
    },
    {
      "cell_type": "code",
      "execution_count": null,
      "id": "b931422e",
      "metadata": {
        "id": "b931422e"
      },
      "outputs": [],
      "source": [
        "# \"\"\"\n",
        "# Step 1: Install Flask\n",
        "# \"\"\"\n",
        "# pip install flask\n",
        "\n",
        "# \"\"\"Step 2: Create a Flask app: Create a Python file (e.g., app.py) and\n",
        "# set up your Flask app:\n",
        "# \"\"\"\n",
        "# from flask import Flask, jsonify\n",
        "\n",
        "# app = Flask(__name__)\n",
        "\n",
        "# \"\"\"\n",
        "# Step 3: Define your API endpoint: Add a route to your app that corresponds to the desired endpoint.\n",
        "# \"\"\"\n",
        "# @app.route('/api/data', methods=['GET'])\n",
        "# def get_data():\n",
        "#     data = {'name': 'Alice', 'email': 'alice@example.com'}\n",
        "#     return jsonify(data)\n",
        "\n",
        "# \"\"\"\n",
        "# Step 4: Run your app: Run your Flask app using the following command:\n",
        "\n",
        "# \"\"\"\n",
        "# flask run"
      ]
    },
    {
      "cell_type": "markdown",
      "id": "66145e48",
      "metadata": {
        "id": "66145e48"
      },
      "source": [
        "#### Question 45: Explain how to use Flask - WTF to create and validate forms in a Flask application."
      ]
    },
    {
      "cell_type": "code",
      "execution_count": null,
      "id": "eaaec524",
      "metadata": {
        "colab": {
          "base_uri": "https://localhost:8080/",
          "height": 36
        },
        "id": "eaaec524",
        "outputId": "43b6b9b0-bb32-45db-eaef-0fa22edae603"
      },
      "outputs": [
        {
          "output_type": "execute_result",
          "data": {
            "text/plain": [
              "'Step 7: Access the Form: Visit http://localhost:5000/ in your browser to access the form. Fill in the fields and submit the form.'"
            ],
            "application/vnd.google.colaboratory.intrinsic+json": {
              "type": "string"
            }
          },
          "metadata": {},
          "execution_count": 92
        }
      ],
      "source": [
        "\"\"\"\n",
        "Install Flask-WTF:\n",
        "\n",
        "\"\"\"\n",
        "# pip install Flask-WTF\n",
        "\n",
        "\"\"\"\n",
        "Step 2: Create a Flask Application: Set up your Flask application by creating a Python file (e.g., app.py). Import necessary modules:\n",
        "\n",
        "\"\"\"\n",
        "# from flask import Flask, render_template\n",
        "# from flask_wtf import FlaskForm\n",
        "# from wtforms import StringField, SubmitField\n",
        "\n",
        "\"\"\"Step 3: Create a form class that inherits from FlaskForm. Define form fields using WTForms: \"\"\"\n",
        "# class MyForm(FlaskForm):\n",
        "#     name = StringField('Name')\n",
        "#     email = StringField('Email')\n",
        "#     submit = SubmitField('Submit')\n",
        "\n",
        "\"\"\"Step 4: Create a Route and View Function: In your Flask app, create a route to handle the form. Define a view function that renders the form:\"\"\"\n",
        "\n",
        "# app = Flask(__name__)\n",
        "\n",
        "# @app.route('/', methods=['GET', 'POST'])\n",
        "# def index():\n",
        "#     form = MyForm()\n",
        "#     if form.validate_on_submit():\n",
        "#         # Handle form submission (e.g., save data to database)\n",
        "#         return \"Form submitted successfully!\"\n",
        "#     return render_template('index.html', form=form)\n",
        "\n",
        "# if __name__ == '__main__':\n",
        "#     app.run(debug=True)\n",
        "\"\"\"\n",
        "Step 5:\n",
        "\n",
        "Create an HTML template (e.g., templates/index.html) to display the form:\n",
        "\n",
        "<!DOCTYPE html>\n",
        "<html>\n",
        "<head>\n",
        "    <title>My Form</title>\n",
        "</head>\n",
        "<body>\n",
        "    <h1>My Form</h1>\n",
        "    <form method=\"POST\">\n",
        "        {{ form.hidden_tag() }}\n",
        "        {{ form.name.label }} {{ form.name() }}\n",
        "        {{ form.email.label }} {{ form.email() }}\n",
        "        {{ form.submit() }}\n",
        "    </form>\n",
        "</body>\n",
        "</html>\n",
        "\n",
        "\"\"\"\n",
        "\n",
        "\"\"\"Step 6: Run Your Flask App: Start your Flask app: \"\"\"\n",
        "# python app.py\n",
        "\n",
        "\"\"\"Step 7: Access the Form: Visit http://localhost:5000/ in your browser to access the form. Fill in the fields and submit the form.\"\"\""
      ]
    },
    {
      "cell_type": "markdown",
      "id": "7a281a2b",
      "metadata": {
        "id": "7a281a2b"
      },
      "source": [
        "#### Question 46: How can you implement file uploads in a Flask application ?"
      ]
    },
    {
      "cell_type": "markdown",
      "id": "ff979224",
      "metadata": {
        "id": "ff979224"
      },
      "source": [
        "**Step 1: Setting Up the Environment:**\n",
        "\n",
        "- Begin by creating a virtual environment for your Flask project.\n",
        "- Install Flask and any other necessary packages.\n",
        "\n",
        "**Step 2: Creating the Flask Application:**\n",
        "\n",
        "- Set up your Flask project by creating a new Flask app.\n",
        "- Define routes and views for handling file uploads.\n",
        "\n",
        "**Step 3: Creating the Upload Route:**\n",
        "\n",
        "- Define a route (e.g., /upload) that handles file uploads.\n",
        "- In this route, check if the uploaded file exists in the request using request.files.\n",
        "- Access the uploaded file using request.files['file'].\n",
        "\n",
        "**Step 4: Creating the HTML Form:**\n",
        "\n",
        "- Design a simple HTML form with an input field for file uploads.\n",
        "- Set the form’s enctype attribute to \"multipart/form-data\" to handle file uploads."
      ]
    },
    {
      "cell_type": "code",
      "execution_count": null,
      "id": "f84e5f88",
      "metadata": {
        "id": "f84e5f88"
      },
      "outputs": [],
      "source": [
        "# # Step 5:In your Flask route, process the uploaded file:\n",
        "\n",
        "# @app.route('/upload', methods=['POST'])\n",
        "# def upload_file():\n",
        "#     if 'file' in request.files:\n",
        "#         file = request.files['file']\n"
      ]
    },
    {
      "cell_type": "markdown",
      "id": "9def4fe6",
      "metadata": {
        "id": "9def4fe6"
      },
      "source": [
        "**Step 6: Storing Uploaded Files:**\n",
        "\n",
        "- Decide where to store the uploaded files (e.g., a specific directory on your server).\n",
        "- Save the file securely using appropriate techniques (e.g., hashing, renaming, etc.).\n",
        "\n",
        "**Step 7: Error Handling and Testing:**\n",
        "\n",
        "- Handle potential errors (e.g., file size exceeded, invalid file type) gracefully.\n",
        "- Test your file upload feature thoroughly."
      ]
    },
    {
      "cell_type": "markdown",
      "id": "f4b9a77a",
      "metadata": {
        "id": "f4b9a77a"
      },
      "source": [
        "#### Question 47: Describe the steps to create a Flask blueprint and why you might use one."
      ]
    },
    {
      "cell_type": "markdown",
      "id": "612b98f4",
      "metadata": {
        "id": "612b98f4"
      },
      "source": [
        "**What is a Flask Blueprint?**\n",
        "\n",
        "- A Flask Blueprint is a way to organize your application into modular components.\n",
        "- It allows you to group related views, templates, and static files together.\n",
        "- Blueprints enhance code reusability and maintainability.\n",
        "\n",
        "**Step 1: Creating a Flask Blueprint:**\n",
        "\n",
        "- First, create a new Python file (e.g., auth.py or blog.py) for your blueprint.\n",
        "- Define the blueprint using Blueprint class:"
      ]
    },
    {
      "cell_type": "code",
      "execution_count": null,
      "id": "c7f2621b",
      "metadata": {
        "colab": {
          "base_uri": "https://localhost:8080/",
          "height": 36
        },
        "id": "c7f2621b",
        "outputId": "2368c77d-9e1b-4c61-8abd-34be4e1dd3e1"
      },
      "outputs": [
        {
          "output_type": "execute_result",
          "data": {
            "text/plain": [
              "'\\n\\nThe first argument is the blueprint name, and the second is the module/package where it’s defined.\\n\\n'"
            ],
            "application/vnd.google.colaboratory.intrinsic+json": {
              "type": "string"
            }
          },
          "metadata": {},
          "execution_count": 94
        }
      ],
      "source": [
        "# from flask import Blueprint\n",
        "\n",
        "\"\"\"\n",
        "\n",
        "The first argument is the blueprint name, and the second is the module/package where it’s defined.\n",
        "\n",
        "\"\"\"\n",
        "# my_blueprint = Blueprint('my_blueprint', __name__)"
      ]
    },
    {
      "cell_type": "markdown",
      "id": "1ad78fd6",
      "metadata": {
        "id": "1ad78fd6"
      },
      "source": [
        "**Step 2: Adding Routes to the Blueprint:**\n",
        "In your blueprint file, define views (routes) using the `@my_blueprint.route` decorator:"
      ]
    },
    {
      "cell_type": "code",
      "execution_count": null,
      "id": "01b7ae58",
      "metadata": {
        "id": "01b7ae58"
      },
      "outputs": [],
      "source": [
        "# @my_blueprint.route('/')\n",
        "# def index():\n",
        "#     return 'Hello from my blueprint!'"
      ]
    },
    {
      "cell_type": "markdown",
      "id": "6149961d",
      "metadata": {
        "id": "6149961d"
      },
      "source": [
        "**Step 3: Registering the Blueprint:**\n",
        "\n",
        "- In your main application file (e.g., app.py), register the blueprint:"
      ]
    },
    {
      "cell_type": "code",
      "execution_count": null,
      "id": "179d6607",
      "metadata": {
        "id": "179d6607"
      },
      "outputs": [],
      "source": [
        "# from flask import Flask\n",
        "# from my_blueprint import my_blueprint\n",
        "\n",
        "# app = Flask(__name__)\n",
        "# app.register_blueprint(my_blueprint)"
      ]
    },
    {
      "cell_type": "markdown",
      "id": "fa4efbfc",
      "metadata": {
        "id": "fa4efbfc"
      },
      "source": [
        "**Why Use Blueprints?**\n",
        "\n",
        "- **Modularity:** Blueprints allow you to break down large applications into smaller, manageable pieces.\n",
        "- **Code Organization:** Keep related functionality together, improving project structure.\n",
        "- **Code Reusability:** Share blueprints across different parts of your app or even across multiple apps.\n",
        "- **Extension Integration:** Blueprints work seamlessly with Flask extensions.-"
      ]
    },
    {
      "cell_type": "markdown",
      "id": "86e9c2a9",
      "metadata": {
        "id": "86e9c2a9"
      },
      "source": [
        "#### Question 48. How would you deploy a Flask application to a production server using Gunicorn and Nginx ?"
      ]
    },
    {
      "cell_type": "markdown",
      "id": "9a7adf24",
      "metadata": {
        "id": "9a7adf24"
      },
      "source": [
        "**Step 1: Install Necessary Components:**\n",
        "\n",
        "- Update your server’s packages: `sudo apt update`\n",
        "- Install required packages: `sudo apt install python3-pip python3-dev build-essential libssl-dev libffi-dev python3-setuptools`\n",
        "-- Install Nginx: Follow these steps.\n",
        "\n",
        "**Step 2: Create a Python Virtual Environment:**\n",
        "\n",
        "    - Install `python3-venv`: `sudo apt install python3-venv`\n",
        "- Create a parent directory for your project: `mkdir ~/myproject`\n",
        "- Change into the directory: cd ~/myproject\n",
        "- Create a virtual environment: `python3.6 -m venv myprojectenv`\n",
        "- Activate the environment: `source myprojectenv/bin/activate`\n",
        "\n",
        "**Step 3: Install Flask and Your Application Dependencies:**\n",
        "\n",
        "- Install Flask and other dependencies within the virtual environment.\n",
        "\n",
        "**Step 4: Configure Gunicorn:**\n",
        "\n",
        "- Install Gunicorn: `pip install gunicorn`\n",
        "- Create a WSGI entry point (e.g., myapp.wsgi).\n",
        "\n",
        "**Step 5: Configure Nginx:**\n",
        "\n",
        "- Create an Nginx server block (virtual host) for your domain.\n",
        "- Set up Nginx as a reverse proxy to forward requests to Gunicorn.\n",
        "\n",
        "**Step 6: Test and Restart Services:**\n",
        "\n",
        "- Test Gunicorn: `gunicorn --bind 0.0.0.0:8000 myapp.wsgi`\n",
        "- Test Nginx: Access your domain in a browser.\n",
        "- If everything works, restart services: `sudo systemctl restart gunicorn nginx`"
      ]
    },
    {
      "cell_type": "markdown",
      "id": "5179d07c",
      "metadata": {
        "id": "5179d07c"
      },
      "source": [
        "#### Question 49. Make a fully functional web application using flask, Mongodb, Signup, Signin page. And after successfully login, Say \"Hello Geeks\" message at webpage."
      ]
    },
    {
      "cell_type": "markdown",
      "id": "fdf675c4",
      "metadata": {
        "id": "fdf675c4"
      },
      "source": [
        "**Step 1:Setting Up Your Environment:**\n",
        "\n",
        "- Install Python.\n",
        "- Install Flask using `pip install flask.`\n",
        "- Set up MongoDB\n",
        "\n",
        "**Step 2:Create a Flask Project:**\n",
        "\n",
        "- Create a new directory for your project.\n",
        "- Inside that directory, create a Python file (e.g., `app.py`)."
      ]
    },
    {
      "cell_type": "code",
      "execution_count": null,
      "id": "896b6e3c",
      "metadata": {
        "id": "896b6e3c"
      },
      "outputs": [],
      "source": [
        "# Step 3: Initialize Flask App:\n",
        "\n",
        "# app.py\n",
        "\n",
        "# from flask import Flask, render_template, request, redirect, url_for\n",
        "\n",
        "# app = Flask(__name__)\n",
        "\n",
        "# # Your MongoDB configuration goes here\n",
        "# # ...\n",
        "\n",
        "# @app.route('/')\n",
        "# def home():\n",
        "#     return 'Welcome to the Flask app!'\n",
        "\n",
        "# if __name__ == '__main__':\n",
        "#     app.run(debug=True)"
      ]
    },
    {
      "cell_type": "markdown",
      "id": "a8c56932",
      "metadata": {
        "id": "a8c56932"
      },
      "source": [
        "**Step 4: Create HTML Templates:**\n",
        "- Create a `templates` folder in your project directory.\n",
        "- Inside the `templates` folder, create `signup.html` and `login.html` files. These will be your signup and login pages.\n",
        "\n",
        "**Step 5: Signup Page (`signup.html`):**"
      ]
    },
    {
      "cell_type": "code",
      "execution_count": null,
      "id": "a32e0380",
      "metadata": {
        "id": "a32e0380"
      },
      "outputs": [],
      "source": [
        "# <!-- signup.html -->\n",
        "# <form method=\"POST\" action=\"/signup\">\n",
        "#     <input type=\"text\" name=\"username\" placeholder=\"Username\">\n",
        "#     <input type=\"password\" name=\"password\" placeholder=\"Password\">\n",
        "#     <button type=\"submit\">Sign Up</button>\n",
        "# </form>"
      ]
    },
    {
      "cell_type": "markdown",
      "id": "9955c1eb",
      "metadata": {
        "id": "9955c1eb"
      },
      "source": [
        "**Step 6: Login Page (`login.html`):**"
      ]
    },
    {
      "cell_type": "code",
      "execution_count": null,
      "id": "4972cd43",
      "metadata": {
        "id": "4972cd43"
      },
      "outputs": [],
      "source": [
        "# <!-- login.html -->\n",
        "# <form method=\"POST\" action=\"/login\">\n",
        "#     <input type=\"text\" name=\"username\" placeholder=\"Username\">\n",
        "#     <input type=\"password\" name=\"password\" placeholder=\"Password\">\n",
        "#     <button type=\"submit\">Log In</button>\n",
        "# </form>"
      ]
    },
    {
      "cell_type": "markdown",
      "id": "b360988c",
      "metadata": {
        "id": "b360988c"
      },
      "source": [
        "**Step 7: Handle Signup and Login Routes:**"
      ]
    },
    {
      "cell_type": "code",
      "execution_count": null,
      "id": "4afb7a5b",
      "metadata": {
        "id": "4afb7a5b"
      },
      "outputs": [],
      "source": [
        "# # app.py\n",
        "# @app.route('/signup', methods=['POST'])\n",
        "# def signup():\n",
        "#     # Handle user registration logic (store username and hashed password in MongoDB)\n",
        "#     # Redirect to login page after successful signup\n",
        "\n",
        "# @app.route('/login', methods=['POST'])\n",
        "# def login():\n",
        "#     # Handle user login logic (validate credentials against MongoDB)\n",
        "#     # Redirect to homepage after successful login"
      ]
    },
    {
      "cell_type": "markdown",
      "id": "eaa67ce9",
      "metadata": {
        "id": "eaa67ce9"
      },
      "source": [
        "**Step 8: Display “Hello Geeks” After Successful Login:**"
      ]
    },
    {
      "cell_type": "code",
      "execution_count": null,
      "id": "329d8448",
      "metadata": {
        "id": "329d8448"
      },
      "outputs": [],
      "source": [
        "# # app.py\n",
        "# @app.route('/dashboard')\n",
        "# def dashboard():\n",
        "#     # Check if user is authenticated (e.g., using session or JWT)\n",
        "#     # If authenticated, render a template with \"Hello Geeks\" message\n",
        "#     return render_template('dashboard.html')\n",
        "\n",
        "# # Create a `dashboard.html` template with the desired message"
      ]
    },
    {
      "cell_type": "markdown",
      "id": "d28d2ff9",
      "metadata": {
        "id": "d28d2ff9"
      },
      "source": [
        "**Step 9: Run Your Flask App:**\n",
        "- Execute `python app.py` in your terminal.\n",
        "\n",
        "- Visit `http://127.0.0.1:5000/` in your browser to see your app."
      ]
    },
    {
      "cell_type": "markdown",
      "id": "cbe3788b",
      "metadata": {
        "id": "cbe3788b"
      },
      "source": [
        "#### Q50. Create a database named Travel_Planner in mysql, and create a table named bookings having attributes (user_id INT, flight_id INT, hotel_id INT, activity_id INT, booking_date DATE). Fill it with some dummy values. Now you have to read the contents of this table using pandas as dataframe. Show the output"
      ]
    },
    {
      "cell_type": "markdown",
      "id": "f17bb7bf",
      "metadata": {
        "id": "f17bb7bf"
      },
      "source": [
        "demo.sql\n",
        "```mysql CREATE DATABASE Travel_Planner;\n",
        "\n",
        "USE Travel_Planner;\n",
        "\n",
        "CREATE TABLE bookings (\n",
        "    user_id INT,\n",
        "    flight_id INT,\n",
        "    hotel_id INT,\n",
        "    activity_id INT,\n",
        "    booking_date DATE\n",
        ");\n",
        "INSERT INTO bookings (user_id, flight_id, hotel_id, activity_id, booking_date)\n",
        "VALUES\n",
        "    (1, 101, 201, 301, '2024-07-14'),\n",
        "    (2, 102, 202, 302, '2024-07-15'),\n",
        "    (3, 103, 203, 303, '2024-07-16');\n",
        "    \n",
        " select * from bookings;\n",
        "```"
      ]
    },
    {
      "cell_type": "code",
      "execution_count": null,
      "id": "4747d11b",
      "metadata": {
        "colab": {
          "base_uri": "https://localhost:8080/",
          "height": 143
        },
        "id": "4747d11b",
        "outputId": "9f8fa8a6-4bf6-42ab-9c4c-d95b36a3d2f2"
      },
      "outputs": [
        {
          "output_type": "execute_result",
          "data": {
            "text/plain": [
              "   user_id  flight_id  hotel_id  activity_id booking_date\n",
              "0        1        101       201          301   2024-07-14\n",
              "1        2        102       202          302   2024-07-15\n",
              "2        3        103       203          303   2024-07-16"
            ],
            "text/html": [
              "\n",
              "  <div id=\"df-caf57b9c-d746-49d6-b65f-d21b0bb493f6\" class=\"colab-df-container\">\n",
              "    <div>\n",
              "<style scoped>\n",
              "    .dataframe tbody tr th:only-of-type {\n",
              "        vertical-align: middle;\n",
              "    }\n",
              "\n",
              "    .dataframe tbody tr th {\n",
              "        vertical-align: top;\n",
              "    }\n",
              "\n",
              "    .dataframe thead th {\n",
              "        text-align: right;\n",
              "    }\n",
              "</style>\n",
              "<table border=\"1\" class=\"dataframe\">\n",
              "  <thead>\n",
              "    <tr style=\"text-align: right;\">\n",
              "      <th></th>\n",
              "      <th>user_id</th>\n",
              "      <th>flight_id</th>\n",
              "      <th>hotel_id</th>\n",
              "      <th>activity_id</th>\n",
              "      <th>booking_date</th>\n",
              "    </tr>\n",
              "  </thead>\n",
              "  <tbody>\n",
              "    <tr>\n",
              "      <th>0</th>\n",
              "      <td>1</td>\n",
              "      <td>101</td>\n",
              "      <td>201</td>\n",
              "      <td>301</td>\n",
              "      <td>2024-07-14</td>\n",
              "    </tr>\n",
              "    <tr>\n",
              "      <th>1</th>\n",
              "      <td>2</td>\n",
              "      <td>102</td>\n",
              "      <td>202</td>\n",
              "      <td>302</td>\n",
              "      <td>2024-07-15</td>\n",
              "    </tr>\n",
              "    <tr>\n",
              "      <th>2</th>\n",
              "      <td>3</td>\n",
              "      <td>103</td>\n",
              "      <td>203</td>\n",
              "      <td>303</td>\n",
              "      <td>2024-07-16</td>\n",
              "    </tr>\n",
              "  </tbody>\n",
              "</table>\n",
              "</div>\n",
              "    <div class=\"colab-df-buttons\">\n",
              "\n",
              "  <div class=\"colab-df-container\">\n",
              "    <button class=\"colab-df-convert\" onclick=\"convertToInteractive('df-caf57b9c-d746-49d6-b65f-d21b0bb493f6')\"\n",
              "            title=\"Convert this dataframe to an interactive table.\"\n",
              "            style=\"display:none;\">\n",
              "\n",
              "  <svg xmlns=\"http://www.w3.org/2000/svg\" height=\"24px\" viewBox=\"0 -960 960 960\">\n",
              "    <path d=\"M120-120v-720h720v720H120Zm60-500h600v-160H180v160Zm220 220h160v-160H400v160Zm0 220h160v-160H400v160ZM180-400h160v-160H180v160Zm440 0h160v-160H620v160ZM180-180h160v-160H180v160Zm440 0h160v-160H620v160Z\"/>\n",
              "  </svg>\n",
              "    </button>\n",
              "\n",
              "  <style>\n",
              "    .colab-df-container {\n",
              "      display:flex;\n",
              "      gap: 12px;\n",
              "    }\n",
              "\n",
              "    .colab-df-convert {\n",
              "      background-color: #E8F0FE;\n",
              "      border: none;\n",
              "      border-radius: 50%;\n",
              "      cursor: pointer;\n",
              "      display: none;\n",
              "      fill: #1967D2;\n",
              "      height: 32px;\n",
              "      padding: 0 0 0 0;\n",
              "      width: 32px;\n",
              "    }\n",
              "\n",
              "    .colab-df-convert:hover {\n",
              "      background-color: #E2EBFA;\n",
              "      box-shadow: 0px 1px 2px rgba(60, 64, 67, 0.3), 0px 1px 3px 1px rgba(60, 64, 67, 0.15);\n",
              "      fill: #174EA6;\n",
              "    }\n",
              "\n",
              "    .colab-df-buttons div {\n",
              "      margin-bottom: 4px;\n",
              "    }\n",
              "\n",
              "    [theme=dark] .colab-df-convert {\n",
              "      background-color: #3B4455;\n",
              "      fill: #D2E3FC;\n",
              "    }\n",
              "\n",
              "    [theme=dark] .colab-df-convert:hover {\n",
              "      background-color: #434B5C;\n",
              "      box-shadow: 0px 1px 3px 1px rgba(0, 0, 0, 0.15);\n",
              "      filter: drop-shadow(0px 1px 2px rgba(0, 0, 0, 0.3));\n",
              "      fill: #FFFFFF;\n",
              "    }\n",
              "  </style>\n",
              "\n",
              "    <script>\n",
              "      const buttonEl =\n",
              "        document.querySelector('#df-caf57b9c-d746-49d6-b65f-d21b0bb493f6 button.colab-df-convert');\n",
              "      buttonEl.style.display =\n",
              "        google.colab.kernel.accessAllowed ? 'block' : 'none';\n",
              "\n",
              "      async function convertToInteractive(key) {\n",
              "        const element = document.querySelector('#df-caf57b9c-d746-49d6-b65f-d21b0bb493f6');\n",
              "        const dataTable =\n",
              "          await google.colab.kernel.invokeFunction('convertToInteractive',\n",
              "                                                    [key], {});\n",
              "        if (!dataTable) return;\n",
              "\n",
              "        const docLinkHtml = 'Like what you see? Visit the ' +\n",
              "          '<a target=\"_blank\" href=https://colab.research.google.com/notebooks/data_table.ipynb>data table notebook</a>'\n",
              "          + ' to learn more about interactive tables.';\n",
              "        element.innerHTML = '';\n",
              "        dataTable['output_type'] = 'display_data';\n",
              "        await google.colab.output.renderOutput(dataTable, element);\n",
              "        const docLink = document.createElement('div');\n",
              "        docLink.innerHTML = docLinkHtml;\n",
              "        element.appendChild(docLink);\n",
              "      }\n",
              "    </script>\n",
              "  </div>\n",
              "\n",
              "\n",
              "<div id=\"df-821b90b9-eb7b-4eab-a8c4-8c1a2e2a7ed1\">\n",
              "  <button class=\"colab-df-quickchart\" onclick=\"quickchart('df-821b90b9-eb7b-4eab-a8c4-8c1a2e2a7ed1')\"\n",
              "            title=\"Suggest charts\"\n",
              "            style=\"display:none;\">\n",
              "\n",
              "<svg xmlns=\"http://www.w3.org/2000/svg\" height=\"24px\"viewBox=\"0 0 24 24\"\n",
              "     width=\"24px\">\n",
              "    <g>\n",
              "        <path d=\"M19 3H5c-1.1 0-2 .9-2 2v14c0 1.1.9 2 2 2h14c1.1 0 2-.9 2-2V5c0-1.1-.9-2-2-2zM9 17H7v-7h2v7zm4 0h-2V7h2v10zm4 0h-2v-4h2v4z\"/>\n",
              "    </g>\n",
              "</svg>\n",
              "  </button>\n",
              "\n",
              "<style>\n",
              "  .colab-df-quickchart {\n",
              "      --bg-color: #E8F0FE;\n",
              "      --fill-color: #1967D2;\n",
              "      --hover-bg-color: #E2EBFA;\n",
              "      --hover-fill-color: #174EA6;\n",
              "      --disabled-fill-color: #AAA;\n",
              "      --disabled-bg-color: #DDD;\n",
              "  }\n",
              "\n",
              "  [theme=dark] .colab-df-quickchart {\n",
              "      --bg-color: #3B4455;\n",
              "      --fill-color: #D2E3FC;\n",
              "      --hover-bg-color: #434B5C;\n",
              "      --hover-fill-color: #FFFFFF;\n",
              "      --disabled-bg-color: #3B4455;\n",
              "      --disabled-fill-color: #666;\n",
              "  }\n",
              "\n",
              "  .colab-df-quickchart {\n",
              "    background-color: var(--bg-color);\n",
              "    border: none;\n",
              "    border-radius: 50%;\n",
              "    cursor: pointer;\n",
              "    display: none;\n",
              "    fill: var(--fill-color);\n",
              "    height: 32px;\n",
              "    padding: 0;\n",
              "    width: 32px;\n",
              "  }\n",
              "\n",
              "  .colab-df-quickchart:hover {\n",
              "    background-color: var(--hover-bg-color);\n",
              "    box-shadow: 0 1px 2px rgba(60, 64, 67, 0.3), 0 1px 3px 1px rgba(60, 64, 67, 0.15);\n",
              "    fill: var(--button-hover-fill-color);\n",
              "  }\n",
              "\n",
              "  .colab-df-quickchart-complete:disabled,\n",
              "  .colab-df-quickchart-complete:disabled:hover {\n",
              "    background-color: var(--disabled-bg-color);\n",
              "    fill: var(--disabled-fill-color);\n",
              "    box-shadow: none;\n",
              "  }\n",
              "\n",
              "  .colab-df-spinner {\n",
              "    border: 2px solid var(--fill-color);\n",
              "    border-color: transparent;\n",
              "    border-bottom-color: var(--fill-color);\n",
              "    animation:\n",
              "      spin 1s steps(1) infinite;\n",
              "  }\n",
              "\n",
              "  @keyframes spin {\n",
              "    0% {\n",
              "      border-color: transparent;\n",
              "      border-bottom-color: var(--fill-color);\n",
              "      border-left-color: var(--fill-color);\n",
              "    }\n",
              "    20% {\n",
              "      border-color: transparent;\n",
              "      border-left-color: var(--fill-color);\n",
              "      border-top-color: var(--fill-color);\n",
              "    }\n",
              "    30% {\n",
              "      border-color: transparent;\n",
              "      border-left-color: var(--fill-color);\n",
              "      border-top-color: var(--fill-color);\n",
              "      border-right-color: var(--fill-color);\n",
              "    }\n",
              "    40% {\n",
              "      border-color: transparent;\n",
              "      border-right-color: var(--fill-color);\n",
              "      border-top-color: var(--fill-color);\n",
              "    }\n",
              "    60% {\n",
              "      border-color: transparent;\n",
              "      border-right-color: var(--fill-color);\n",
              "    }\n",
              "    80% {\n",
              "      border-color: transparent;\n",
              "      border-right-color: var(--fill-color);\n",
              "      border-bottom-color: var(--fill-color);\n",
              "    }\n",
              "    90% {\n",
              "      border-color: transparent;\n",
              "      border-bottom-color: var(--fill-color);\n",
              "    }\n",
              "  }\n",
              "</style>\n",
              "\n",
              "  <script>\n",
              "    async function quickchart(key) {\n",
              "      const quickchartButtonEl =\n",
              "        document.querySelector('#' + key + ' button');\n",
              "      quickchartButtonEl.disabled = true;  // To prevent multiple clicks.\n",
              "      quickchartButtonEl.classList.add('colab-df-spinner');\n",
              "      try {\n",
              "        const charts = await google.colab.kernel.invokeFunction(\n",
              "            'suggestCharts', [key], {});\n",
              "      } catch (error) {\n",
              "        console.error('Error during call to suggestCharts:', error);\n",
              "      }\n",
              "      quickchartButtonEl.classList.remove('colab-df-spinner');\n",
              "      quickchartButtonEl.classList.add('colab-df-quickchart-complete');\n",
              "    }\n",
              "    (() => {\n",
              "      let quickchartButtonEl =\n",
              "        document.querySelector('#df-821b90b9-eb7b-4eab-a8c4-8c1a2e2a7ed1 button');\n",
              "      quickchartButtonEl.style.display =\n",
              "        google.colab.kernel.accessAllowed ? 'block' : 'none';\n",
              "    })();\n",
              "  </script>\n",
              "</div>\n",
              "\n",
              "    </div>\n",
              "  </div>\n"
            ],
            "application/vnd.google.colaboratory.intrinsic+json": {
              "type": "dataframe",
              "variable_name": "df",
              "summary": "{\n  \"name\": \"df\",\n  \"rows\": 3,\n  \"fields\": [\n    {\n      \"column\": \"user_id\",\n      \"properties\": {\n        \"dtype\": \"number\",\n        \"std\": 1,\n        \"min\": 1,\n        \"max\": 3,\n        \"num_unique_values\": 3,\n        \"samples\": [\n          1,\n          2,\n          3\n        ],\n        \"semantic_type\": \"\",\n        \"description\": \"\"\n      }\n    },\n    {\n      \"column\": \"flight_id\",\n      \"properties\": {\n        \"dtype\": \"number\",\n        \"std\": 1,\n        \"min\": 101,\n        \"max\": 103,\n        \"num_unique_values\": 3,\n        \"samples\": [\n          101,\n          102,\n          103\n        ],\n        \"semantic_type\": \"\",\n        \"description\": \"\"\n      }\n    },\n    {\n      \"column\": \"hotel_id\",\n      \"properties\": {\n        \"dtype\": \"number\",\n        \"std\": 1,\n        \"min\": 201,\n        \"max\": 203,\n        \"num_unique_values\": 3,\n        \"samples\": [\n          201,\n          202,\n          203\n        ],\n        \"semantic_type\": \"\",\n        \"description\": \"\"\n      }\n    },\n    {\n      \"column\": \"activity_id\",\n      \"properties\": {\n        \"dtype\": \"number\",\n        \"std\": 1,\n        \"min\": 301,\n        \"max\": 303,\n        \"num_unique_values\": 3,\n        \"samples\": [\n          301,\n          302,\n          303\n        ],\n        \"semantic_type\": \"\",\n        \"description\": \"\"\n      }\n    },\n    {\n      \"column\": \"booking_date\",\n      \"properties\": {\n        \"dtype\": \"object\",\n        \"num_unique_values\": 3,\n        \"samples\": [\n          \"2024-07-14\",\n          \"2024-07-15\",\n          \"2024-07-16\"\n        ],\n        \"semantic_type\": \"\",\n        \"description\": \"\"\n      }\n    }\n  ]\n}"
            }
          },
          "metadata": {},
          "execution_count": 103
        }
      ],
      "source": [
        "import pandas as pd\n",
        "df = pd.read_csv('./bookings.csv')\n",
        "df.head()"
      ]
    },
    {
      "cell_type": "code",
      "execution_count": null,
      "id": "072dd5b6",
      "metadata": {
        "id": "072dd5b6"
      },
      "outputs": [],
      "source": []
    },
    {
      "cell_type": "code",
      "execution_count": null,
      "id": "ce0bfc91",
      "metadata": {
        "id": "ce0bfc91"
      },
      "outputs": [],
      "source": []
    }
  ],
  "metadata": {
    "kernelspec": {
      "display_name": "Python 3",
      "language": "python",
      "name": "python3"
    },
    "language_info": {
      "codemirror_mode": {
        "name": "ipython",
        "version": 3
      },
      "file_extension": ".py",
      "mimetype": "text/x-python",
      "name": "python",
      "nbconvert_exporter": "python",
      "pygments_lexer": "ipython3",
      "version": "3.8.8"
    },
    "colab": {
      "provenance": []
    }
  },
  "nbformat": 4,
  "nbformat_minor": 5
}
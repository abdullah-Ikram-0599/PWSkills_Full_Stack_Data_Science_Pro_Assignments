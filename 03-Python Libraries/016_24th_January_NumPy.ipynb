{
 "cells": [
  {
   "cell_type": "markdown",
   "id": "0e6d55f6",
   "metadata": {},
   "source": [
    "## 24th January PWSkills Assignment 16 : NumPy"
   ]
  },
  {
   "cell_type": "markdown",
   "id": "6e4a6c76",
   "metadata": {},
   "source": [
    "#### 1. What is a Python library? Why do we use Python libraries?"
   ]
  },
  {
   "cell_type": "markdown",
   "id": "252ab3f7",
   "metadata": {},
   "source": [
    "##### Solution:\n",
    "\n",
    "Python libraries are a collection related modules that contain bundles of codes that can be used in different programs. Making use of Python libraries makes it convenient for the programmer as they wouldn't have to write the same code multiple times for different programs."
   ]
  },
  {
   "cell_type": "markdown",
   "id": "0edf01c9",
   "metadata": {},
   "source": [
    "#### 2. What is the difference between Numpy array and List?"
   ]
  },
  {
   "cell_type": "markdown",
   "id": "59418f26",
   "metadata": {},
   "source": [
    "##### Differences between NumPy array and Python list:"
   ]
  },
  {
   "cell_type": "code",
   "execution_count": 1,
   "id": "e11493ed",
   "metadata": {},
   "outputs": [
    {
     "name": "stdout",
     "output_type": "stream",
     "text": [
      "List:  [0, 1, 2, 0, 1, 2]\n",
      "NumPy array:  [0 2 4]\n",
      "List converted to NumPy array:  [0 2 4]\n"
     ]
    }
   ],
   "source": [
    "import numpy as np\n",
    "# Difference 1:\n",
    "\"\"\"\n",
    "   A list cannot directly handle mathematical operations, while an array can. While you can store an integer or float in a\n",
    "   list, you can't really do mathematical operations on it. \n",
    "   \n",
    "   See how using a * (multiplication) in a list returns repeated data in the list (while we meant to multiply all of \n",
    "   the data in the list), whereas using it on a NumPy array gives the correct/desired result.\n",
    "   \n",
    "   \"\"\"\n",
    "\n",
    "list_ = [0,1,2]\n",
    "print(\"List: \",list_*2)\n",
    "\n",
    "arr = np.array([0,1,2])\n",
    "print(\"NumPy array: \", arr*2)\n",
    "print(\"List converted to NumPy array: \", np.multiply(list_,2))"
   ]
  },
  {
   "cell_type": "code",
   "execution_count": 2,
   "id": "82812605",
   "metadata": {},
   "outputs": [
    {
     "name": "stdout",
     "output_type": "stream",
     "text": [
      "Size of list:  80\n",
      "Size of NumPy array:  4\n"
     ]
    }
   ],
   "source": [
    "# Difference 2:\n",
    "\n",
    "\"\"\"\n",
    "   A NumPy array consumes lesser memory as compared to a Python list. A list can technically store different types of data, \n",
    "   while a NumPy array doesn't. This is one of the reasons why a list consumes more memory (it takes a lot of space to \n",
    "   store different types of data, even though for this case you use only one type of data.)\n",
    "   \n",
    "   Here you can see the difference between the memory it takes for one element in a list (80 bytes) vs a memory for one \n",
    "   element in an array (4 bytes). \n",
    "   \"\"\"\n",
    "import sys\n",
    "list_ = [0,1,2]\n",
    "print(\"Size of list: \", sys.getsizeof(list_))\n",
    "arr = np.array([0,1,2])\n",
    "print(\"Size of NumPy array: \", arr.itemsize)"
   ]
  },
  {
   "cell_type": "markdown",
   "id": "49d2de9e",
   "metadata": {},
   "source": [
    "###### Difference 3: \n",
    "Using a NumPy array is faster than a list. Originally, Python is not designed for numerical operations. In NumPy,  the tasks are broken into small segments for then processed in parallel. This what makes the operations much more faster using an array. Plus, an array takes less spaces than a list so it's much more faster.\n",
    "\n",
    "###### Difference 4:\n",
    "A list is easier to modify. A list is easier to modify than an array does. Since a list store each element individually, it is easier to add and delete an element than an array does.\n",
    "\n",
    "##### Difference 5:\n",
    "A list can consist of different nested data size. While you can have a nested data with different size in a list, you can't do the same in an array. You have to have the same size (row and column) in an array, but you don't have to do that in a list.\n",
    "\n",
    "###### Difference 6: \n",
    "A list can store different data types. Another benefit of using a list is that you can use different data types store in a list, while you can't do that in an array."
   ]
  },
  {
   "cell_type": "markdown",
   "id": "80d436b9",
   "metadata": {},
   "source": [
    "####  3. Find the shape, size and dimension of the following array?\n",
    "[[1, 2, 3, 4]\n",
    "[5, 6, 7, 8],\n",
    "[9, 10, 11, 12]]"
   ]
  },
  {
   "cell_type": "code",
   "execution_count": 3,
   "id": "5e7dc38b",
   "metadata": {},
   "outputs": [
    {
     "name": "stdout",
     "output_type": "stream",
     "text": [
      "Shape:  (3,)\n",
      "Size:  3\n",
      "Dimension: 1\n"
     ]
    }
   ],
   "source": [
    "arr1 = np.array([[1, 2, 3, 4] ,[5, 6, 7, 8], [9, 10, 11, 12]])\n",
    "print(\"Shape: \", arr.shape)\n",
    "print(\"Size: \", len(arr))\n",
    "print(\"Dimension:\", arr.ndim)"
   ]
  },
  {
   "cell_type": "markdown",
   "id": "9a36bbc2",
   "metadata": {},
   "source": [
    "#### 4. Write python code to access the first row of the following array?\n",
    "[[1, 2, 3, 4]\n",
    "[5, 6, 7, 8],\n",
    "[9, 10, 11, 12]]"
   ]
  },
  {
   "cell_type": "code",
   "execution_count": 4,
   "id": "67616ef0",
   "metadata": {},
   "outputs": [
    {
     "name": "stdout",
     "output_type": "stream",
     "text": [
      "First row:  [1 2 3 4]\n"
     ]
    }
   ],
   "source": [
    "arr2 = np.array([[1, 2, 3, 4] ,[5, 6, 7, 8], [9, 10, 11, 12]])\n",
    "print(\"First row: \", arr2[0])"
   ]
  },
  {
   "cell_type": "markdown",
   "id": "31ac0848",
   "metadata": {},
   "source": [
    "#### 5. How do you access the element at the third row and fourth column from the given numpy array?\n",
    "[[1, 2, 3, 4]\n",
    "[5, 6, 7, 8],\n",
    "[9, 10, 11, 12]]"
   ]
  },
  {
   "cell_type": "code",
   "execution_count": 5,
   "id": "663ebf50",
   "metadata": {},
   "outputs": [
    {
     "name": "stdout",
     "output_type": "stream",
     "text": [
      "Element at 3rd row and 4th column:  12\n"
     ]
    }
   ],
   "source": [
    "arr3 = [[1, 2, 3, 4], [5, 6, 7, 8], [9, 10, 11, 12]]\n",
    "print(\"Element at 3rd row and 4th column: \", arr3[2][3])"
   ]
  },
  {
   "cell_type": "markdown",
   "id": "64b1162a",
   "metadata": {},
   "source": [
    "##### 6. Write code to extract all odd-indexed elements from the given numpy array?\n",
    "[[1, 2, 3, 4],\n",
    "[5, 6, 7, 8],\n",
    "[9, 10, 11, 12]]"
   ]
  },
  {
   "cell_type": "code",
   "execution_count": 6,
   "id": "3c5a0184",
   "metadata": {},
   "outputs": [
    {
     "name": "stdout",
     "output_type": "stream",
     "text": [
      "List of all odd-indexed elements:  [(0, 0), (0, 2), (1, 0), (1, 2), (2, 0), (2, 2)]\n"
     ]
    }
   ],
   "source": [
    "arr4 = [[1, 2, 3, 4], [5, 6, 7, 8], [9, 10, 11, 12]]\n",
    "list_ = []\n",
    "for i in range(0,len(arr4)):\n",
    "    for j in range(0, len(arr4[0])):\n",
    "        if arr4[i][j] % 2 !=0:\n",
    "            list_.append((i,j))\n",
    "print(\"List of all odd-indexed elements: \",list_)"
   ]
  },
  {
   "cell_type": "markdown",
   "id": "eb0d7043",
   "metadata": {},
   "source": [
    "#### 7. How can you generate a random 3x3 matrix with values between 0 and 1?"
   ]
  },
  {
   "cell_type": "code",
   "execution_count": 7,
   "id": "7af8665b",
   "metadata": {},
   "outputs": [
    {
     "name": "stdout",
     "output_type": "stream",
     "text": [
      "The desired matrix:\n",
      "\n",
      " [[0.39953787 0.00339178 0.13885294]\n",
      " [0.99685014 0.03186374 0.95885349]\n",
      " [0.22883575 0.85320321 0.41327266]]\n"
     ]
    }
   ],
   "source": [
    "print(\"The desired matrix:\\n\\n\", np.random.rand(3,3))"
   ]
  },
  {
   "cell_type": "markdown",
   "id": "7d6bd0f4",
   "metadata": {},
   "source": [
    "#### 8. Describe the difference between np.random.rand and np.random.randn?"
   ]
  },
  {
   "cell_type": "markdown",
   "id": "8b8335f9",
   "metadata": {},
   "source": [
    "##### Solution:\n",
    "\n",
    "np.random.rand is for Uniform distribution (in the half-open interval [0.0, 1.0)).\n",
    "\n",
    "np.random.randn is for Standard Normal (aka. Gaussian) distribution (mean 0 and variance 1)"
   ]
  },
  {
   "cell_type": "code",
   "execution_count": 8,
   "id": "a410111f",
   "metadata": {},
   "outputs": [
    {
     "data": {
      "image/png": "[encoded data removed]",
      "text/plain": [
       "<Figure size 432x288 with 1 Axes>"
      ]
     },
     "metadata": {
      "needs_background": "light"
     },
     "output_type": "display_data"
    },
    {
     "data": {
      "image/png": "[encoded data removed]",
      "text/plain": [
       "<Figure size 432x288 with 1 Axes>"
      ]
     },
     "metadata": {
      "needs_background": "light"
     },
     "output_type": "display_data"
    }
   ],
   "source": [
    "import numpy as np\n",
    "import matplotlib.pyplot as plt\n",
    "\n",
    "sample_size = 100000\n",
    "uniform = np.random.rand(sample_size)\n",
    "normal = np.random.randn(sample_size)\n",
    "\n",
    "pdf, bins, patches = plt.hist(uniform, bins=20, range=(0, 1), density=True)\n",
    "plt.title('rand: uniform')\n",
    "plt.show()\n",
    "\n",
    "pdf, bins, patches = plt.hist(normal, bins=20, range=(-4, 4), density=True)\n",
    "plt.title('randn: normal')\n",
    "plt.show()"
   ]
  },
  {
   "cell_type": "markdown",
   "id": "3afe5bb6",
   "metadata": {},
   "source": [
    "#### 9. Write code to increase the dimension of the following array?\n",
    "[[1, 2, 3, 4]\n",
    "[5, 6, 7, 8],\n",
    "[9, 10, 11, 12]]"
   ]
  },
  {
   "cell_type": "code",
   "execution_count": 9,
   "id": "51c51992",
   "metadata": {},
   "outputs": [
    {
     "name": "stdout",
     "output_type": "stream",
     "text": [
      "Before, number of dimensions:  2\n",
      "Before, number of dimensions:  3\n"
     ]
    }
   ],
   "source": [
    "arr5 =np.array([[1, 2, 3, 4], [5, 6, 7, 8], [9, 10, 11, 12]])\n",
    "print(\"Before, number of dimensions: \", arr5.ndim)\n",
    "arr5 = arr5.reshape(2,2,3)\n",
    "print(\"Before, number of dimensions: \",arr5.ndim)"
   ]
  },
  {
   "cell_type": "markdown",
   "id": "d227d111",
   "metadata": {},
   "source": [
    "#### 10. How to transpose the following array in NumPy?\n",
    "[[1, 2, 3, 4]\n",
    "[5, 6, 7, 8],\n",
    "[9, 10, 11, 12]]"
   ]
  },
  {
   "cell_type": "code",
   "execution_count": 10,
   "id": "3601baad",
   "metadata": {},
   "outputs": [
    {
     "name": "stdout",
     "output_type": "stream",
     "text": [
      "Before transpose:\n",
      " [[ 1  2  3  4]\n",
      " [ 5  6  7  8]\n",
      " [ 9 10 11 12]]\n",
      "After transpose:\n",
      " [[ 1  5  9]\n",
      " [ 2  6 10]\n",
      " [ 3  7 11]\n",
      " [ 4  8 12]]\n"
     ]
    }
   ],
   "source": [
    "arr6 = np.array([[1, 2, 3, 4], [5, 6, 7, 8], [9, 10, 11, 12]])\n",
    "print(\"Before transpose:\\n\", arr6)\n",
    "arr6 = np.transpose(arr6)\n",
    "print(\"After transpose:\\n\",arr6)"
   ]
  },
  {
   "cell_type": "markdown",
   "id": "bb5ae7ed",
   "metadata": {},
   "source": [
    "#### 11. Consider the following matrix:\n",
    "##### Matrix A: [[1, 2, 3, 4], [5, 6, 7, 8],[9, 10, 11, 12]]\n",
    "\n",
    "##### Matrix B: [[1, 2, 3, 4], [5, 6, 7, 8],[9, 10, 11, 12]]\n",
    "\n",
    "###### Perform the following operation using Python:\n",
    "\n",
    "##### 1. Index-wise multiplication\n",
    "##### 2. Matix multiplication\n",
    "##### 3. Add both the matrices\n",
    "##### 4. Subtract matrix B from A\n",
    "##### 5. Divide matrix B by A\n"
   ]
  },
  {
   "cell_type": "code",
   "execution_count": 11,
   "id": "0e4d9cc0",
   "metadata": {},
   "outputs": [
    {
     "name": "stdout",
     "output_type": "stream",
     "text": [
      "Matrix A:\n",
      " [[ 1  2  3  4]\n",
      " [ 5  6  7  8]\n",
      " [ 9 10 11 12]]\n",
      "\n",
      "\n",
      "Matrix B:\n",
      " [[ 1  2  3  4]\n",
      " [ 5  6  7  8]\n",
      " [ 9 10 11 12]]\n",
      "\n",
      "\n",
      "1. Index-wise multiplication:\n",
      " [[  1   4   9  16]\n",
      " [ 25  36  49  64]\n",
      " [ 81 100 121 144]]\n",
      "\n",
      "\n",
      "2. Matrix Multiplication:\n",
      " [[ 70  80  90]\n",
      " [158 184 210]\n",
      " [246 288 330]]\n",
      "\n",
      "\n",
      "3. Add both the matrices:\n",
      " [[ 2  4  6  8]\n",
      " [10 12 14 16]\n",
      " [18 20 22 24]]\n",
      "\n",
      "\n",
      "4. Subtract matrix B from A:\n",
      " [[0 0 0 0]\n",
      " [0 0 0 0]\n",
      " [0 0 0 0]]\n",
      "\n",
      "\n",
      "5. Divide matrix B by A:\n",
      " [[1 1 1 1]\n",
      " [1 1 1 1]\n",
      " [1 1 1 1]]\n"
     ]
    }
   ],
   "source": [
    "A = np.array([[1, 2, 3, 4], [5, 6, 7, 8],[9, 10, 11, 12]])\n",
    "B = np.array([[1, 2, 3, 4], [5, 6, 7, 8],[9, 10, 11, 12]])\n",
    "print(\"Matrix A:\\n\",A)\n",
    "print(\"\\n\")\n",
    "print(\"Matrix B:\\n\",B)\n",
    "print(\"\\n\")\n",
    "print(\"1. Index-wise multiplication:\\n\", A * B)\n",
    "print(\"\\n\")\n",
    "print(\"2. Matrix Multiplication:\\n\", np.matmul(A,B.reshape(4,3)))\n",
    "print(\"\\n\")\n",
    "print(\"3. Add both the matrices:\\n\", A + B)\n",
    "print(\"\\n\")\n",
    "print(\"4. Subtract matrix B from A:\\n\", A - B)\n",
    "print(\"\\n\")\n",
    "print(\"5. Divide matrix B by A:\\n\", (B / A).astype(int))\n"
   ]
  },
  {
   "cell_type": "markdown",
   "id": "9c79840c",
   "metadata": {},
   "source": [
    "#### 12. Which function in Numpy can be used to swap the byte order of an array?"
   ]
  },
  {
   "cell_type": "markdown",
   "id": "d6e17511",
   "metadata": {},
   "source": [
    "##### Solution:\n",
    "\n",
    "The ndarray.byteswap() method swaps the bytes of the array elements. It toggles between low-endian and big-endian data representation by returning a byteswapped array, optionally swapped in-place. This is useful when the data has been written in a machine with a different byte order than the one where it is being read."
   ]
  },
  {
   "cell_type": "code",
   "execution_count": 12,
   "id": "bfca7a68",
   "metadata": {},
   "outputs": [
    {
     "name": "stdout",
     "output_type": "stream",
     "text": [
      "[1.5 2.5 3.5]\n",
      "[3.13984e-319 5.37543e-321 1.54939e-320]\n"
     ]
    }
   ],
   "source": [
    "import numpy as np \n",
    "\n",
    "# Create a NumPy array of float64 type \n",
    "A = np.array([1.5, 2.5, 3.5], dtype=np.float64) \n",
    "print(A) # Output: [1.5 2.5 3.5] \n",
    "\n",
    "# Byteswap the array \n",
    "A.byteswap(inplace=True) \n",
    "\n",
    "# Print the byteswapped array \n",
    "print(A)"
   ]
  },
  {
   "cell_type": "markdown",
   "id": "1b20c99d",
   "metadata": {},
   "source": [
    "#### 13. What is the significance of the np.linalg.inv function?"
   ]
  },
  {
   "cell_type": "markdown",
   "id": "adaf2107",
   "metadata": {},
   "source": [
    "##### Solution:\n",
    "\n",
    "The np.linalg.inv function in NumPy is used to compute the (multiplicative) inverse of a square matrix.\n",
    "Here’s how it works:\n",
    "\n",
    "Given a square matrix a, this function returns the matrix ainv such that dot(a, ainv) = dot(ainv, a) = eye(a.shape[0])\n",
    "\n",
    "1. In other words, when the original matrix a is multiplied with its inverse ainv, the result is an identity matrix\n",
    "\n",
    "2. The function raises a LinAlgError if a is not square or if the inversion fails."
   ]
  },
  {
   "cell_type": "code",
   "execution_count": 13,
   "id": "62965981",
   "metadata": {},
   "outputs": [
    {
     "name": "stdout",
     "output_type": "stream",
     "text": [
      "True\n",
      "True\n"
     ]
    }
   ],
   "source": [
    "import numpy as np\n",
    "\"\"\"\n",
    "   In this example, np.allclose(np.dot(a, ainv), np.eye(2)) and np.allclose(np.dot(ainv, a), np.eye(2)) both return True, \n",
    "   confirming that the product of a and ainv (in both orders) is indeed the identity matrix.\n",
    "   \n",
    "   \"\"\"\n",
    "# Define a square matrix\n",
    "a = np.array([[1., 2.], [3., 4.]])\n",
    "\n",
    "# Compute the inverse\n",
    "ainv = np.linalg.inv(a)\n",
    "\n",
    "# Check that dot(a, ainv) equals the identity matrix\n",
    "print(np.allclose(np.dot(a, ainv), np.eye(2)))  # Outputs: True\n",
    "print(np.allclose(np.dot(ainv, a), np.eye(2)))  # Outputs: True"
   ]
  },
  {
   "cell_type": "markdown",
   "id": "ae456159",
   "metadata": {},
   "source": [
    "#### 14. What does the np.reshape function do, and how is it used?"
   ]
  },
  {
   "cell_type": "code",
   "execution_count": 14,
   "id": "6d6a2271",
   "metadata": {},
   "outputs": [
    {
     "name": "stdout",
     "output_type": "stream",
     "text": [
      "Original Array:\n",
      " [[1 2 3]\n",
      " [4 5 6]]\n",
      "\n",
      "Reshaped 1D array:\n",
      " [1 2 3 4 5 6]\n",
      "\n",
      "Reshaped array:\n",
      " [[1 2]\n",
      " [3 4]\n",
      " [5 6]]\n"
     ]
    }
   ],
   "source": [
    "\"\"\"The np.reshape function in NumPy is used to change the shape of an array \n",
    "   without modifying its data.\n",
    "\n",
    "   In the below example, the np.reshape function is used to change the shape of the array a. The new shape is specified as \n",
    "   a parameter, which can be an integer or a tuple of integers. If one of the dimensions is given as -1, its value is \n",
    "   inferred based on the length of the array and the remaining dimensions\"\"\"\n",
    "\n",
    "# Original array\n",
    "a = np.array([[1, 2, 3], [4, 5, 6]])\n",
    "print(\"Original Array:\\n\", a)\n",
    "print()\n",
    "# Reshape the array to a 1-D array of length 6\n",
    "b = np.reshape(a, 6)\n",
    "print(\"Reshaped 1D array:\\n\",b)\n",
    "print()\n",
    "# Reshape the array to a 3x2 array\n",
    "c = np.reshape(a, (3, -1))\n",
    "print(\"Reshaped array:\\n\",c)"
   ]
  },
  {
   "cell_type": "markdown",
   "id": "0cb5c39c",
   "metadata": {},
   "source": [
    "#### 15. What is broadcasting in Numpy?"
   ]
  },
  {
   "cell_type": "markdown",
   "id": "cf23360f",
   "metadata": {},
   "source": [
    "##### Solution:\n",
    "\n",
    "Broadcasting in NumPy refers to how the library handles arrays with different shapes during arithmetic operations. Under certain constraints, the smaller array is “broadcast” across the larger array so that they have compatible shapes. This provides a means of vectorizing array operations, which allows for more efficient algorithm implementation"
   ]
  },
  {
   "cell_type": "code",
   "execution_count": 15,
   "id": "918dfd7a",
   "metadata": {},
   "outputs": [
    {
     "name": "stdout",
     "output_type": "stream",
     "text": [
      "Scalar:  5\n",
      "\n",
      "1D array:  [1 2 3]\n",
      "\n",
      "Boradcasting scalar to 1D array: [6 7 8]\n",
      "\n",
      "1D array:  [1 2 3]\n",
      "\n",
      "2D array:\n",
      " [[1 2 3]\n",
      " [4 5 6]\n",
      " [7 8 9]]\n",
      "\n",
      "Broadcasting 1D array to 2D array:\n",
      " [[ 2  4  6]\n",
      " [ 5  7  9]\n",
      " [ 8 10 12]]\n"
     ]
    }
   ],
   "source": [
    "# Python code for illustrating how Broadcasting is used in Python\n",
    "# 1-D array\n",
    "arr7 = np.array([1, 2, 3])\n",
    "\n",
    "# scalar\n",
    "number = 5\n",
    "print(\"Scalar: \",number)\n",
    "print()\n",
    "print(\"1D array: \", arr7)\n",
    "print()\n",
    "# Broadcast scalar to 1-D array\n",
    "broadcast1 = arr7 + number\n",
    "\n",
    "print(\"Boradcasting scalar to 1D array:\",broadcast1) \n",
    "\n",
    "# Broadcast 1D array to 2D array\n",
    "arr8 = np.array([[1,2,3], [4,5,6], [7,8,9]])\n",
    "print()\n",
    "print(\"1D array: \",arr7)\n",
    "print()\n",
    "print(\"2D array:\\n\", arr8)\n",
    "print()\n",
    "\n",
    "broadcast2 = arr7 + arr8\n",
    "\n",
    "print(\"Broadcasting 1D array to 2D array:\\n\",broadcast2)"
   ]
  }
 ],
 "metadata": {
  "kernelspec": {
   "display_name": "Python 3",
   "language": "python",
   "name": "python3"
  },
  "language_info": {
   "codemirror_mode": {
    "name": "ipython",
    "version": 3
   },
   "file_extension": ".py",
   "mimetype": "text/x-python",
   "name": "python",
   "nbconvert_exporter": "python",
   "pygments_lexer": "ipython3",
   "version": "3.8.8"
  }
 },
 "nbformat": 4,
 "nbformat_minor": 5
}

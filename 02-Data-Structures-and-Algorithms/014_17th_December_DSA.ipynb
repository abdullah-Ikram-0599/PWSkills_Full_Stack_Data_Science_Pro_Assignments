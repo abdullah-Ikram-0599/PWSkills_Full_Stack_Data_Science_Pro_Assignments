{
 "cells": [
  {
   "cell_type": "markdown",
   "id": "a58c4144",
   "metadata": {},
   "source": [
    "## DSA Assignment"
   ]
  },
  {
   "cell_type": "markdown",
   "id": "26cee061",
   "metadata": {},
   "source": [
    "#### Problem 1: Reverse a singly linked list. \n",
    "##### Input: 1 -> 2 -> 3 -> 4 -> 5\n",
    "##### Output: 5 -> 4 -> 3 -> 2 -> 1"
   ]
  },
  {
   "cell_type": "code",
   "execution_count": 1,
   "id": "0af2df02",
   "metadata": {},
   "outputs": [],
   "source": [
    "#Define the ListNode\n",
    "\n",
    "class Node :\n",
    "\n",
    "  def __init__(self,data=None, next=None):\n",
    "    self.data = data\n",
    "    self.next = next\n",
    "\n",
    "  #Method to set the data value\n",
    "  def setData(self,data):\n",
    "    self.data = data\n",
    "\n",
    "  #method to get the data value\n",
    "  def getData(self):\n",
    "    return self.data\n",
    "\n",
    "  #Method of set the next\n",
    "  def setNext(self, next):\n",
    "    self.next = next\n",
    "\n",
    "  #Method to get the next\n",
    "  def getNext(self):\n",
    "    return self.next\n",
    "\n",
    "def traverse(head):\n",
    "  temp = head\n",
    "  while(temp):\n",
    "    print(temp.getData(),end=\"->\")\n",
    "    temp = temp.getNext() #jump to the next node\n",
    "  print() \n",
    "  print()\n",
    "def length(node):\n",
    "    \n",
    "    length = 0\n",
    "    while node:\n",
    "        length +=1\n",
    "        node = node.getNext()\n",
    "    \n",
    "    return length"
   ]
  },
  {
   "cell_type": "code",
   "execution_count": 2,
   "id": "6327df02",
   "metadata": {},
   "outputs": [
    {
     "name": "stdout",
     "output_type": "stream",
     "text": [
      "1->2->3->4->\n",
      "\n",
      "4->3->2->1->\n",
      "\n"
     ]
    }
   ],
   "source": [
    "def reverse_linked_list(head):\n",
    "    prev_node = None\n",
    "    current_node = head\n",
    "    while current_node is not None:\n",
    "        next_node = current_node.getNext()\n",
    "        current_node.setNext(prev_node)\n",
    "        prev_node = current_node\n",
    "        current_node = next_node\n",
    "    head = prev_node\n",
    "    return head\n",
    "\n",
    "# Diver Code\n",
    "\n",
    "head = Node(1)\n",
    "node2 = Node(2)\n",
    "node3 = Node(3)\n",
    "node4 = Node(4)\n",
    "\n",
    "#Creating the linkage\n",
    "head.setNext(node2)\n",
    "node2.setNext(node3)\n",
    "node3.setNext(node4)\n",
    "\n",
    "traverse(head)\n",
    "new_head = reverse_linked_list(head)\n",
    "traverse(new_head) "
   ]
  },
  {
   "cell_type": "markdown",
   "id": "d789a799",
   "metadata": {},
   "source": [
    "#### Problem 2: Merge two sorted linked lists into one sorted linked list.\n",
    "##### Input: List 1: 1 -> 3 -> 5, List 2: 2 -> 4 -> 6\n",
    "##### Output: 1 -> 2 -> 3 -> 4 -> 5 -> 6"
   ]
  },
  {
   "cell_type": "code",
   "execution_count": 3,
   "id": "e3c6927e",
   "metadata": {},
   "outputs": [
    {
     "name": "stdout",
     "output_type": "stream",
     "text": [
      "Linked List 1\n",
      "\n",
      "1->3->5->6->\n",
      "\n",
      "Linked List 2\n",
      "\n",
      "2->4->7->9->\n",
      "\n",
      "Final Sorted Linked List\n",
      "\n",
      "1->2->3->4->5->6->7->9->\n",
      "\n"
     ]
    }
   ],
   "source": [
    "def merge_sorted_linked_lists(head1, head2):\n",
    "    # Create a new head node\n",
    "    head = Node(0)\n",
    "    current = head\n",
    "\n",
    "    # While there are still nodes in both lists\n",
    "    while head1 and head2:\n",
    "        # If the data in head1 is less than the data in head2\n",
    "        if head1.getData() < head2.getData():\n",
    "            # Set the next node of the current node to head1\n",
    "            current.setNext(head1)\n",
    "            # Move to the next node in head1\n",
    "            head1 = head1.getNext()\n",
    "        else:\n",
    "            # Otherwise, set the next node of the current node to head2\n",
    "            current.setNext(head2)\n",
    "            # Move to the next node in head2\n",
    "            head2 = head2.getNext()\n",
    "\n",
    "        # Move to the next node in the new list\n",
    "        current = current.getNext()\n",
    "\n",
    "    # If there are still nodes in head1, append them to the new list\n",
    "    if head1:\n",
    "        current.setNext(head1)\n",
    "    # If there are still nodes in head2, append them to the new list\n",
    "    elif head2:\n",
    "        current.setNext(head2)\n",
    "\n",
    "    # Return the next node of the head (skipping the dummy head node)\n",
    "    return head.getNext()\n",
    "\n",
    "# Driver Code\n",
    "\n",
    "# linked List 1\n",
    "head1 = Node(1)\n",
    "node1 = Node(3)\n",
    "node2 = Node(5)\n",
    "node3 = Node(6)\n",
    "\n",
    "#Creating the linkage\n",
    "head1.setNext(node1)\n",
    "node1.setNext(node2)\n",
    "node2.setNext(node3)\n",
    "print(\"Linked List 1\\n\")\n",
    "traverse(head1)\n",
    "\n",
    "# Linkedlist 2\n",
    "head2 = Node(2)\n",
    "node4 = Node(4)\n",
    "node5 = Node(7)\n",
    "node6 = Node(9)\n",
    "\n",
    "#Creating the linkage\n",
    "head2.setNext(node4)\n",
    "node4.setNext(node5)\n",
    "node5.setNext(node6)\n",
    "\n",
    "print(\"Linked List 2\\n\")\n",
    "traverse(head2)\n",
    "\n",
    "head =  merge_sorted_linked_lists(head1, head2)\n",
    "print(\"Final Sorted Linked List\\n\")\n",
    "traverse(head)"
   ]
  },
  {
   "cell_type": "markdown",
   "id": "5a80e231",
   "metadata": {},
   "source": [
    "#### Problem 3: Remove the nth node from the end of a linked list.\n",
    "##### Input: 1 -> 2 -> 3 -> 4 -> 5, n = 2\n",
    "##### Output: 1 -> 2 -> 3 -> 5"
   ]
  },
  {
   "cell_type": "code",
   "execution_count": 4,
   "id": "c2ac1fa7",
   "metadata": {},
   "outputs": [
    {
     "name": "stdout",
     "output_type": "stream",
     "text": [
      "Linked List \n",
      "\n",
      "1->3->5->6->\n",
      "\n",
      "1->5->6->\n",
      "\n"
     ]
    }
   ],
   "source": [
    "def remove(head,k):  #Supposed to return the new head of the transformed LL ( by removing kth node(from the end))\n",
    "  #Check if k is valid\n",
    "  k = length(head) - k\n",
    "  if(k<0 or k>= length(head) or not head):\n",
    "    return head\n",
    "\n",
    "  if(k==0):\n",
    "    # We are removing the first element\n",
    "    head = head.getNext()\n",
    "  else :\n",
    "\n",
    "    # We jump to k-1th position\n",
    "    i=0\n",
    "    prev = head\n",
    "    while(i< k-1):\n",
    "      prev = prev.getNext()\n",
    "      i +=1\n",
    "    #prev will be pointing to the node left of the kth position\n",
    "    prev.setNext(prev.getNext().getNext())\n",
    "\n",
    "  return head\n",
    "\n",
    "# Driver Code\n",
    "\n",
    "# linked List \n",
    "head = Node(1)\n",
    "node1 = Node(3)\n",
    "node2 = Node(5)\n",
    "node3 = Node(6)\n",
    "\n",
    "#Creating the linkage\n",
    "head.setNext(node1)\n",
    "node1.setNext(node2)\n",
    "node2.setNext(node3)\n",
    "print(\"Linked List \\n\")\n",
    "traverse(head)\n",
    "head_new = remove(head,3)\n",
    "traverse(head_new)"
   ]
  },
  {
   "cell_type": "markdown",
   "id": "3050dcdc",
   "metadata": {},
   "source": [
    "\n",
    "#### Problem 4: Find the intersection point of two linked lists.\n",
    "##### Input: List 1: 1 -> 2 -> 3 -> 4, List 2: 9 -> 8 -> 3 -> 4\n",
    "##### Output: Node with value 3"
   ]
  },
  {
   "cell_type": "code",
   "execution_count": 5,
   "id": "83c50537",
   "metadata": {},
   "outputs": [
    {
     "name": "stdout",
     "output_type": "stream",
     "text": [
      "Linked List 1\n",
      "\n",
      "1->3->5->7->\n",
      "\n",
      "Linked List 2\n",
      "\n",
      "3->4->5->7->\n",
      "\n",
      "Intersection point:  5\n"
     ]
    }
   ],
   "source": [
    "def find_intersection(head1, head2):\n",
    "    len1, len2 = length(head1), length(head2)\n",
    "    diff = abs(len1 - len2)\n",
    "\n",
    "    if len1 > len2:\n",
    "        for _ in range(diff):\n",
    "            head1 = head1.getNext()\n",
    "    else:\n",
    "        for _ in range(diff):\n",
    "            head2 = head2.getNext()\n",
    "\n",
    "    while head1 and head2:\n",
    "        if head1 == head2:\n",
    "            return head1.getData()\n",
    "        head1 = head1.getNext()\n",
    "        head2 = head2.getNext()\n",
    "\n",
    "    return None\n",
    "         \n",
    "# Driver Code\n",
    "\n",
    "# linked List 1\n",
    "head1 = Node(1)\n",
    "node1 = Node(3)\n",
    "node2 = Node(5)\n",
    "node3 = Node(7)\n",
    "\n",
    "#Creating the linkage\n",
    "head1.setNext(node1)\n",
    "node1.setNext(node2)\n",
    "node2.setNext(node3)\n",
    "print(\"Linked List 1\\n\")\n",
    "traverse(head1)\n",
    "\n",
    "# Linkedlist 2\n",
    "head2 = Node(3)\n",
    "node4 = Node(4)\n",
    "node5 = node2  # Make node5 the same as node2\n",
    "\n",
    "#Creating the linkage\n",
    "head2.setNext(node4)\n",
    "node4.setNext(node5)\n",
    "\n",
    "print(\"Linked List 2\\n\")\n",
    "traverse(head2) \n",
    "print(\"Intersection point: \", find_intersection(head1, head2))\n"
   ]
  },
  {
   "cell_type": "markdown",
   "id": "269b00f0",
   "metadata": {},
   "source": [
    "#### Problem 5: Remove duplicates from a sorted linked list.\n",
    "##### Input: 1 -> 1 -> 2 -> 3 -> 3\n",
    "##### Output: 1 -> 2 -> 3"
   ]
  },
  {
   "cell_type": "code",
   "execution_count": 6,
   "id": "b4f374d4",
   "metadata": {},
   "outputs": [
    {
     "name": "stdout",
     "output_type": "stream",
     "text": [
      "Linked List \n",
      "\n",
      "1->1->1->1->\n",
      "\n",
      "1->\n",
      "\n"
     ]
    }
   ],
   "source": [
    "\"\"\"This function works by iterating through the linked list. If the current node’s data is the same as the next node’s\n",
    "   data, it removes the next node by skipping over it in the list. If the data is not the same, it moves on to the next \n",
    "   node. This function assumes that the linked list is sorted, as it only checks for duplicates with the next node.\n",
    "   \"\"\"\n",
    "def remove_duplicates(head):\n",
    "    \n",
    "    if head is None:\n",
    "        return head\n",
    "\n",
    "    current_node = head\n",
    "    while current_node.getNext() is not None:\n",
    "        if current_node.getData() == current_node.getNext().getData():\n",
    "            current_node.setNext(current_node.getNext().getNext())\n",
    "        else:\n",
    "            current_node = current_node.getNext()\n",
    "\n",
    "    return head\n",
    "    \n",
    "# Driver code\n",
    "\n",
    "# linked List \n",
    "head = Node(1)\n",
    "node1 = Node(1)\n",
    "node2 = Node(1)\n",
    "node3 = Node(1)\n",
    "\n",
    "#Creating the linkage\n",
    "head.setNext(node1)\n",
    "node1.setNext(node2)\n",
    "node2.setNext(node3)\n",
    "\n",
    "print(\"Linked List \\n\")\n",
    "traverse(head)\n",
    "\n",
    "remove_duplicates(head)\n",
    "traverse(head)         "
   ]
  },
  {
   "cell_type": "markdown",
   "id": "16b7e5c9",
   "metadata": {},
   "source": [
    "#### Problem 6: Add two numbers represented by linked lists (where each node contains a single digit).\n",
    "##### Input: List 1: 2 -> 4 -> 3, List 2: 5 -> 6 -> 4 (represents 342 + 465)\n",
    "##### Output: 7 -> 0 -> 8 (represents 807)"
   ]
  },
  {
   "cell_type": "code",
   "execution_count": 7,
   "id": "13e80feb",
   "metadata": {},
   "outputs": [
    {
     "name": "stdout",
     "output_type": "stream",
     "text": [
      "Linked List 1\n",
      "\n",
      "2->3->5->7->\n",
      "\n",
      "Linked List 2\n",
      "\n",
      "3->4->2->\n",
      "\n",
      "7775 7532 243\n",
      "5->7->7->7->\n",
      "\n"
     ]
    }
   ],
   "source": [
    "# O(n) time complexity and O(n) space complexity\n",
    "def add_linked_Lists(head1,head2):\n",
    "    \n",
    "    temp1 = head1\n",
    "    temp2 = head2\n",
    "    num1 = 0\n",
    "    num2 = 0\n",
    "    count1 = 1\n",
    "    while(temp1):\n",
    "        num1 += count1*temp1.getData()\n",
    "        temp1 = temp1.getNext()\n",
    "        count1 *= 10\n",
    "    count2 = 1\n",
    "    while(temp2):\n",
    "        num2 += count2*temp2.getData()\n",
    "        temp2 = temp2.getNext()\n",
    "        count2 *= 10\n",
    "    \n",
    "    final = num1 + num2\n",
    "    print(final,num1,num2)\n",
    "    len_final = len(str(final))\n",
    "\n",
    "    nodes_list = []\n",
    "    for i in range(len_final):\n",
    "        nodes_list.append(Node(final%10))\n",
    "        final /= 10\n",
    "        final = int(final)\n",
    "\n",
    "    for i in range(len(nodes_list)-1):\n",
    "        nodes_list[i].setNext(nodes_list[i+1])\n",
    "            \n",
    "    return nodes_list[0]    \n",
    "\n",
    "# Driver code\n",
    "\n",
    "# linked List 1\n",
    "head1 = Node(2)\n",
    "node1 = Node(3)\n",
    "node2 = Node(5)\n",
    "node3 = Node(7)\n",
    "\n",
    "#Creating the linkage\n",
    "head1.setNext(node1)\n",
    "node1.setNext(node2)\n",
    "node2.setNext(node3)\n",
    "print(\"Linked List 1\\n\")\n",
    "traverse(head1)\n",
    "\n",
    "# Linkedlist 2\n",
    "head2 = Node(3)\n",
    "node4 = Node(4)\n",
    "node5 = Node(2)\n",
    "\n",
    "#Creating the linkage\n",
    "head2.setNext(node4)\n",
    "node4.setNext(node5)\n",
    "\n",
    "print(\"Linked List 2\\n\")\n",
    "traverse(head2)\n",
    "\n",
    "head_final = add_linked_Lists(head1,head2)   \n",
    "traverse(head_final)"
   ]
  },
  {
   "cell_type": "markdown",
   "id": "96af3e05",
   "metadata": {},
   "source": [
    "#### Problem 7: Swap nodes in pairs in a linked list.\n",
    "##### Input: 1 -> 2 -> 3 -> 4\n",
    "##### Output: 2 -> 1 -> 4 -> 3"
   ]
  },
  {
   "cell_type": "code",
   "execution_count": 8,
   "id": "fe4c208d",
   "metadata": {},
   "outputs": [
    {
     "name": "stdout",
     "output_type": "stream",
     "text": [
      "Linked List \n",
      "\n",
      "3->2->7->5->\n",
      "\n"
     ]
    }
   ],
   "source": [
    "def swapPairs(head):\n",
    "    if head is None or head.getNext() is None:\n",
    "        return head\n",
    "\n",
    "    prev_node = None\n",
    "    current_node = head\n",
    "\n",
    "    # New head is the second node\n",
    "    new_head = head.getNext()\n",
    "\n",
    "    while current_node and current_node.getNext():\n",
    "        # Nodes to be swapped\n",
    "        first_node = current_node\n",
    "        second_node = current_node.getNext()\n",
    "\n",
    "        # Swapping\n",
    "        first_node.setNext(second_node.getNext())\n",
    "        second_node.setNext(first_node)\n",
    "\n",
    "        # Linking the previous pair with the current one\n",
    "        if prev_node:\n",
    "            prev_node.setNext(second_node)\n",
    "\n",
    "        # Updating the previous node and the current node for the next pair\n",
    "        prev_node = first_node\n",
    "        current_node = first_node.getNext()\n",
    "\n",
    "    return new_head\n",
    "\n",
    "# Driver code\n",
    "\n",
    "# linked List \n",
    "head = Node(2)\n",
    "node1 = Node(3)\n",
    "node2 = Node(5)\n",
    "node3 = Node(7)\n",
    "\n",
    "#Creating the linkage\n",
    "head.setNext(node1)\n",
    "node1.setNext(node2)\n",
    "node2.setNext(node3)\n",
    "head = swapPairs(head)\n",
    "print(\"Linked List \\n\")\n",
    "traverse(head)"
   ]
  },
  {
   "cell_type": "markdown",
   "id": "63d8181f",
   "metadata": {},
   "source": [
    "#### Problem 8: Reverse nodes in a linked list in groups of k.\n",
    "##### Input: 1 -> 2 -> 3 -> 4 -> 5, k = 3\n",
    "##### Output: 3 -> 2 -> 1 -> 4 -> 5"
   ]
  },
  {
   "cell_type": "code",
   "execution_count": 9,
   "id": "69eeb558",
   "metadata": {},
   "outputs": [
    {
     "name": "stdout",
     "output_type": "stream",
     "text": [
      "1->2->3->4->5->6->\n",
      "\n",
      "3->2->1->6->5->4->\n",
      "\n"
     ]
    }
   ],
   "source": [
    "def reverse_linked_list_k_groups(head, k):\n",
    "    current = head\n",
    "    next_node = None\n",
    "    prev_node = None\n",
    "    count = 0\n",
    "\n",
    "    # Reverse first k nodes of the linked list\n",
    "    while(current is not None and count < k):\n",
    "        next_node = current.getNext()\n",
    "        current.setNext(prev_node)\n",
    "        prev_node = current\n",
    "        current = next_node\n",
    "        count += 1\n",
    "\n",
    "    # next_node is now a pointer to (k+1)th node\n",
    "    # recursively call for the list starting from current (or next_node)\n",
    "    # and make rest of the list as next of first node\n",
    "    if next_node is not None:\n",
    "        head.setNext(reverse_linked_list_k_groups(next_node, k))\n",
    "\n",
    "    # prev is new head of the input list\n",
    "    return prev_node\n",
    "\n",
    "# Driver Code\n",
    "\n",
    "head = Node(1)\n",
    "node2 = Node(2)\n",
    "node3 = Node(3)\n",
    "node4 = Node(4)\n",
    "node5 = Node(5)\n",
    "node6 = Node(6)\n",
    "\n",
    "#Creating the linkage\n",
    "head.setNext(node2)\n",
    "node2.setNext(node3)\n",
    "node3.setNext(node4)\n",
    "node4.setNext(node5)\n",
    "node5.setNext(node6)\n",
    "traverse(head)\n",
    "new_head = reverse_linked_list_k_groups(head,3)\n",
    "traverse(new_head) "
   ]
  },
  {
   "cell_type": "markdown",
   "id": "678bedc7",
   "metadata": {},
   "source": [
    "#### Problem 9: Determine if a linked list is a palindrome\n",
    "#### Input: 1 -> 2 -> 2 -> 1\n",
    "#### Output: True"
   ]
  },
  {
   "cell_type": "code",
   "execution_count": 10,
   "id": "ddbc9dbe",
   "metadata": {},
   "outputs": [
    {
     "name": "stdout",
     "output_type": "stream",
     "text": [
      "1->2->3->3->2->1->\n",
      "\n"
     ]
    },
    {
     "data": {
      "text/plain": [
       "True"
      ]
     },
     "execution_count": 10,
     "metadata": {},
     "output_type": "execute_result"
    }
   ],
   "source": [
    "\"\"\"This function first finds the midpoint of the list, then reverses the second half of the list. It then compares the\n",
    "   first half and the reversed second half to check if the list is a palindrome. If all corresponding elements are equal,\n",
    "   it returns True; otherwise, it returns False.\"\"\"\n",
    "\n",
    "def isPalindrome(head):\n",
    "    # Find the midpoint of the list\n",
    "    slow = head\n",
    "    fast = head\n",
    "    while fast and fast.getNext():\n",
    "        slow = slow.getNext()\n",
    "        fast = fast.getNext().getNext()\n",
    "\n",
    "    # Reverse the second half of the list\n",
    "    prev = None\n",
    "    while slow:\n",
    "        next_node = slow.getNext()\n",
    "        slow.setNext(prev)\n",
    "        prev = slow\n",
    "        slow = next_node\n",
    "\n",
    "    # Compare the first half and the reversed second half\n",
    "    start = head\n",
    "    end = prev\n",
    "    while end:\n",
    "        if start.getData() != end.getData():\n",
    "            return False\n",
    "        start = start.getNext()\n",
    "        end = end.getNext()\n",
    "\n",
    "    return True\n",
    "\n",
    "# Driver Code\n",
    "\n",
    "head = Node(1)\n",
    "node2 = Node(2)\n",
    "node3 = Node(3)\n",
    "node4 = Node(3)\n",
    "node5 = Node(2)\n",
    "node6 = Node(1)\n",
    "\n",
    "#Creating the linkage\n",
    "head.setNext(node2)\n",
    "node2.setNext(node3)\n",
    "node3.setNext(node4)\n",
    "node4.setNext(node5)\n",
    "node5.setNext(node6)\n",
    "traverse(head)\n",
    "isPalindrome(head)"
   ]
  },
  {
   "cell_type": "markdown",
   "id": "2443b5e0",
   "metadata": {},
   "source": [
    "#### Problem 10: Rotate a linked list to the right by k places.\n",
    "##### Input: 1 -> 2 -> 3 -> 4 -> 5, k = 2\n",
    "##### Output: 4 -> 5 -> 1 -> 2 -> 3"
   ]
  },
  {
   "cell_type": "code",
   "execution_count": 11,
   "id": "4d73834c",
   "metadata": {},
   "outputs": [
    {
     "name": "stdout",
     "output_type": "stream",
     "text": [
      "1->2->3->4->5->6->\n",
      "\n",
      "3->4->5->6->1->2->\n",
      "\n"
     ]
    }
   ],
   "source": [
    "def rotate_k_right(head, k):\n",
    "    if not head:\n",
    "        return head\n",
    "\n",
    "    # Get the length of the list\n",
    "    len_list = length(head)\n",
    "\n",
    "    # Adjust for cases where k is greater than the length of the list\n",
    "    k = k % len_list\n",
    "\n",
    "    if k:\n",
    "        slow = fast = head\n",
    "\n",
    "        # Move fast to the kth node\n",
    "        for _ in range(k):\n",
    "            fast = fast.getNext()\n",
    "\n",
    "        # Move slow and fast simultaneously,\n",
    "        # until fast reaches the end of the list\n",
    "        while fast.getNext():\n",
    "            slow = slow.getNext()\n",
    "            fast = fast.getNext()\n",
    "\n",
    "        # slow is now at the node before the rotation point,\n",
    "        # and fast is at the last node in the list\n",
    "        temp = slow.getNext()\n",
    "        slow.setNext(None)\n",
    "        fast.setNext(head)\n",
    "        head = temp\n",
    "\n",
    "    return head\n",
    "\n",
    "# Driver Code\n",
    "\n",
    "head = Node(1)\n",
    "node2 = Node(2)\n",
    "node3 = Node(3)\n",
    "node4 = Node(4)\n",
    "node5 = Node(5)\n",
    "node6 = Node(6)\n",
    "\n",
    "#Creating the linkage\n",
    "head.setNext(node2)\n",
    "node2.setNext(node3)\n",
    "node3.setNext(node4)\n",
    "node4.setNext(node5)\n",
    "node5.setNext(node6)\n",
    "traverse(head)  \n",
    "head = rotate_k_right(head, 4)\n",
    "traverse(head)"
   ]
  },
  {
   "cell_type": "markdown",
   "id": "d7fc0992",
   "metadata": {},
   "source": [
    "#### Problem 11: Flatten a multilevel doubly linked list.\n",
    "##### Input: 1 <-> 2 <-> 3 <-> 7 <-> 8 <-> 11 -> 12, 4 <-> 5 -> 9 -> 10, 6 -> 13\n",
    "##### Output: 1 <-> 2 <-> 3 <-> 4 <-> 5 <-> 6 <-> 7 <-> 8 <-> 9 <-> 10 <-> 11 <-> 12 <-> 13"
   ]
  },
  {
   "cell_type": "code",
   "execution_count": 12,
   "id": "293539ca",
   "metadata": {},
   "outputs": [],
   "source": [
    "\"\"\"\n",
    "# Definition for a Node.\n",
    "class Node:\n",
    "    def __init__(self, val, prev, next, child):\n",
    "        self.val = val\n",
    "        self.prev = prev\n",
    "        self.next = next\n",
    "        self.child = child\n",
    "\"\"\"\n",
    "\n",
    "class Solution:\n",
    "    def flatten(self, head: 'Node') -> 'Node':\n",
    "        if not head: return None\n",
    "        stack = [head]; p = None\n",
    "        while stack:\n",
    "            r = stack.pop()\n",
    "            if p:\n",
    "                p.next,r.prev = r,p\n",
    "            p = r\n",
    "            if r.next:\n",
    "                stack.append(r.next)\n",
    "            if r.child:\n",
    "                stack.append(r.child)\n",
    "                r.child = None\n",
    "        return head\n",
    "        "
   ]
  },
  {
   "cell_type": "markdown",
   "id": "287d143e",
   "metadata": {},
   "source": [
    "#### Problem 12: Rearrange a linked list such that all even positioned nodes are placed at the end.\n",
    "##### Input: 1 -> 2 -> 3 -> 4 -> 5\n",
    "##### Output: 1 -> 3 -> 5 -> 2 -> 4"
   ]
  },
  {
   "cell_type": "code",
   "execution_count": 13,
   "id": "ddaefcfc",
   "metadata": {},
   "outputs": [
    {
     "name": "stdout",
     "output_type": "stream",
     "text": [
      "Given Linked List\n",
      "3->1->18->12->5->NULL\n",
      "Modified Linked List\n",
      "3->18->5->1->12->NULL\n"
     ]
    }
   ],
   "source": [
    "class Node1:\n",
    "    def __init__(self, d):\n",
    "        self.data = d\n",
    "        self.next = None\n",
    "\n",
    "class LinkedList:\n",
    "    def __init__(self):\n",
    "        self.head = None\n",
    "        \n",
    "    def newNode(self, key):\n",
    "        temp = Node1(key)\n",
    "        self.next = None\n",
    "        return temp\n",
    "\n",
    "    def rearrangeEvenOdd(self, head):\n",
    "        \n",
    "        if (self.head == None):\n",
    "            return None\n",
    "\n",
    "        odd = self.head\n",
    "        even = self.head.next\n",
    "\n",
    "        evenFirst = even\n",
    "\n",
    "        while (1 == 1):\n",
    "            \n",
    "            if (odd == None or even == None or\n",
    "                            (even.next) == None):\n",
    "                odd.next = evenFirst\n",
    "                break\n",
    "\n",
    "            odd.next = even.next\n",
    "            odd = even.next\n",
    "\n",
    "            if (odd.next == None):\n",
    "                even.next = None\n",
    "                odd.next = evenFirst\n",
    "                break\n",
    "\n",
    "            even.next = odd.next\n",
    "            even = odd.next\n",
    "        return head\n",
    "\n",
    "    def printlist(self, node):\n",
    "        while (node != None):\n",
    "            print(node.data, end = \"\")\n",
    "            print(\"->\", end = \"\")\n",
    "            node = node.next\n",
    "        print (\"NULL\")\n",
    "        \n",
    "    def push(self, new_data):\n",
    "        new_node = Node1(new_data)\n",
    "        new_node.next = self.head\n",
    "        self.head = new_node\n",
    "\n",
    "ll = LinkedList()\n",
    "ll.push(5)\n",
    "ll.push(12)\n",
    "ll.push(18)\n",
    "ll.push(1)\n",
    "ll.push(3)\n",
    "print (\"Given Linked List\")\n",
    "ll.printlist(ll.head)\n",
    "\n",
    "start = ll.rearrangeEvenOdd(ll.head)\n",
    "\n",
    "print (\"Modified Linked List\")\n",
    "ll.printlist(start)"
   ]
  },
  {
   "cell_type": "markdown",
   "id": "d9c6e07e",
   "metadata": {},
   "source": [
    "#### Problem 13: Given a non-negative number represented as a linked list, add one to it.\n",
    "##### Input: 1 -> 2 -> 3 (represents the number 123)\n",
    "##### Output: 1 -> 2 -> 4 (represents the number 124)"
   ]
  },
  {
   "cell_type": "code",
   "execution_count": 14,
   "id": "a6f096d6",
   "metadata": {},
   "outputs": [
    {
     "name": "stdout",
     "output_type": "stream",
     "text": [
      "1->2->3->4->5->6->\n",
      "\n",
      "1->2->3->4->5->7->\n",
      "\n"
     ]
    }
   ],
   "source": [
    "def add_one(head):\n",
    "    \n",
    "    temp1 = head\n",
    "    length = 0\n",
    "    while(temp1):\n",
    "        length +=1\n",
    "        temp1 = temp1.getNext()\n",
    "    temp2 = head\n",
    "    for i in range(length-1):\n",
    "        temp2 = temp2.getNext()\n",
    "\n",
    "    x = temp2.getData() + 1\n",
    "    temp2.setData(x)\n",
    "    return head\n",
    " \n",
    "# Driver Code\n",
    "\n",
    "head = Node(1)\n",
    "node2 = Node(2)\n",
    "node3 = Node(3)\n",
    "node4 = Node(4)\n",
    "node5 = Node(5)\n",
    "node6 = Node(6)\n",
    "\n",
    "#Creating the linkage\n",
    "head.setNext(node2)\n",
    "node2.setNext(node3)\n",
    "node3.setNext(node4)\n",
    "node4.setNext(node5)\n",
    "node5.setNext(node6)\n",
    "traverse(head) \n",
    "head = add_one(head)\n",
    "traverse(head)"
   ]
  },
  {
   "cell_type": "markdown",
   "id": "8ce0a729",
   "metadata": {},
   "source": [
    "#### Problem 14: Given a sorted array and a target value, return the index if the target is found. If not, return the index where it would be inserted."
   ]
  },
  {
   "cell_type": "code",
   "execution_count": 15,
   "id": "d3a9eb4a",
   "metadata": {},
   "outputs": [
    {
     "data": {
      "text/plain": [
       "2"
      ]
     },
     "execution_count": 15,
     "metadata": {},
     "output_type": "execute_result"
    }
   ],
   "source": [
    "def findTargetIndex(arr, target):\n",
    "    \n",
    "    index = 0\n",
    "    if target<arr[0]:\n",
    "        return 0\n",
    "    if target >arr[-1]:\n",
    "        return len(arr)\n",
    "    for i in range(len(arr)-1):\n",
    "        if arr[i]==target:\n",
    "            return i\n",
    "        elif target>arr[i] and target<arr[i+1]:\n",
    "            return i+1\n",
    "        \n",
    "findTargetIndex([2,3,4,6,8],4)                "
   ]
  },
  {
   "cell_type": "markdown",
   "id": "0ba1dc98",
   "metadata": {},
   "source": [
    "#### Problem 15: Find the minimum element in a rotated sorted array.\n",
    "##### Input: [4, 5, 6, 7, 0, 1, 2]\n",
    "##### Output: 0"
   ]
  },
  {
   "cell_type": "code",
   "execution_count": 16,
   "id": "d1332d4a",
   "metadata": {},
   "outputs": [
    {
     "data": {
      "text/plain": [
       "0"
      ]
     },
     "execution_count": 16,
     "metadata": {},
     "output_type": "execute_result"
    }
   ],
   "source": [
    "def find_min(arr):\n",
    "    \n",
    "    minimum = float('+inf')\n",
    "    \n",
    "    for element in arr:\n",
    "        if element < minimum:\n",
    "            minimum = element\n",
    "    return minimum\n",
    "find_min([4, 5, 6, 7, 0, 1, 2])"
   ]
  },
  {
   "cell_type": "markdown",
   "id": "39474d89",
   "metadata": {},
   "source": [
    "#### Problem 16: Search for a target value in a rotated sorted array.\n",
    "##### Input: nums = [4, 5, 6, 7, 0, 1, 2], target = 0\n",
    "##### Output: 4"
   ]
  },
  {
   "cell_type": "code",
   "execution_count": 17,
   "id": "a3c03561",
   "metadata": {},
   "outputs": [
    {
     "data": {
      "text/plain": [
       "1"
      ]
     },
     "execution_count": 17,
     "metadata": {},
     "output_type": "execute_result"
    }
   ],
   "source": [
    "def find_target(arr,target):\n",
    "    \n",
    "    for i in range(len(arr)):\n",
    "        if arr[i] == target:\n",
    "            return i\n",
    "    return -1\n",
    "find_target([4, 5, 6, 7, 0, 1, 2],5)"
   ]
  },
  {
   "cell_type": "markdown",
   "id": "59869281",
   "metadata": {},
   "source": [
    "#### Problem 17: Find the peak element in an array. A peak element is greater than its neighbors.\n",
    "##### Input: nums = [1, 2, 3, 1]\n",
    "##### Output: 2 (index of peak element)"
   ]
  },
  {
   "cell_type": "code",
   "execution_count": 18,
   "id": "eb26c51d",
   "metadata": {},
   "outputs": [
    {
     "data": {
      "text/plain": [
       "0"
      ]
     },
     "execution_count": 18,
     "metadata": {},
     "output_type": "execute_result"
    }
   ],
   "source": [
    "def find_peak(arr):\n",
    "    \n",
    "    for i in range(len(arr)):\n",
    "        if i ==0:\n",
    "            if arr[i]>arr[i+1]:\n",
    "                return i\n",
    "            \n",
    "        elif i == len(arr) -1:\n",
    "            \n",
    "            if arr[i]>arr[i-1]:\n",
    "                return len(arr) - 1\n",
    "            \n",
    "        else:\n",
    "            if arr[i] >arr[i-1] and arr[i] > arr[i+1]:\n",
    "                return i\n",
    "            \n",
    "find_peak([100,1,2,6])"
   ]
  },
  {
   "cell_type": "markdown",
   "id": "125c9239",
   "metadata": {},
   "source": [
    "#### Problem 18: Given a m x n matrix where each row and column is sorted in ascending order, count the number of negative numbers.\n",
    "##### Input: grid = [[4, 3, 2, -1], [3, 2, 1, -1], [1, 1, -1, -2], [-1, -1, -2, -3]]\n",
    "##### Output: 8"
   ]
  },
  {
   "cell_type": "code",
   "execution_count": 19,
   "id": "e7b1842c",
   "metadata": {},
   "outputs": [
    {
     "data": {
      "text/plain": [
       "8"
      ]
     },
     "execution_count": 19,
     "metadata": {},
     "output_type": "execute_result"
    }
   ],
   "source": [
    "def num_of_negative(arr):\n",
    "    \n",
    "    count = 0\n",
    "    \n",
    "    for i in range(len(arr)):\n",
    "        for j in range(len(arr[i])):\n",
    "            if arr[i][j] <0:\n",
    "                count +=1\n",
    "    return count       \n",
    "num_of_negative([[4, 3, 2, -1], [3, 2, 1, -1], [1, 1, -1, -2], [-1, -1, -2, -3]])"
   ]
  },
  {
   "cell_type": "markdown",
   "id": "59116929",
   "metadata": {},
   "source": [
    "#### Problem 19: Given a 2D matrix sorted in ascending order in each row, and the first integer of each row is greater than the last integer of the previous row, determine if a target value is present in the matrix.\n",
    "##### Input: matrix = [[1, 3, 5, 7], [10, 11, 16, 20], [23, 30, 34, 60]], target = 3\n",
    "##### Output: True"
   ]
  },
  {
   "cell_type": "code",
   "execution_count": 20,
   "id": "71aa8daf",
   "metadata": {},
   "outputs": [
    {
     "data": {
      "text/plain": [
       "True"
      ]
     },
     "execution_count": 20,
     "metadata": {},
     "output_type": "execute_result"
    }
   ],
   "source": [
    "def find_target_2d(arr, target):\n",
    "    num_rows = len(arr)\n",
    "    num_cols = len(arr[0])\n",
    "    \n",
    "    for i in range(num_rows):\n",
    "        if target >= arr[i][0] and target <= arr[i][-1]:\n",
    "            for j in range(num_cols):\n",
    "                if arr[i][j] == target:\n",
    "                    return True\n",
    "    return False\n",
    "\n",
    "\n",
    "find_target_2d([[1, 3, 5, 7], [10, 11, 16, 20], [23, 30, 34, 60]],3)           "
   ]
  },
  {
   "cell_type": "markdown",
   "id": "55842544",
   "metadata": {},
   "source": [
    "#### Problem 20: Find Median in Two Sorted Arrays\n",
    "#### Problem: Given two sorted arrays, find the median of the combined sorted array.\n",
    "##### Input: nums1 = [1, 3], nums2 = [2]\n",
    "##### Output: 2.0"
   ]
  },
  {
   "cell_type": "code",
   "execution_count": 21,
   "id": "eaa3b9a8",
   "metadata": {},
   "outputs": [
    {
     "data": {
      "text/plain": [
       "2"
      ]
     },
     "execution_count": 21,
     "metadata": {},
     "output_type": "execute_result"
    }
   ],
   "source": [
    "def find_median_of_sorted_arrays(arr1, arr2):\n",
    "    \n",
    "    merged = sorted(arr1 + arr2)\n",
    "    length = len(merged)\n",
    "    if length % 2 == 0:\n",
    "        return (merged[length // 2] + merged[length // 2 - 1]) / 2.0\n",
    "    else:\n",
    "        return merged[length // 2]\n",
    "        \n",
    "find_median_of_sorted_arrays([1,3],[2])"
   ]
  },
  {
   "cell_type": "markdown",
   "id": "890fbdbd",
   "metadata": {},
   "source": [
    "#### Problem 21: Given a sorted character array and a target letter, find the smallest letter in the array that is greater than the target.\n",
    "##### Input: letters = ['c', 'f', 'j'], target = a\n",
    "##### Output: 'c'"
   ]
  },
  {
   "cell_type": "code",
   "execution_count": 22,
   "id": "8f0e375e",
   "metadata": {},
   "outputs": [
    {
     "data": {
      "text/plain": [
       "'k'"
      ]
     },
     "execution_count": 22,
     "metadata": {},
     "output_type": "execute_result"
    }
   ],
   "source": [
    "def smallestLetter(arr, char):\n",
    "    \n",
    "    for item in arr:\n",
    "        if item > char:\n",
    "            return item\n",
    "\n",
    "    \n",
    "smallestLetter( ['c', 'f', 'j', 'k'],'j')"
   ]
  },
  {
   "cell_type": "markdown",
   "id": "162f28fc",
   "metadata": {},
   "source": [
    "#### Problem 22: Given an array with n objects colored red, white, or blue, sort them in-place so that objects of the same color are adjacent, with the colors in the order red, white, and blue.\n",
    "##### Input: nums = [2, 0, 2, 1, 1, 0]\n",
    "##### Output: [0, 0, 1, 1, 2, 2]"
   ]
  },
  {
   "cell_type": "code",
   "execution_count": 23,
   "id": "2db7bd24",
   "metadata": {},
   "outputs": [
    {
     "name": "stdout",
     "output_type": "stream",
     "text": [
      "0 0 0 1 1 2 2 "
     ]
    }
   ],
   "source": [
    "def sort_0s_1s_2s(arr):\n",
    "    \n",
    "    count_0s = 0\n",
    "    count_1s = 0\n",
    "    count_2s = 0\n",
    "    \n",
    "    for item in arr:\n",
    "        if item == 0:\n",
    "            count_0s +=1\n",
    "        elif item == 1:\n",
    "            count_1s +=1\n",
    "        else:\n",
    "            count_2s +=1\n",
    "            \n",
    "    for _ in range(count_0s):\n",
    "        print(0, end = \" \")\n",
    "    for _ in range(count_1s):\n",
    "        print(1, end = \" \")\n",
    "    for _ in range(count_2s):\n",
    "        print(2, end = \" \")\n",
    "    \n",
    "sort_0s_1s_2s([2, 0, 2, 1, 1, 0,0])"
   ]
  },
  {
   "cell_type": "markdown",
   "id": "fab0a6a6",
   "metadata": {},
   "source": [
    "#### Problem 23: Find the kth largest element in an unsorted array.\n",
    "##### Input: nums = [3, 2, 1, 5, 6, 4], k = 2\n",
    "##### Output: 5"
   ]
  },
  {
   "cell_type": "code",
   "execution_count": 24,
   "id": "622b4453",
   "metadata": {},
   "outputs": [
    {
     "data": {
      "text/plain": [
       "1"
      ]
     },
     "execution_count": 24,
     "metadata": {},
     "output_type": "execute_result"
    }
   ],
   "source": [
    "def findMax(arr):\n",
    "    \n",
    "    maximum = float('-inf')\n",
    "    for item in arr:\n",
    "        if item>maximum:\n",
    "            maximum = item\n",
    "    return maximum\n",
    "    \n",
    "def kth_largest(arr,k):\n",
    "    \n",
    "    count = 0\n",
    "    \n",
    "    \n",
    "    while(count<k-1):\n",
    "        \n",
    "        maximum = findMax(arr)\n",
    "        arr.remove(maximum)\n",
    "        count +=1\n",
    "    return findMax(arr)\n",
    "        \n",
    "        \n",
    "kth_largest([3, 2, 1, 5, 6, 4],6)  "
   ]
  },
  {
   "cell_type": "markdown",
   "id": "a8241469",
   "metadata": {},
   "source": [
    "#### Problem 24: Given an unsorted array, reorder it in-place such that nums[0] <= nums[1] >= nums[2] <= nums[3]...\n",
    "##### Input: nums = [3, 5, 2, 1, 6, 4]\n",
    "##### Output: [3, 5, 1, 6, 2, 4]"
   ]
  },
  {
   "cell_type": "code",
   "execution_count": 25,
   "id": "a2ae91f8",
   "metadata": {},
   "outputs": [
    {
     "data": {
      "text/plain": [
       "[3, 5, 1, 6, 2, 4]"
      ]
     },
     "execution_count": 25,
     "metadata": {},
     "output_type": "execute_result"
    }
   ],
   "source": [
    "def reorder_array(arr):\n",
    "    \n",
    "    for i in range(len(arr)-1):\n",
    "        \n",
    "        if i%2 == 0 and arr[i] > arr[i+1]:\n",
    "            arr[i], arr[i+1] = arr[i+1], arr[i]\n",
    "        if i%2 !=0 and arr[i] < arr[i+1]:\n",
    "            arr[i], arr[i+1] = arr[i+1], arr[i]\n",
    "    return arr\n",
    "\n",
    "reorder_array([3, 5, 2, 1, 6, 4])                       "
   ]
  },
  {
   "cell_type": "markdown",
   "id": "b335c21f",
   "metadata": {},
   "source": [
    "#### Problem 25: Given an array of integers, calculate the sum of all its elements.\n",
    "##### Input: [1, 2, 3, 4, 5]\n",
    "##### Output: 15"
   ]
  },
  {
   "cell_type": "code",
   "execution_count": 26,
   "id": "dc482e46",
   "metadata": {},
   "outputs": [
    {
     "data": {
      "text/plain": [
       "15"
      ]
     },
     "execution_count": 26,
     "metadata": {},
     "output_type": "execute_result"
    }
   ],
   "source": [
    "def sum_of_arr(arr):\n",
    "    \n",
    "    sum_total = 0\n",
    "    \n",
    "    for item in arr:\n",
    "        sum_total +=item\n",
    "    return sum_total\n",
    "sum_of_arr([1, 2, 3, 4, 5])"
   ]
  },
  {
   "cell_type": "markdown",
   "id": "bdebc11d",
   "metadata": {},
   "source": [
    "#### Problem 26: Find the maximum element in an array of integers.\n",
    "##### Input: [3, 7, 2, 9, 4, 1]\n",
    "##### Output: 9"
   ]
  },
  {
   "cell_type": "code",
   "execution_count": 27,
   "id": "60b10230",
   "metadata": {},
   "outputs": [
    {
     "data": {
      "text/plain": [
       "9"
      ]
     },
     "execution_count": 27,
     "metadata": {},
     "output_type": "execute_result"
    }
   ],
   "source": [
    "def findMaxElement(arr):\n",
    "    \n",
    "    maximum = float('-inf')\n",
    "    for item in arr:\n",
    "        if item>maximum:\n",
    "            maximum = item\n",
    "    return maximum\n",
    "findMaxElement([3, 7, 2, 9, 4, 1])"
   ]
  },
  {
   "cell_type": "markdown",
   "id": "7c9de5e3",
   "metadata": {},
   "source": [
    "#### Problem 27: Implement linear search to find the index of a target element in an array.\n",
    "##### Input: [5, 3, 8, 2, 7, 4], target = 8\n",
    "##### Output: 2"
   ]
  },
  {
   "cell_type": "code",
   "execution_count": 28,
   "id": "23dadb83",
   "metadata": {},
   "outputs": [
    {
     "data": {
      "text/plain": [
       "2"
      ]
     },
     "execution_count": 28,
     "metadata": {},
     "output_type": "execute_result"
    }
   ],
   "source": [
    "def linearSearch(arr,target):\n",
    "    \n",
    "    for i in range(len(arr)):\n",
    "        if arr[i] == target:\n",
    "            return i\n",
    "    return -1\n",
    "\n",
    "linearSearch([5, 3, 8, 2, 7, 4],8)"
   ]
  },
  {
   "cell_type": "markdown",
   "id": "8df5584d",
   "metadata": {},
   "source": [
    "#### Problem 28 Calculate the factorial of a given number.\n",
    "##### Input: 5\n",
    "##### Output: 120 (as 5! = 5 * 4 * 3 * 2 * 1 = 120)"
   ]
  },
  {
   "cell_type": "code",
   "execution_count": 29,
   "id": "8df80058",
   "metadata": {},
   "outputs": [
    {
     "data": {
      "text/plain": [
       "120"
      ]
     },
     "execution_count": 29,
     "metadata": {},
     "output_type": "execute_result"
    }
   ],
   "source": [
    "def factorial(num):\n",
    "    \n",
    "    if num ==0 or num == 1:\n",
    "        return 1\n",
    "    else:\n",
    "        return num*factorial(num-1)\n",
    "factorial(5)"
   ]
  },
  {
   "cell_type": "markdown",
   "id": "d28ff80e",
   "metadata": {},
   "source": [
    "#### Problem 29: Check if a given number is a prime number.\n",
    "##### Input: 7\n",
    "##### Output: True"
   ]
  },
  {
   "cell_type": "code",
   "execution_count": 30,
   "id": "51060ed9",
   "metadata": {},
   "outputs": [
    {
     "data": {
      "text/plain": [
       "True"
      ]
     },
     "execution_count": 30,
     "metadata": {},
     "output_type": "execute_result"
    }
   ],
   "source": [
    "def isPrime(num):\n",
    "    \n",
    "    if num == 0 or num ==1:\n",
    "        return False\n",
    "  \n",
    "    for i in range(2,num):\n",
    "            \n",
    "        if num%i == 0:\n",
    "            \n",
    "            return False\n",
    "        \n",
    "    return True\n",
    "isPrime(7)"
   ]
  },
  {
   "cell_type": "markdown",
   "id": "502de83d",
   "metadata": {},
   "source": [
    "#### Problem 30: Generate the Fibonacci series up to a given number n.\n",
    "##### Input: 8\n",
    "##### Output: [0, 1, 1, 2, 3, 5, 8, 13]"
   ]
  },
  {
   "cell_type": "code",
   "execution_count": 31,
   "id": "b9559987",
   "metadata": {},
   "outputs": [
    {
     "data": {
      "text/plain": [
       "[0, 1, 1, 2, 3, 5, 8, 13]"
      ]
     },
     "execution_count": 31,
     "metadata": {},
     "output_type": "execute_result"
    }
   ],
   "source": [
    "def fib(n):\n",
    "    \n",
    "    if n == 0 or n ==1:\n",
    "        return n\n",
    "    else:\n",
    "        return fib(n-1) + fib(n-2)\n",
    "    \n",
    "def generate_fib(n):\n",
    "    \n",
    "    fib_list= []\n",
    "    \n",
    "    for i in range(n):\n",
    "        fib_list.append(fib(i))\n",
    "    \n",
    "    return fib_list\n",
    "\n",
    "generate_fib(8)        "
   ]
  },
  {
   "cell_type": "markdown",
   "id": "270255a5",
   "metadata": {},
   "source": [
    "#### Problem 31: Calculate the power of a number using recursion.\n",
    "##### Input: base = 3, exponent = 4\n",
    "##### Output: 81 (as 3^4 = 3 * 3 * 3 * 3 = 81)"
   ]
  },
  {
   "cell_type": "code",
   "execution_count": 32,
   "id": "4276715d",
   "metadata": {},
   "outputs": [
    {
     "data": {
      "text/plain": [
       "81"
      ]
     },
     "execution_count": 32,
     "metadata": {},
     "output_type": "execute_result"
    }
   ],
   "source": [
    "def power(base,exponent):\n",
    "    \n",
    "    if exponent == 0:\n",
    "        return 1\n",
    "    else:\n",
    "        return base*power(base, exponent-1)\n",
    "    \n",
    "power(3,4)"
   ]
  },
  {
   "cell_type": "markdown",
   "id": "a09b2f6b",
   "metadata": {},
   "source": [
    "#### Problem 32: Reverse a given string.\n",
    "##### Input: \"hello\"\n",
    "##### Output: \"olleh\""
   ]
  },
  {
   "cell_type": "code",
   "execution_count": 33,
   "id": "fdc92c24",
   "metadata": {},
   "outputs": [
    {
     "data": {
      "text/plain": [
       "'olleh'"
      ]
     },
     "execution_count": 33,
     "metadata": {},
     "output_type": "execute_result"
    }
   ],
   "source": [
    "def reverse_string(string):\n",
    "    \n",
    "    first = 0\n",
    "    last = len(string)-1\n",
    "    string = list(string)\n",
    "    while(first < last):\n",
    "        \n",
    "        string[first], string[last] = string[last], string[first]\n",
    "        first +=1\n",
    "        last -=1\n",
    "    return \"\".join(string)\n",
    "\n",
    "reverse_string(\"hello\")"
   ]
  }
 ],
 "metadata": {
  "kernelspec": {
   "display_name": "Python 3",
   "language": "python",
   "name": "python3"
  },
  "language_info": {
   "codemirror_mode": {
    "name": "ipython",
    "version": 3
   },
   "file_extension": ".py",
   "mimetype": "text/x-python",
   "name": "python",
   "nbconvert_exporter": "python",
   "pygments_lexer": "ipython3",
   "version": "3.8.8"
  }
 },
 "nbformat": 4,
 "nbformat_minor": 5
}

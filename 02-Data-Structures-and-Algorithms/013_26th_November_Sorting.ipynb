{
 "cells": [
  {
   "cell_type": "markdown",
   "id": "93ad54fe",
   "metadata": {},
   "source": [
    "## Assignment 13: Sorting"
   ]
  },
  {
   "cell_type": "markdown",
   "id": "358723cf",
   "metadata": {},
   "source": [
    "#### Problem 1.Given an array of n numbers, give an algorithm which gives the element appearing maximum number of times?"
   ]
  },
  {
   "cell_type": "code",
   "execution_count": 1,
   "id": "2e9c9e11",
   "metadata": {},
   "outputs": [
    {
     "data": {
      "text/plain": [
       "0"
      ]
     },
     "execution_count": 1,
     "metadata": {},
     "output_type": "execute_result"
    }
   ],
   "source": [
    "def max_frequency(arr):\n",
    "    \n",
    "    arr_set = set(arr)\n",
    "    arr_dict = {}\n",
    "    for element in arr_set:\n",
    "        arr_dict[element] = 0\n",
    "    for element in arr:\n",
    "        arr_dict[element] +=1\n",
    "   \n",
    "    most_frequent = arr[0]\n",
    "    for key in arr_dict.keys():\n",
    "        if arr_dict[key]>arr_dict[most_frequent]:\n",
    "            most_frequent = key    \n",
    "    return most_frequent\n",
    "max_frequency([1,2,3,4,4,4,0,0,0,0,0])"
   ]
  },
  {
   "cell_type": "markdown",
   "id": "fc213bf1",
   "metadata": {},
   "source": [
    "#### Problem 2 : We are given a list of n-1 integers and these integers are in the range of 1 to n . There are no duplicates in the list. One of the integers is missing in the list. Give an algorithm to find that element Ex: [1,2,4,6,3,7,8] 5 is the missing num."
   ]
  },
  {
   "cell_type": "code",
   "execution_count": 2,
   "id": "6988f542",
   "metadata": {},
   "outputs": [
    {
     "data": {
      "text/plain": [
       "5"
      ]
     },
     "execution_count": 2,
     "metadata": {},
     "output_type": "execute_result"
    }
   ],
   "source": [
    "def missing_number(arr):\n",
    "    \n",
    "    arr = sorted(arr)\n",
    "    for i in range(1,len(arr)):\n",
    "        if arr[i]-arr[i-1] != 1:\n",
    "            return i+1\n",
    "        \n",
    "missing_number([4,3,2,1,6])       "
   ]
  },
  {
   "cell_type": "markdown",
   "id": "08c0a47b",
   "metadata": {},
   "source": [
    "#### Problem 3 : Given an array of n positive numbers. All numbers occurs even number of times except 1 which occurs odd number of times. Find that number in O(n) time and O(1) space. Ex: [1,2,3,2,3,1,3]. 3 is repeats odd times."
   ]
  },
  {
   "cell_type": "code",
   "execution_count": 3,
   "id": "177ec8b1",
   "metadata": {},
   "outputs": [
    {
     "data": {
      "text/plain": [
       "4"
      ]
     },
     "execution_count": 3,
     "metadata": {},
     "output_type": "execute_result"
    }
   ],
   "source": [
    "# O(n) time complexity and O(n) space complexity\n",
    "def odd_times(arr):\n",
    "   \n",
    "    arr_dict = {}\n",
    "    for element in arr:\n",
    "        arr_dict[element] = 0\n",
    "    for element in arr:\n",
    "        arr_dict[element] += 1\n",
    "        \n",
    "    for key in arr_dict.keys():\n",
    "        if arr_dict[key] %2 != 0:\n",
    "            return key\n",
    "    return arr_dict\n",
    "odd_times([1,1,1,1,2,2,3,3,4,4,4])\n",
    "                "
   ]
  },
  {
   "cell_type": "code",
   "execution_count": 4,
   "id": "1d5f1f27",
   "metadata": {},
   "outputs": [
    {
     "data": {
      "text/plain": [
       "4"
      ]
     },
     "execution_count": 4,
     "metadata": {},
     "output_type": "execute_result"
    }
   ],
   "source": [
    "\"\"\"The key is to use the XOR operation. XOR of all elements gives us the odd occurring elements. The XOR of all elements in \n",
    "   an array that has numbers appearing an even number of times is 0. The XOR of 0 and the odd occurring element is the \n",
    "   odd occurring element itself.\n",
    "\n",
    "This code works because the XOR operation has certain properties:\n",
    "\n",
    "1. The order of the numbers does not matter: a XOR b = b XOR a.\n",
    "2. XOR with 0 gives the same number: a XOR 0 = a.\n",
    "3. XOR with the same number twice gives 0: a XOR a = 0.\n",
    "4. So, all numbers occurring even number of times will be XORed twice leading to 0. The number occurring odd number of times\n",
    "   will be XORed once with 0 and hence, will be the result. This solution works in O(n) time and O(1) space.\"\"\"\n",
    "\n",
    "def odd_times_efficient(arr):\n",
    "    xor = 0\n",
    "    for element in arr:\n",
    "        xor ^= element\n",
    "    return xor\n",
    "\n",
    "odd_times_efficient([1,1,1,1,2,2,3,3,4,4,4])"
   ]
  },
  {
   "cell_type": "markdown",
   "id": "9a4f001d",
   "metadata": {},
   "source": [
    "#### Problem 4 : Given an array of n elements. Find two elements in the array such that their sum is equal to given element K."
   ]
  },
  {
   "cell_type": "code",
   "execution_count": 5,
   "id": "fdaf93a8",
   "metadata": {},
   "outputs": [
    {
     "data": {
      "text/plain": [
       "(1, 4)"
      ]
     },
     "execution_count": 5,
     "metadata": {},
     "output_type": "execute_result"
    }
   ],
   "source": [
    "def two_sum(arr,k):\n",
    "    \n",
    "    for i in range(0,len(arr)):\n",
    "        for j in range(i,len(arr)):\n",
    "            if arr[i] + arr[j] ==k:\n",
    "                return (arr[i], arr[j])\n",
    "two_sum([1,2,3,4],5)"
   ]
  },
  {
   "cell_type": "code",
   "execution_count": 6,
   "id": "bc404d1a",
   "metadata": {},
   "outputs": [
    {
     "data": {
      "text/plain": [
       "(2, 3)"
      ]
     },
     "execution_count": 6,
     "metadata": {},
     "output_type": "execute_result"
    }
   ],
   "source": [
    "\"\"\"In this version, for each number in the array, we calculate the difference between the target sum k and the current \n",
    "   number. If the difference has been seen before (i.e., it exists in the seen dictionary), we return a tuple of the\n",
    "   difference and the current number. If not, we add the current number to the seen dictionary and continue to the next\n",
    "   number. If no pair sums up to k, the function returns None. This approach only requires a single pass through the array,\n",
    "   hence the time complexity is O(n)\"\"\"\n",
    "\n",
    "def two_sum_efficient(arr, k):\n",
    "    seen = {}\n",
    "    for num in arr:\n",
    "        diff = k - num\n",
    "        if diff in seen:\n",
    "            return (diff, num)\n",
    "        seen[num] = True\n",
    "    return None\n",
    "two_sum_efficient([1,2,3,4],5)"
   ]
  },
  {
   "cell_type": "markdown",
   "id": "4d47145e",
   "metadata": {},
   "source": [
    "#### Problem 5 : Given an array of both positive and negative numbers, find two numbers such that their sum is closest to 0. Ex: [ 1 ,60 ,-10, 70, -80,85]. Ans : -80,85."
   ]
  },
  {
   "cell_type": "code",
   "execution_count": 7,
   "id": "117bae64",
   "metadata": {},
   "outputs": [
    {
     "name": "stdout",
     "output_type": "stream",
     "text": [
      "(-80, 85)\n"
     ]
    }
   ],
   "source": [
    "\"\"\"This function sorts the array and uses two pointers, one at the beginning (left) and one at the end (right). It \n",
    "   calculates the sum of the values at these two pointers. If the absolute value of this sum is less than the current\n",
    "   minimum sum, it updates the minimum sum and the pair of numbers. If the sum is less than zero, it moves the left pointer\n",
    "   to the right (increasing the sum). If the sum is greater than or equal to zero, it moves the right pointer to the left\n",
    "   (decreasing the sum). This continues until the left pointer is no longer less than the right pointer. The function then \n",
    "   returns the pair of numbers that gave the minimum sum. If the array has fewer than two elements, the function returns \n",
    "   None.\"\"\"\n",
    "\n",
    "def find_pair_closest_to_zero(arr):\n",
    "    if len(arr) < 2:\n",
    "        return None\n",
    "\n",
    "    arr.sort()\n",
    "\n",
    "    left = 0\n",
    "    right = len(arr) - 1\n",
    "    min_sum = float('inf')\n",
    "    min_left = left\n",
    "    min_right = right\n",
    "\n",
    "    while left < right:\n",
    "        temp_sum = arr[left] + arr[right]\n",
    "\n",
    "        if abs(temp_sum) < abs(min_sum):\n",
    "            min_sum = temp_sum\n",
    "            min_left = left\n",
    "            min_right = right\n",
    "\n",
    "        if temp_sum < 0:\n",
    "            left += 1\n",
    "        else:\n",
    "            right -= 1\n",
    "\n",
    "    return arr[min_left], arr[min_right]\n",
    "\n",
    "arr = [1, 60, -10, 70, -80, 85]\n",
    "print(find_pair_closest_to_zero(arr))  # Output: (-80, 85)"
   ]
  },
  {
   "cell_type": "markdown",
   "id": "f6ecd9ef",
   "metadata": {},
   "source": [
    "#### Problem 6 : Given an array of n elements . Find three elements such that their sum is equal to the given number."
   ]
  },
  {
   "cell_type": "code",
   "execution_count": 8,
   "id": "5a074c14",
   "metadata": {},
   "outputs": [
    {
     "data": {
      "text/plain": [
       "(1, 2, 4)"
      ]
     },
     "execution_count": 8,
     "metadata": {},
     "output_type": "execute_result"
    }
   ],
   "source": [
    "# Time complexity = O(n^3) --> Brute-force\n",
    "def three_sum(arr, num):\n",
    "    \n",
    "    for i in range(len(arr)):\n",
    "        for j in range(len(arr)):\n",
    "            for k in range(len(arr)):\n",
    "                if arr[i] + arr[j] + arr[k] == num:\n",
    "                    return (arr[i],arr[j],arr[k])\n",
    "three_sum([1,2,3,4],7)"
   ]
  },
  {
   "cell_type": "code",
   "execution_count": 9,
   "id": "95627476",
   "metadata": {},
   "outputs": [
    {
     "data": {
      "text/plain": [
       "(1, 3, 4)"
      ]
     },
     "execution_count": 9,
     "metadata": {},
     "output_type": "execute_result"
    }
   ],
   "source": [
    "# Time complexity = O(n^2) --> Optimized Time complexity\n",
    "\n",
    "\"\"\"In this version, we first sort the array. Then, for each element, we use two pointers, one starting from the next\n",
    "   element and the other from the end of the array. If the sum of the three numbers is less than the target, we move\n",
    "   the left pointer one step to the right (increasing the sum). If the sum is greater than the target, we move the right \n",
    "   pointer one step to the left (decreasing the sum). This way, we can find the three numbers that add up to the target \n",
    "   in O(n^2) time.\"\"\"\n",
    "\n",
    "def three_sum_efficient(arr, num):\n",
    "    arr.sort()\n",
    "    for i in range(len(arr) - 2):\n",
    "        left = i + 1\n",
    "        right = len(arr) - 1\n",
    "        while left < right:\n",
    "            current_sum = arr[i] + arr[left] + arr[right]\n",
    "            if current_sum == num:\n",
    "                return (arr[i], arr[left], arr[right])\n",
    "            elif current_sum < num:\n",
    "                left += 1\n",
    "            else:\n",
    "                right -= 1\n",
    "    return None\n",
    "    \n",
    "three_sum_efficient([4,3,2,1,7],8)    "
   ]
  },
  {
   "cell_type": "markdown",
   "id": "b11e5a2b",
   "metadata": {},
   "source": [
    "#### Problem 7 : Given an array of n elements . Find three elements i, j, k in the array such that i * i + j * j = k*k."
   ]
  },
  {
   "cell_type": "code",
   "execution_count": 10,
   "id": "bd554a47",
   "metadata": {},
   "outputs": [
    {
     "name": "stdout",
     "output_type": "stream",
     "text": [
      "(7, 24, 25)\n"
     ]
    }
   ],
   "source": [
    "\"\"\" This Python function, two_square_sum, is designed to find three numbers in an input array such that the square of the \n",
    "    first two numbers equals the square of the third number.\n",
    "   \n",
    "   Here’s a step-by-step breakdown:\n",
    "\n",
    "   1. Square and Sort the Array: The function begins by squaring each element in the input array arr and sorting the \n",
    "   resulting array.\n",
    "\n",
    "   2. Iterate Over the Array: The function then iterates over the array in reverse order, starting from the last element and\n",
    "   ending at the third element. \n",
    "\n",
    "   3.Initialize Pointers: For each k, two pointers j and i are initialized. j starts at the beginning of the array (j = 0),\n",
    "  and i starts one position before k (i = k - 1).\n",
    "\n",
    "   4. Find Matching Pair: The function enters a while loop that continues as long as j < i. Inside this loop, it checks if\n",
    "   the sum of the elements at the j and i indices equals the element at the k index. If it does, it returns the square roots \n",
    "   of these three numbers as a tuple.\n",
    "\n",
    "   5. Update Pointers: If the sum of the squares at indices j and i is less than the square at index k, it increments j by 1\n",
    "   (j += 1) to increase the sum. If the sum is greater than the square at index k, it decrements i by 1 (i -= 1) to\n",
    "   decrease the sum. This is done because the array is sorted in ascending order, so increasing j or decreasing i changes \n",
    "   the sum.\n",
    "\n",
    "   6. Return None: If the function iterates over the entire array and doesn’t find a matching pair, it returns None.\n",
    "\n",
    "   This function implements a variation of the two-pointer technique, which is a common approach for solving array-based\n",
    "   problems that require finding a pair of elements that meet a certain condition. \n",
    "   \n",
    "   \"\"\"\n",
    "def two_square_sum(arr):\n",
    "    arr = sorted([i**2 for i in arr])\n",
    "    for k in range(len(arr)-1, 1, -1):\n",
    "        j = 0\n",
    "        i = k - 1\n",
    "        while j < i:\n",
    "            if arr[j] + arr[i] == arr[k]:\n",
    "                return (int(arr[j]**0.5), int(arr[i]**0.5), int(arr[k]**0.5))\n",
    "            elif arr[j] + arr[i] < arr[k]:\n",
    "                j += 1\n",
    "            else:\n",
    "                i -= 1\n",
    "    return None\n",
    "\n",
    "print(two_square_sum([1,2,24,3,4,25,7,0]))"
   ]
  },
  {
   "cell_type": "markdown",
   "id": "bb146c64",
   "metadata": {},
   "source": [
    "#### Problem 8 : An element is a majority if it appears more than n/2 times. Give an algorithm takes an array of n element as argument and identifies a majority (if it exists)."
   ]
  },
  {
   "cell_type": "code",
   "execution_count": 11,
   "id": "10013fd1",
   "metadata": {},
   "outputs": [
    {
     "data": {
      "text/plain": [
       "1"
      ]
     },
     "execution_count": 11,
     "metadata": {},
     "output_type": "execute_result"
    }
   ],
   "source": [
    "# Time Complexity = O(n)\n",
    "# Space Complexoty = O(n)\n",
    "def find_majority_element(arr):\n",
    "    \n",
    "    size = len(arr)//2\n",
    "    frequency = {}\n",
    "    \n",
    "    for num in arr:\n",
    "        frequency[num] = 0\n",
    "    \n",
    "    for num in arr:\n",
    "        \n",
    "        frequency[num] +=1\n",
    "    majority = arr[0]\n",
    "    for key in frequency.keys():\n",
    "        if frequency[key] > frequency[majority]:\n",
    "            majority = key\n",
    "    return majority\n",
    "\n",
    "    \n",
    "find_majority_element([1,1,1,1,1,1,1,5,5,5])"
   ]
  },
  {
   "cell_type": "code",
   "execution_count": 12,
   "id": "32bf6507",
   "metadata": {},
   "outputs": [
    {
     "data": {
      "text/plain": [
       "1"
      ]
     },
     "execution_count": 12,
     "metadata": {},
     "output_type": "execute_result"
    }
   ],
   "source": [
    "# Time Complexity = O(n)\n",
    "# Space Complexity = O(1)\n",
    "\"\"\" This Python function find_majority_element_optimized(arr) is designed to find the majority element in an array arr. \n",
    "   The majority element is the element that appears more than n/2 times in an array of size n. If there is no majority\n",
    "   element, the function returns None.\n",
    "\n",
    "   Step-by-step explanation:\n",
    "\n",
    "   1. Initialization: The function initializes a count variable to 0 and a candidate variable to None. The count variable \n",
    "   is used to keep track of the count of the current candidate for the majority element, and the candidate variable stores \n",
    "   the current candidate for the majority element.\n",
    "\n",
    "   2. First Loop (Finding a Candidate): The function then iterates over each number num in the array arr. If count is 0,\n",
    "   it sets candidate to num. Then, it increments count if num is the same as candidate, otherwise, it decrements count.\n",
    "   This is based on the Boyer-Moore Voting Algorithm, which essentially tries to find a candidate for the majority element.\n",
    "\n",
    "   3. Second Loop (Validation): After the first loop, the candidate might be the majority element, but we need to confirm it.\n",
    "   So, the function iterates over the array again, counting the occurrences of candidate. If candidate occurs more than n/2 \n",
    "   times, it is the majority element and is returned. Otherwise, the function returns None.\n",
    "\n",
    "   This function has a time complexity of O(n) and a space complexity of O(1), making it an efficient solution for finding\n",
    "   the majority element in an array.\n",
    "\n",
    "\"\"\"\n",
    "def find_majority_element_optimized(arr):\n",
    "    count = 0\n",
    "    candidate = None\n",
    "\n",
    "    for num in arr:\n",
    "        if count == 0:\n",
    "            candidate = num\n",
    "        count += (1 if num == candidate else -1)\n",
    "\n",
    "    # Manually count the occurrences of the candidate\n",
    "    count = 0\n",
    "    for num in arr:\n",
    "        if num == candidate:\n",
    "            count += 1\n",
    "\n",
    "    return candidate if count > len(arr) // 2 else None\n",
    "    \n",
    "find_majority_element_optimized([1,1,1,1,1,1,1,5,5,5])"
   ]
  },
  {
   "cell_type": "markdown",
   "id": "a55a8fdb",
   "metadata": {},
   "source": [
    "#### Problem 9 : Given n × n matrix, and in each row all 1’s are followed by 0’s. Find the row with the maximum number of 0’s."
   ]
  },
  {
   "cell_type": "code",
   "execution_count": 13,
   "id": "3edca0c7",
   "metadata": {},
   "outputs": [
    {
     "data": {
      "text/plain": [
       "2"
      ]
     },
     "execution_count": 13,
     "metadata": {},
     "output_type": "execute_result"
    }
   ],
   "source": [
    "# Time complexity = O(n^2) (becuase matrix.count() is O(n))\n",
    "def max_zeros_row(matrix):\n",
    "    \n",
    "    max_zeros = matrix[0].count(0)\n",
    "    max_row_index = 0\n",
    "    for i in range(len(matrix[0])):\n",
    "        count_zeros = matrix[i].count(0)\n",
    "        if count_zeros > max_zeros:\n",
    "            max_zeros = count_zeros\n",
    "            max_row_index = i\n",
    "    return max_row_index\n",
    "        \n",
    "max_zeros_row([[1,1,0],[0,1,0], [0,0,0]]) "
   ]
  },
  {
   "cell_type": "code",
   "execution_count": 14,
   "id": "127dd14f",
   "metadata": {},
   "outputs": [
    {
     "data": {
      "text/plain": [
       "2"
      ]
     },
     "execution_count": 14,
     "metadata": {},
     "output_type": "execute_result"
    }
   ],
   "source": [
    "# Time complexity = O(nlogn)\n",
    "\n",
    "\"\"\"This function uses a binary search algorithm to find the first occurrence of zero in a sorted binary array (arr).\n",
    "   It takes three arguments: the binary array (arr), and the low and high indices for the search range. The function \n",
    "   recursively divides the array into two halves until it finds an element where the previous element is 1 and the \n",
    "   current element is 0, which it then returns. If the array doesn’t contain a 0, it returns -1.\n",
    "   \n",
    "   \"\"\"\n",
    "\n",
    "def first_zero(arr, low, high):\n",
    "    if high >= low:\n",
    "        mid = low + (high - low) // 2\n",
    "        if (mid == 0 or arr[mid-1] == 1) and arr[mid] == 0:\n",
    "            return mid\n",
    "        if arr[mid] == 1:\n",
    "            return first_zero(arr, (mid + 1), high)\n",
    "        return first_zero(arr, low, (mid -1))\n",
    "    return -1\n",
    "\n",
    "\"\"\"\n",
    "   This function iterates over each row in the binary matrix. For each row, it calls the first_zero function to\n",
    "   find the first occurrence of 0. If a 0 is found, it calculates the number of zeros in that row by subtracting the index \n",
    "   of the first 0 from the length of the row. If this number is greater than the current maximum number of zeros \n",
    "   (max_zeros), it updates max_zeros and records the index of the row (max_row_index). Finally, it returns the index of the\n",
    "   row with the most zeros.\n",
    "   \n",
    "   \"\"\"\n",
    "def max_zeros_row_optimized(matrix):\n",
    "\n",
    "    max_row_index = 0\n",
    "    max_zeros = -1\n",
    "    for i in range(len(matrix)):\n",
    "        index = first_zero(matrix[i], 0, len(matrix[i])-1)\n",
    "        if index != -1 and len(matrix[i])-index > max_zeros:\n",
    "            max_zeros = len(matrix[i])-index\n",
    "            max_row_index = i\n",
    "    return max_row_index\n",
    "\n",
    "    \n",
    "max_zeros_row_optimized([[1,1,0],[0,1,0], [0,0,0]]) "
   ]
  },
  {
   "cell_type": "markdown",
   "id": "5432fba8",
   "metadata": {},
   "source": [
    "#### Problem 10 : Sort an array of 0’s, 1’s and 2’s [or R’s, G’s and B’s]: Given an array A[] consisting of 0’s, 1’s and 2’s, give an algorithm for sorting A[].The algorithm should put all 0’s first, then all 1’s and finally all 2’s at the end. Example Input = {0,1,1,0,1,2,1,2,0,0,0,1}, Output = {0,0,0,0,0,1,1,1,1,1,2,2}"
   ]
  },
  {
   "cell_type": "code",
   "execution_count": 15,
   "id": "95fdfbfa",
   "metadata": {},
   "outputs": [
    {
     "name": "stdout",
     "output_type": "stream",
     "text": [
      "0 0 0 0 0 1 1 1 1 1 2 2 "
     ]
    }
   ],
   "source": [
    "# Time complexity = O(n) --> 4n operations\n",
    "# Space complexity =O(1)\n",
    "# Using counting sort algorithm\n",
    "def sort_0s_1s_2s(arr):\n",
    "       \n",
    "    count_zeros = 0\n",
    "    count_ones = 0\n",
    "    count_twos = 0\n",
    "    \n",
    "    for i in range(len(arr)):\n",
    "        if arr[i] == 0:\n",
    "            count_zeros +=1\n",
    "        elif arr[i] == 1:\n",
    "            count_ones +=1\n",
    "        else:\n",
    "            count_twos +=1\n",
    "    for i in range(count_zeros):\n",
    "        print(0, end = \" \")\n",
    "    for i in range(count_ones):\n",
    "        print(1, end = \" \")\n",
    "    for i in range(count_twos):\n",
    "        print(2, end = \" \")\n",
    "    \n",
    "sort_0s_1s_2s([0,1,1,0,1,2,1,2,0,0,0,1])        "
   ]
  },
  {
   "cell_type": "code",
   "execution_count": 16,
   "id": "11ef98f0",
   "metadata": {},
   "outputs": [
    {
     "name": "stdout",
     "output_type": "stream",
     "text": [
      "[0, 0, 0, 0, 0, 1, 1, 1, 1, 1, 2, 2]\n"
     ]
    }
   ],
   "source": [
    "# Time complexity = O(n) --> n operations\n",
    "# Space complexity = O(1)\n",
    "\n",
    "\"\"\"This function maintains three pointers: low, mid, and high. It ensures all 0s are before low, all 2s are after high,\n",
    "   and all 1s are between low and high. This way, the array gets sorted in a single pass.\"\"\"\n",
    "def sort_0s_1s_2s_optimized(arr):\n",
    "    low = 0\n",
    "    mid = 0\n",
    "    high = len(arr) - 1\n",
    "\n",
    "    while mid <= high:\n",
    "        if arr[mid] == 0:\n",
    "            arr[low], arr[mid] = arr[mid], arr[low]\n",
    "            low += 1\n",
    "            mid += 1\n",
    "        elif arr[mid] == 1:\n",
    "            mid += 1\n",
    "        else:\n",
    "            arr[mid], arr[high] = arr[high], arr[mid]\n",
    "            high -= 1\n",
    "    return arr\n",
    "\n",
    "print(sort_0s_1s_2s_optimized([0,1,1,0,1,2,1,2,0,0,0,1]))"
   ]
  }
 ],
 "metadata": {
  "kernelspec": {
   "display_name": "Python 3",
   "language": "python",
   "name": "python3"
  },
  "language_info": {
   "codemirror_mode": {
    "name": "ipython",
    "version": 3
   },
   "file_extension": ".py",
   "mimetype": "text/x-python",
   "name": "python",
   "nbconvert_exporter": "python",
   "pygments_lexer": "ipython3",
   "version": "3.8.8"
  }
 },
 "nbformat": 4,
 "nbformat_minor": 5
}

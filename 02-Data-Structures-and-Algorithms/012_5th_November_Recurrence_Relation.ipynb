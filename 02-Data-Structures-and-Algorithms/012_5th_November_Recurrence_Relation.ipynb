{
 "cells": [
  {
   "cell_type": "markdown",
   "id": "4cc7f238",
   "metadata": {},
   "source": [
    "## PW-Skills Assignment 12: Recurrence Relation"
   ]
  },
  {
   "cell_type": "markdown",
   "id": "c2eda49f",
   "metadata": {},
   "source": [
    "#### Q1. Find the value of T(2) for the recurrence relation T(n) = 3T(n-1) + 12n, given that T(0) = 5."
   ]
  },
  {
   "cell_type": "markdown",
   "id": "0073f89e",
   "metadata": {},
   "source": [
    "#### Answer:\n",
    "First, we find T(1) using the given recurrence relation:\n",
    "\n",
    "$T(1) = 3T(1-1) + 121 = 3T(0) + 12 = 35 + 12 = 15 + 12 = 27$\n",
    "\n",
    "Next, we find $T(2)$:\n",
    "\n",
    "$T(2) = 3T(2-1) + 122 = 3T(1) + 24 = 327 + 24 = 81 + 24 = 105$\n",
    "\n",
    "So, $T(2) = 105$.\n"
   ]
  },
  {
   "cell_type": "code",
   "execution_count": 1,
   "id": "5c418d8e",
   "metadata": {},
   "outputs": [
    {
     "name": "stdout",
     "output_type": "stream",
     "text": [
      "105\n"
     ]
    }
   ],
   "source": [
    "def T(n):\n",
    "    if n == 0:\n",
    "        return 5\n",
    "    else:\n",
    "        return 3*T(n-1) + 12*n\n",
    "\n",
    "print(T(2))"
   ]
  },
  {
   "cell_type": "markdown",
   "id": "eb4eb080",
   "metadata": {},
   "source": [
    "#### Q2. Given a recurrence relation, solve it using the substitution method:\n",
    "#### a. T(n) = T(n-1) + c\n",
    "#### b. T(n) = 2T(n/2) + n\n",
    "#### c. T(n) = 2T(n/2) + c\n",
    "#### d. T(n) = T(n/2) + c"
   ]
  },
  {
   "cell_type": "markdown",
   "id": "36563f8b",
   "metadata": {},
   "source": [
    "##### Answer: \n",
    "#### (a)\n",
    "\n",
    "Given the recurrence relation $T(n) = T(n-1) + c$,\n",
    "\n",
    "Assume $T(0) = c_0$ as the initial condition.\n",
    "\n",
    "We can expand this as follows:\n",
    "\n",
    "$T(n) = T(n-1) + c$\n",
    "\n",
    "$T(n-1) = T(n-2) + c$\n",
    "\n",
    "$T(n-2) = T(n-3) + c$\n",
    "\n",
    "...\n",
    "\n",
    "$T(2) = T(1) + c$\n",
    "\n",
    "$T(1) = T(0) + c$\n",
    "\n",
    "Adding all these equations, we get\n",
    "\n",
    "$T(n) = n*c + c_0$\n",
    "\n",
    "$T(n) = O(n)$\n",
    "\n",
    "#### (b)\n",
    "Given the recurrence relation $T(n) = 2T(n/2) + n$\n",
    "\n",
    "**Step 1:** Start with the given equation:\n",
    "\n",
    "   $$T(n) = 2T\\left(\\frac{n}{2}\\right) + n$$\n",
    "\n",
    "**Step 2:** Substitute for T(n/2) from the original equation:\n",
    "\n",
    "   $$T(n) = 2\\left[2T\\left(\\frac{n}{4}\\right) + \\frac{n}{2}\\right] + n = 4T\\left(\\frac{n}{4}\\right) + 2n$$\n",
    "\n",
    "**Step 3:** Substitute for T(n/4) from the original equation:\n",
    "\n",
    "   $$T(n) = 4\\left[2T\\left(\\frac{n}{8}\\right) + \\frac{n}{4}\\right] + 2n = 8T\\left(\\frac{n}{8}\\right) + 3n$$\n",
    "\n",
    "Continue this process of substitution. After k steps, we will get:\n",
    "\n",
    "$$T(n) = 2^kT\\left(\\frac{n}{2^k}\\right) + kn$$\n",
    "\n",
    "When $$\\frac{n}{2^k} = 1$$, or equivalently, when $$k = \\log_2{n}$$, we reach the base case. Substituting these values in, we get:\n",
    "\n",
    "$$T(n) = nT(1) + n\\log_2{n} = n + n\\log_2{n}$$\n",
    "\n",
    "So, the time complexity of the given recurrence relation is $$O(n\\log{n})$$.\n",
    "\n",
    "#### (c)\n",
    "Given the recurrence relation $T(n) = 2T(n/2) + c$:\n",
    "\n",
    "**Step 1:** Start with the given equation:\n",
    "\n",
    "   $$T(n) = 2T\\left(\\frac{n}{2}\\right) + c$$\n",
    "\n",
    "**Step 2:** Substitute for T(n/2) from the original equation:\n",
    "\n",
    "   $$T(n) = 2\\left[2T\\left(\\frac{n}{4}\\right) + c\\right] + c = 4T\\left(\\frac{n}{4}\\right) + 2c$$\n",
    "\n",
    "**Step 3:** Substitute for T(n/4) from the original equation:\n",
    "\n",
    "   $$T(n) = 4\\left[2T\\left(\\frac{n}{8}\\right) + c\\right] + 2c = 8T\\left(\\frac{n}{8}\\right) + 3c$$\n",
    "\n",
    "Continue this process of substitution. After k steps, we will get:\n",
    "\n",
    "$$T(n) = 2^kT\\left(\\frac{n}{2^k}\\right) + kc$$\n",
    "\n",
    "When $$\\frac{n}{2^k} = 1$$, or equivalently, when $$k = \\log_2{n}$$, we reach the base case. Substituting these values in, we get:\n",
    "\n",
    "$$T(n) = nT(1) + c\\log_2{n} = n + c\\log_2{n}$$\n",
    "\n",
    "So, the time complexity of the given recurrence relation is $$O(n)$$.\n",
    "\n",
    "#### (d)\n",
    "\n",
    "Given the recurrence relation $T(n) = T(n/2) + c$ \n",
    "\n",
    "**Step 1:** Start with the given equation:\n",
    "\n",
    "   $$T(n) = T\\left(\\frac{n}{2}\\right) + c$$\n",
    "\n",
    "**Step 2:** Substitute for T(n/2) from the original equation:\n",
    "\n",
    "   $$T(n) = \\left[T\\left(\\frac{n}{4}\\right) + c\\right] + c = 2T\\left(\\frac{n}{4}\\right) + 2c$$\n",
    "\n",
    "**Step 3:** Substitute for T(n/4) from the original equation:\n",
    "\n",
    "   $$T(n) = 2\\left[T\\left(\\frac{n}{8}\\right) + c\\right] + 2c = 3T\\left(\\frac{n}{8}\\right) + 3c$$\n",
    "\n",
    "Continue this process of substitution. After k steps, we will get:\n",
    "\n",
    "$$T(n) = kT\\left(\\frac{n}{2^k}\\right) + kc$$\n",
    "\n",
    "When $$\\frac{n}{2^k} = 1$$, or equivalently, when $$k = \\log_2{n}$$, we reach the base case. Substituting these values in, we get:\n",
    "\n",
    "$$T(n) = nT(1) + c\\log_2{n} = n + c\\log_2{n}$$\n",
    "\n",
    "So, the time complexity of the given recurrence relation is $$O(n)$$."
   ]
  },
  {
   "cell_type": "markdown",
   "id": "04d6e660",
   "metadata": {},
   "source": [
    "#### Q3. Given a recurrence relation, solve it using the recursive tree approach:\n",
    "#### a. T(n) = 2T(n-1) + 1\n",
    "#### b. T(n) = 2T(n/2) + n"
   ]
  },
  {
   "cell_type": "markdown",
   "id": "b6e18fe0",
   "metadata": {},
   "source": [
    "#### Ans.\n",
    "\n",
    "#### (a) \n",
    "\n",
    "The given recurrence relation is:\n",
    "\n",
    "$$T(n) = 2T(n-1) + 1$$\n",
    "\n",
    "This can be visualized as a binary tree where each node represents a term in the expansion of the recurrence. The root of the tree is `T(n)`, and it has two children `T(n-1)` and `1`. Each `T(n-1)` node further branches into `T(n-2)` and `1`, and so on.\n",
    "\n",
    "The cost at each level `i` of the tree is `2^i`, because there are `2^i` nodes at level `i` and each contributes a cost of `1`. The height of the tree is `n`, so the total cost is the sum of the costs at all levels from `0` to `n`.\n",
    "\n",
    "Therefore, the solution to the recurrence is:\n",
    "\n",
    "$$T(n) = \\sum_{i=0}^{n} 2^i = 2^{n+1} - 1$$\n",
    "\n",
    "This is because the sum of a geometric series with ratio `2` and `n+1` terms is `2^{n+1} - 1`.\n",
    "\n",
    "So, the time complexity of the recurrence relation is `O(2^n)`.\n",
    "\n",
    "#### (b) \n",
    "\n",
    "The given recurrence relation is:\n",
    "\n",
    "$$T(n) = 2T\\left(\\frac{n}{2}\\right) + n$$\n",
    "\n",
    "This is a divide-and-conquer type of recurrence relation where the problem of size `n` is divided into two subproblems of size `n/2`, with an additional linear work (`n`) to combine the results.\n",
    "\n",
    "We can visualize this as a binary tree where each node represents a term in the expansion of the recurrence. The root of the tree is `T(n)`, and it has two children `T(n/2)` and `n`. Each `T(n/2)` node further branches into `T(n/4)` and `n/2`, and so on.\n",
    "\n",
    "The cost at each level `i` of the tree is `n`, because there are `2^i` nodes at level `i` and each contributes a cost of `n/2^i`. The height of the tree is `log(n)`, so the total cost is the sum of the costs at all levels from `0` to `log(n)`.\n",
    "\n",
    "Therefore, the solution to the recurrence is:\n",
    "\n",
    "$$T(n) = \\sum_{i=0}^{\\log(n)} n = n \\log(n)$$\n",
    "\n",
    "So, the time complexity of the recurrence relation is `O(n log n)`. "
   ]
  }
 ],
 "metadata": {
  "kernelspec": {
   "display_name": "Python 3",
   "language": "python",
   "name": "python3"
  },
  "language_info": {
   "codemirror_mode": {
    "name": "ipython",
    "version": 3
   },
   "file_extension": ".py",
   "mimetype": "text/x-python",
   "name": "python",
   "nbconvert_exporter": "python",
   "pygments_lexer": "ipython3",
   "version": "3.8.8"
  }
 },
 "nbformat": 4,
 "nbformat_minor": 5
}

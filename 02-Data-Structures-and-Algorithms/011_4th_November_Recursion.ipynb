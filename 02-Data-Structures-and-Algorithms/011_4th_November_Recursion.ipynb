{
 "cells": [
  {
   "cell_type": "markdown",
   "id": "1c007048",
   "metadata": {},
   "source": [
    "## Assignment - 11 : Recursion "
   ]
  },
  {
   "cell_type": "markdown",
   "id": "6ad830b0",
   "metadata": {},
   "source": [
    "#### Q.1 Can you explain the logic and working of the Tower of Hanoi algorithm by writing a Python program? How does the recursion work, and how are the movements of disks between rods accomplished?"
   ]
  },
  {
   "cell_type": "markdown",
   "id": "87171b57",
   "metadata": {},
   "source": [
    "##### Solution:\n",
    "\n",
    "The Tower of Hanoi is a mathematical puzzle that involves three rods and a number of disks of different sizes which can slide onto any rod. The puzzle starts with the disks stacked on one rod in order of size, the smallest at the top, thus forming a conical shape.\n",
    "\n",
    "The objective of the puzzle is to move the entire stack to another rod, obeying the following rules:\n",
    "\n",
    "1. Only one disk can be moved at a time.\n",
    "\n",
    "\n",
    "2. Each move consists of taking the upper disk from one of the stacks and placing it on top of another    stack or on an empty rod.\n",
    "\n",
    "\n",
    "3. No disk may be placed on top of a smaller disk.\n",
    "\n",
    "\n",
    "###### Logic:\n",
    "\n",
    "The logic of the recursion works as follows:\n",
    "\n",
    "1. The problem is divided into two smaller problems of size n-1 in the first and third recursive          calls.\n",
    "\n",
    "\n",
    "2. The first recursive call moves n-1 disks from the source to the auxiliary rod.\n",
    "\n",
    "\n",
    "3. Then, the largest disk (disk n) is moved from the source to the destination rod.\n",
    "\n",
    "\n",
    "4. Finally, the third recursive call moves the n-1 disks that we left on the auxiliary rod to the        destination rod.\n",
    "\n",
    "\n",
    "5. The base case is when the disk to be moved is the smallest one (i.e., n==1), it is simply moved        from the source to the destination rod.\n",
    "\n",
    "This way, all disks end up on the destination rod in the correct order. The recursion ensures that the rules of the game are followed and that only smaller disks are placed on top of larger ones. The recursion ends when there are no more disks on the source rod. The auxiliary rod is used as a temporary rod to hold disks from the source rod while they are being moved."
   ]
  },
  {
   "cell_type": "code",
   "execution_count": 5,
   "id": "b1986b8f",
   "metadata": {},
   "outputs": [
    {
     "name": "stdout",
     "output_type": "stream",
     "text": [
      "Move disk 1 from rod A to rod C\n",
      "Move disk 2 from rod A to rod B\n",
      "Move disk 1 from rod C to rod B\n",
      "Move disk 3 from rod A to rod C\n",
      "Move disk 1 from rod B to rod A\n",
      "Move disk 2 from rod B to rod C\n",
      "Move disk 1 from rod A to rod C\n"
     ]
    }
   ],
   "source": [
    "def TowerOfHanoi(n , source, destination, auxiliary):\n",
    "    \n",
    "   if n==1:\n",
    "       print(\"Move disk 1 from rod\",source,\"to rod\",destination)\n",
    "       return\n",
    "   TowerOfHanoi(n-1, source, auxiliary, destination)\n",
    "   print(\"Move disk\",n,\"from rod\",source,\"to rod\",destination)\n",
    "   TowerOfHanoi(n-1, auxiliary, destination, source)\n",
    "TowerOfHanoi(3, 'A', 'C', 'B')  # A, B and C are names of rods"
   ]
  },
  {
   "cell_type": "markdown",
   "id": "5527b352",
   "metadata": {},
   "source": [
    "#### Q.2 Given two strings word1 and word2, return the minimum number of operations required to convert word1 to word2."
   ]
  },
  {
   "cell_type": "code",
   "execution_count": null,
   "id": "025129ba",
   "metadata": {},
   "outputs": [],
   "source": [
    "# Example 1:\n",
    "# Input: word1 = \"horse\", word2 = \"ros\"\n",
    "# Output: 3\n",
    "# Explanation:\n",
    "# horse -> rorse (replace 'h' with 'r')\n",
    "# rorse -> rose (remove 'r')\n",
    "# rose -> ros (remove 'e')\n",
    "# Example 2:\n",
    "# Input: word1 = \"intention\", word2 = \"execution\"\n",
    "# Output: 5\n",
    "# Explanation:\n",
    "# intention -> inention (remove 't')\n",
    "# inention -> enention (replace 'i' with 'e')\n",
    "# enention -> exention (replace 'n' with 'x')\n",
    "# exention -> exection (replace 'n' with 'c')\n",
    "# exection -> execution (insert 'u')"
   ]
  },
  {
   "cell_type": "code",
   "execution_count": 2,
   "id": "9e42fa2a",
   "metadata": {},
   "outputs": [
    {
     "name": "stdout",
     "output_type": "stream",
     "text": [
      "3\n",
      "5\n"
     ]
    }
   ],
   "source": [
    "def min_operations(word1, word2):\n",
    "    m, n = len(word1), len(word2)\n",
    "    dp = [[0 for _ in range(n+1)] for _ in range(m+1)]\n",
    "\n",
    "    for i in range(m+1):\n",
    "        for j in range(n+1):\n",
    "            if i == 0:\n",
    "                dp[i][j] = j\n",
    "            elif j == 0:\n",
    "                dp[i][j] = i\n",
    "            elif word1[i-1] == word2[j-1]:\n",
    "                dp[i][j] = dp[i-1][j-1]\n",
    "            else:\n",
    "                dp[i][j] = 1 + min(dp[i][j-1], dp[i-1][j], dp[i-1][j-1])\n",
    "\n",
    "    return dp[m][n]\n",
    "print(min_operations(\"horse\", \"ros\"))  # Output: 3\n",
    "print(min_operations(\"intention\", \"execution\")) "
   ]
  },
  {
   "cell_type": "markdown",
   "id": "835d9f9d",
   "metadata": {},
   "source": [
    "#### Q. 3 Print the max value of the array [ 13, 1, -3, 22, 5]."
   ]
  },
  {
   "cell_type": "code",
   "execution_count": 3,
   "id": "b3ed4843",
   "metadata": {},
   "outputs": [
    {
     "name": "stdout",
     "output_type": "stream",
     "text": [
      "22\n"
     ]
    }
   ],
   "source": [
    "\"\"\"In this code, max_value is a recursive function that takes an array arr, an index index, and a max_val as arguments.\n",
    "   It compares the current element of the array with max_val and updates max_val if the current element is greater. The \n",
    "   function then calls itself with the next index and the updated max_val. When the index reaches the length of the array,\n",
    "   the function returns max_val, which is the maximum value in the array. The function is then tested with an \n",
    "   array [1, 2, 3, 4, 5]. The output of the print statement will be 5, which is the maximum value in the array. \n",
    "   Please replace the array [1, 2, 3, 4, 5] with your array to find its maximum value.\"\"\"\n",
    "\n",
    "\n",
    "def max_value(arr, index=0, max_val=None):\n",
    "    if index == len(arr):\n",
    "        return max_val\n",
    "    else:\n",
    "        if max_val is None or arr[index] > max_val:\n",
    "            max_val = arr[index]\n",
    "        return max_value(arr, index+1, max_val)\n",
    "\n",
    "# Test the function\n",
    "arr = [1, 2, 3, 4, 5]\n",
    "print(max_value([ 13, 1, -3, 22, 5]))"
   ]
  },
  {
   "cell_type": "markdown",
   "id": "5fcb1f75",
   "metadata": {},
   "source": [
    "#### Q.4 Find the sum of the values of the array [92, 23, 15, -20, 10]."
   ]
  },
  {
   "cell_type": "code",
   "execution_count": 5,
   "id": "a4f2a303",
   "metadata": {},
   "outputs": [
    {
     "name": "stdout",
     "output_type": "stream",
     "text": [
      "The sum of the values in the array is: 120\n"
     ]
    }
   ],
   "source": [
    "\"\"\"This code defines a function recursive_sum that takes an array as input. If the array is empty, it returns 0. Otherwise, \n",
    "   it returns the sum of the first element and the result of calling recursive_sum on the rest of the array. This is a\n",
    "   recursive process that continues until the array is empty. The sum of the array is then printed out.\"\"\"\n",
    "\n",
    "\n",
    "def recursive_sum(array):\n",
    "    # Base case: if the array is empty, return 0\n",
    "    if not array:\n",
    "        return 0\n",
    "    else:\n",
    "        # Recursive case: return the first element of the array plus the sum of the rest of the array\n",
    "        return array[0] + recursive_sum(array[1:])\n",
    "\n",
    "# Define the array\n",
    "array = [92, 23, 15, -20, 10]\n",
    "\n",
    "# Calculate the sum\n",
    "sum_of_values = recursive_sum(array)\n",
    "\n",
    "print(\"The sum of the values in the array is:\", sum_of_values)"
   ]
  },
  {
   "cell_type": "markdown",
   "id": "cf69354a",
   "metadata": {},
   "source": [
    "#### Q.5 Given a number n. Print if it is an armstrong number or not.An armstrong number is a number if the sum of every digit in that number raised to the power of total digits in that number is equal to the number.\n",
    "\n",
    "\n",
    "Example : 153 = 1^3 + 5^3 + 3^3 = 1 + 125 + 27 = 153 hence 153 is an armstrong number. (Easy)\n",
    "\n",
    "Input1 : 153\n",
    "\n",
    "Output1 : Yes\n",
    "\n",
    "Input 2 : 134\n",
    "\n",
    "Output2 : No"
   ]
  },
  {
   "cell_type": "code",
   "execution_count": 1,
   "id": "fe101b33",
   "metadata": {},
   "outputs": [
    {
     "name": "stdout",
     "output_type": "stream",
     "text": [
      "True\n",
      "False\n"
     ]
    }
   ],
   "source": [
    "\"\"\"This function works by recursively subtracting the last digit raised to the power of the total number of digits from \n",
    "   the original number, and checking if the result is zero. If it is, then the number is an Armstrong number. Otherwise,\n",
    "   it’s not. The function uses the len(str(n)) to calculate the number of digits in n. The num parameter is used to keep \n",
    "   track of the remaining part of the number after removing the last digit in each recursive call. The power parameter is \n",
    "   used to store the total number of digits in the original number n. The function returns True if the number is an\n",
    "   Armstrong number, and False otherwise. The test cases check the function with known Armstrong numbers and a non-Armstrong\n",
    "   number. The function correctly identifies the Armstrong numbers and the non-Armstrong number.\"\"\"\n",
    "\n",
    "def is_armstrong(n, num=None, power=None):\n",
    "    if num is None and power is None:\n",
    "        num = n\n",
    "        power = len(str(n))\n",
    "    if num == 0:\n",
    "        return n == 0\n",
    "    else:\n",
    "        digit = num % 10\n",
    "        return is_armstrong(n - digit ** power, num // 10, power)\n",
    "\n",
    "# Test the function\n",
    "print(is_armstrong(153))  # True\n",
    "print(is_armstrong(9475))  # False"
   ]
  }
 ],
 "metadata": {
  "kernelspec": {
   "display_name": "Python 3",
   "language": "python",
   "name": "python3"
  },
  "language_info": {
   "codemirror_mode": {
    "name": "ipython",
    "version": 3
   },
   "file_extension": ".py",
   "mimetype": "text/x-python",
   "name": "python",
   "nbconvert_exporter": "python",
   "pygments_lexer": "ipython3",
   "version": "3.8.8"
  }
 },
 "nbformat": 4,
 "nbformat_minor": 5
}
